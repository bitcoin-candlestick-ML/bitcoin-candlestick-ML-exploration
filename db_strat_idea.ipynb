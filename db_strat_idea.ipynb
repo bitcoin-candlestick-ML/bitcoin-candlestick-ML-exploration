{
 "cells": [
  {
   "cell_type": "code",
   "execution_count": 12,
   "id": "7ab7a656",
   "metadata": {},
   "outputs": [],
   "source": [
    "import mplfinance as mpf\n",
    "import pandas as pd\n",
    "from pathlib import Path\n",
    "import numpy as np\n",
    "import datetime"
   ]
  },
  {
   "cell_type": "code",
   "execution_count": 13,
   "id": "344a6f12",
   "metadata": {},
   "outputs": [
    {
     "data": {
      "text/html": [
       "<div>\n",
       "<style scoped>\n",
       "    .dataframe tbody tr th:only-of-type {\n",
       "        vertical-align: middle;\n",
       "    }\n",
       "\n",
       "    .dataframe tbody tr th {\n",
       "        vertical-align: top;\n",
       "    }\n",
       "\n",
       "    .dataframe thead th {\n",
       "        text-align: right;\n",
       "    }\n",
       "</style>\n",
       "<table border=\"1\" class=\"dataframe\">\n",
       "  <thead>\n",
       "    <tr style=\"text-align: right;\">\n",
       "      <th></th>\n",
       "      <th>Open</th>\n",
       "      <th>High</th>\n",
       "      <th>Low</th>\n",
       "      <th>Close</th>\n",
       "      <th>Adj Close</th>\n",
       "      <th>Volume</th>\n",
       "    </tr>\n",
       "    <tr>\n",
       "      <th>Date</th>\n",
       "      <th></th>\n",
       "      <th></th>\n",
       "      <th></th>\n",
       "      <th></th>\n",
       "      <th></th>\n",
       "      <th></th>\n",
       "    </tr>\n",
       "  </thead>\n",
       "  <tbody>\n",
       "    <tr>\n",
       "      <th>2020-10-05</th>\n",
       "      <td>10688.034180</td>\n",
       "      <td>10804.000977</td>\n",
       "      <td>10646.443359</td>\n",
       "      <td>10804.000977</td>\n",
       "      <td>10804.000977</td>\n",
       "      <td>1.938519e+10</td>\n",
       "    </tr>\n",
       "    <tr>\n",
       "      <th>2020-10-06</th>\n",
       "      <td>10799.778320</td>\n",
       "      <td>10803.456055</td>\n",
       "      <td>10565.197266</td>\n",
       "      <td>10621.664063</td>\n",
       "      <td>10621.664063</td>\n",
       "      <td>2.226496e+10</td>\n",
       "    </tr>\n",
       "    <tr>\n",
       "      <th>2020-10-07</th>\n",
       "      <td>10619.803711</td>\n",
       "      <td>10687.268555</td>\n",
       "      <td>10591.963867</td>\n",
       "      <td>10679.136719</td>\n",
       "      <td>10679.136719</td>\n",
       "      <td>1.763439e+10</td>\n",
       "    </tr>\n",
       "    <tr>\n",
       "      <th>2020-10-08</th>\n",
       "      <td>10677.625000</td>\n",
       "      <td>10939.799805</td>\n",
       "      <td>10569.823242</td>\n",
       "      <td>10923.627930</td>\n",
       "      <td>10923.627930</td>\n",
       "      <td>2.196212e+10</td>\n",
       "    </tr>\n",
       "    <tr>\n",
       "      <th>2020-10-09</th>\n",
       "      <td>NaN</td>\n",
       "      <td>NaN</td>\n",
       "      <td>NaN</td>\n",
       "      <td>NaN</td>\n",
       "      <td>NaN</td>\n",
       "      <td>NaN</td>\n",
       "    </tr>\n",
       "  </tbody>\n",
       "</table>\n",
       "</div>"
      ],
      "text/plain": [
       "                    Open          High           Low         Close  \\\n",
       "Date                                                                 \n",
       "2020-10-05  10688.034180  10804.000977  10646.443359  10804.000977   \n",
       "2020-10-06  10799.778320  10803.456055  10565.197266  10621.664063   \n",
       "2020-10-07  10619.803711  10687.268555  10591.963867  10679.136719   \n",
       "2020-10-08  10677.625000  10939.799805  10569.823242  10923.627930   \n",
       "2020-10-09           NaN           NaN           NaN           NaN   \n",
       "\n",
       "               Adj Close        Volume  \n",
       "Date                                    \n",
       "2020-10-05  10804.000977  1.938519e+10  \n",
       "2020-10-06  10621.664063  2.226496e+10  \n",
       "2020-10-07  10679.136719  1.763439e+10  \n",
       "2020-10-08  10923.627930  2.196212e+10  \n",
       "2020-10-09           NaN           NaN  "
      ]
     },
     "metadata": {},
     "output_type": "display_data"
    },
    {
     "data": {
      "text/html": [
       "<div>\n",
       "<style scoped>\n",
       "    .dataframe tbody tr th:only-of-type {\n",
       "        vertical-align: middle;\n",
       "    }\n",
       "\n",
       "    .dataframe tbody tr th {\n",
       "        vertical-align: top;\n",
       "    }\n",
       "\n",
       "    .dataframe thead th {\n",
       "        text-align: right;\n",
       "    }\n",
       "</style>\n",
       "<table border=\"1\" class=\"dataframe\">\n",
       "  <thead>\n",
       "    <tr style=\"text-align: right;\">\n",
       "      <th></th>\n",
       "      <th>Open</th>\n",
       "      <th>High</th>\n",
       "      <th>Low</th>\n",
       "      <th>Close</th>\n",
       "      <th>Adj Close</th>\n",
       "      <th>Volume</th>\n",
       "    </tr>\n",
       "    <tr>\n",
       "      <th>Date</th>\n",
       "      <th></th>\n",
       "      <th></th>\n",
       "      <th></th>\n",
       "      <th></th>\n",
       "      <th></th>\n",
       "      <th></th>\n",
       "    </tr>\n",
       "  </thead>\n",
       "  <tbody>\n",
       "    <tr>\n",
       "      <th>2021-10-01</th>\n",
       "      <td>43816.742188</td>\n",
       "      <td>48436.011719</td>\n",
       "      <td>43320.023438</td>\n",
       "      <td>48116.941406</td>\n",
       "      <td>48116.941406</td>\n",
       "      <td>4.285064e+10</td>\n",
       "    </tr>\n",
       "    <tr>\n",
       "      <th>2021-10-02</th>\n",
       "      <td>48137.468750</td>\n",
       "      <td>48282.062500</td>\n",
       "      <td>47465.496094</td>\n",
       "      <td>47711.488281</td>\n",
       "      <td>47711.488281</td>\n",
       "      <td>3.061435e+10</td>\n",
       "    </tr>\n",
       "    <tr>\n",
       "      <th>2021-10-03</th>\n",
       "      <td>47680.027344</td>\n",
       "      <td>49130.691406</td>\n",
       "      <td>47157.289063</td>\n",
       "      <td>48199.953125</td>\n",
       "      <td>48199.953125</td>\n",
       "      <td>2.663812e+10</td>\n",
       "    </tr>\n",
       "    <tr>\n",
       "      <th>2021-10-04</th>\n",
       "      <td>48208.906250</td>\n",
       "      <td>49456.777344</td>\n",
       "      <td>47045.003906</td>\n",
       "      <td>49112.902344</td>\n",
       "      <td>49112.902344</td>\n",
       "      <td>3.338317e+10</td>\n",
       "    </tr>\n",
       "    <tr>\n",
       "      <th>2021-10-05</th>\n",
       "      <td>49164.750000</td>\n",
       "      <td>51282.441406</td>\n",
       "      <td>49119.136719</td>\n",
       "      <td>51267.457031</td>\n",
       "      <td>51267.457031</td>\n",
       "      <td>3.463356e+10</td>\n",
       "    </tr>\n",
       "  </tbody>\n",
       "</table>\n",
       "</div>"
      ],
      "text/plain": [
       "                    Open          High           Low         Close  \\\n",
       "Date                                                                 \n",
       "2021-10-01  43816.742188  48436.011719  43320.023438  48116.941406   \n",
       "2021-10-02  48137.468750  48282.062500  47465.496094  47711.488281   \n",
       "2021-10-03  47680.027344  49130.691406  47157.289063  48199.953125   \n",
       "2021-10-04  48208.906250  49456.777344  47045.003906  49112.902344   \n",
       "2021-10-05  49164.750000  51282.441406  49119.136719  51267.457031   \n",
       "\n",
       "               Adj Close        Volume  \n",
       "Date                                    \n",
       "2021-10-01  48116.941406  4.285064e+10  \n",
       "2021-10-02  47711.488281  3.061435e+10  \n",
       "2021-10-03  48199.953125  2.663812e+10  \n",
       "2021-10-04  49112.902344  3.338317e+10  \n",
       "2021-10-05  51267.457031  3.463356e+10  "
      ]
     },
     "metadata": {},
     "output_type": "display_data"
    }
   ],
   "source": [
    "# Get BTC OHLCV dataframe\n",
    "df = pd.read_csv(Path(\"BTC-USD-20201005-20211005.csv\"), index_col=\"Date\", parse_dates=True, infer_datetime_format=True)\n",
    "display(df.head())\n",
    "display(df.tail())"
   ]
  },
  {
   "cell_type": "code",
   "execution_count": 72,
   "id": "70f39ed5",
   "metadata": {},
   "outputs": [
    {
     "data": {
      "text/html": [
       "<div>\n",
       "<style scoped>\n",
       "    .dataframe tbody tr th:only-of-type {\n",
       "        vertical-align: middle;\n",
       "    }\n",
       "\n",
       "    .dataframe tbody tr th {\n",
       "        vertical-align: top;\n",
       "    }\n",
       "\n",
       "    .dataframe thead th {\n",
       "        text-align: right;\n",
       "    }\n",
       "</style>\n",
       "<table border=\"1\" class=\"dataframe\">\n",
       "  <thead>\n",
       "    <tr style=\"text-align: right;\">\n",
       "      <th></th>\n",
       "      <th>Open</th>\n",
       "      <th>High</th>\n",
       "      <th>Low</th>\n",
       "      <th>Close</th>\n",
       "      <th>Adj Close</th>\n",
       "      <th>Volume</th>\n",
       "    </tr>\n",
       "    <tr>\n",
       "      <th>Date</th>\n",
       "      <th></th>\n",
       "      <th></th>\n",
       "      <th></th>\n",
       "      <th></th>\n",
       "      <th></th>\n",
       "      <th></th>\n",
       "    </tr>\n",
       "  </thead>\n",
       "  <tbody>\n",
       "    <tr>\n",
       "      <th>2021-01-16</th>\n",
       "      <td>36821.648438</td>\n",
       "      <td>37864.367188</td>\n",
       "      <td>35633.554688</td>\n",
       "      <td>36178.140625</td>\n",
       "      <td>36178.140625</td>\n",
       "      <td>5.770619e+10</td>\n",
       "    </tr>\n",
       "    <tr>\n",
       "      <th>2021-01-17</th>\n",
       "      <td>36163.648438</td>\n",
       "      <td>36722.351563</td>\n",
       "      <td>34069.320313</td>\n",
       "      <td>35791.277344</td>\n",
       "      <td>35791.277344</td>\n",
       "      <td>5.235985e+10</td>\n",
       "    </tr>\n",
       "    <tr>\n",
       "      <th>2021-01-18</th>\n",
       "      <td>35792.238281</td>\n",
       "      <td>37299.285156</td>\n",
       "      <td>34883.843750</td>\n",
       "      <td>36630.074219</td>\n",
       "      <td>36630.074219</td>\n",
       "      <td>4.951170e+10</td>\n",
       "    </tr>\n",
       "    <tr>\n",
       "      <th>2021-01-19</th>\n",
       "      <td>36642.234375</td>\n",
       "      <td>37755.890625</td>\n",
       "      <td>36069.804688</td>\n",
       "      <td>36069.804688</td>\n",
       "      <td>36069.804688</td>\n",
       "      <td>5.724420e+10</td>\n",
       "    </tr>\n",
       "    <tr>\n",
       "      <th>2021-01-20</th>\n",
       "      <td>36050.113281</td>\n",
       "      <td>36378.328125</td>\n",
       "      <td>33570.476563</td>\n",
       "      <td>35547.750000</td>\n",
       "      <td>35547.750000</td>\n",
       "      <td>6.683457e+10</td>\n",
       "    </tr>\n",
       "  </tbody>\n",
       "</table>\n",
       "</div>"
      ],
      "text/plain": [
       "                    Open          High           Low         Close  \\\n",
       "Date                                                                 \n",
       "2021-01-16  36821.648438  37864.367188  35633.554688  36178.140625   \n",
       "2021-01-17  36163.648438  36722.351563  34069.320313  35791.277344   \n",
       "2021-01-18  35792.238281  37299.285156  34883.843750  36630.074219   \n",
       "2021-01-19  36642.234375  37755.890625  36069.804688  36069.804688   \n",
       "2021-01-20  36050.113281  36378.328125  33570.476563  35547.750000   \n",
       "\n",
       "               Adj Close        Volume  \n",
       "Date                                    \n",
       "2021-01-16  36178.140625  5.770619e+10  \n",
       "2021-01-17  35791.277344  5.235985e+10  \n",
       "2021-01-18  36630.074219  4.951170e+10  \n",
       "2021-01-19  36069.804688  5.724420e+10  \n",
       "2021-01-20  35547.750000  6.683457e+10  "
      ]
     },
     "execution_count": 72,
     "metadata": {},
     "output_type": "execute_result"
    }
   ],
   "source": [
    "# Slice of double bottom\n",
    "intra = df.loc['01-16-2021':'02-17-2021']\n",
    "intra.head()"
   ]
  },
  {
   "cell_type": "code",
   "execution_count": 73,
   "id": "fc154491",
   "metadata": {},
   "outputs": [],
   "source": [
    "import plotly.graph_objects as go"
   ]
  },
  {
   "cell_type": "code",
   "execution_count": 74,
   "id": "9736732c",
   "metadata": {},
   "outputs": [
    {
     "data": {
      "application/vnd.plotly.v1+json": {
       "config": {
        "plotlyServerURL": "https://plot.ly"
       },
       "data": [
        {
         "close": [
          36178.140625,
          35791.277344,
          36630.074219,
          36069.804688,
          35547.75,
          30825.699219,
          33005.761719,
          32067.642578,
          32289.378906,
          32366.392578,
          32569.849609,
          30432.546875,
          31649.605469,
          34316.386719,
          34269.523438,
          33114.359375,
          33537.175781,
          35510.289063,
          37472.089844,
          36926.066406,
          38144.308594,
          39266.011719,
          38903.441406,
          46196.464844,
          46481.105469,
          44918.183594,
          47909.332031,
          47504.851563,
          47105.515625,
          48717.289063,
          47945.058594,
          49199.871094,
          52149.007813
         ],
         "high": [
          37864.367188,
          36722.351563,
          37299.285156,
          37755.890625,
          36378.328125,
          35552.679688,
          33811.851563,
          33360.976563,
          32944.007813,
          34802.742188,
          32794.550781,
          32564.029297,
          31891.300781,
          38406.261719,
          34834.707031,
          34288.332031,
          34638.214844,
          35896.882813,
          37480.1875,
          38592.175781,
          38225.90625,
          40846.546875,
          39621.835938,
          46203.929688,
          48003.722656,
          47145.566406,
          48463.46875,
          48745.734375,
          48047.746094,
          49487.640625,
          48875.570313,
          50341.101563,
          52533.914063
         ],
         "low": [
          35633.554688,
          34069.320313,
          34883.84375,
          36069.804688,
          33570.476563,
          30250.75,
          28953.373047,
          31493.160156,
          31106.685547,
          32087.787109,
          31030.265625,
          29367.138672,
          30023.207031,
          32064.814453,
          32940.1875,
          32270.175781,
          32384.228516,
          33489.21875,
          35443.984375,
          36317.5,
          36658.761719,
          38138.386719,
          37446.152344,
          38076.324219,
          45166.960938,
          43881.152344,
          44187.761719,
          46424.976563,
          46392.28125,
          47114.507813,
          46347.476563,
          47201.304688,
          49072.378906
         ],
         "open": [
          36821.648438,
          36163.648438,
          35792.238281,
          36642.234375,
          36050.113281,
          35549.398438,
          30817.625,
          32985.757813,
          32064.376953,
          32285.798828,
          32358.613281,
          32564.029297,
          30441.041016,
          34318.671875,
          34295.933594,
          34270.878906,
          33114.578125,
          33533.199219,
          35510.820313,
          37475.105469,
          36931.546875,
          38138.386719,
          39250.191406,
          38886.828125,
          46184.992188,
          46469.761719,
          44898.710938,
          47877.035156,
          47491.203125,
          47114.507813,
          48696.535156,
          47944.457031,
          49207.277344
         ],
         "type": "candlestick",
         "x": [
          "2021-01-16T00:00:00",
          "2021-01-17T00:00:00",
          "2021-01-18T00:00:00",
          "2021-01-19T00:00:00",
          "2021-01-20T00:00:00",
          "2021-01-21T00:00:00",
          "2021-01-22T00:00:00",
          "2021-01-23T00:00:00",
          "2021-01-24T00:00:00",
          "2021-01-25T00:00:00",
          "2021-01-26T00:00:00",
          "2021-01-27T00:00:00",
          "2021-01-28T00:00:00",
          "2021-01-29T00:00:00",
          "2021-01-30T00:00:00",
          "2021-01-31T00:00:00",
          "2021-02-01T00:00:00",
          "2021-02-02T00:00:00",
          "2021-02-03T00:00:00",
          "2021-02-04T00:00:00",
          "2021-02-05T00:00:00",
          "2021-02-06T00:00:00",
          "2021-02-07T00:00:00",
          "2021-02-08T00:00:00",
          "2021-02-09T00:00:00",
          "2021-02-10T00:00:00",
          "2021-02-11T00:00:00",
          "2021-02-12T00:00:00",
          "2021-02-13T00:00:00",
          "2021-02-14T00:00:00",
          "2021-02-15T00:00:00",
          "2021-02-16T00:00:00",
          "2021-02-17T00:00:00"
         ]
        }
       ],
       "layout": {
        "template": {
         "data": {
          "bar": [
           {
            "error_x": {
             "color": "#2a3f5f"
            },
            "error_y": {
             "color": "#2a3f5f"
            },
            "marker": {
             "line": {
              "color": "#E5ECF6",
              "width": 0.5
             },
             "pattern": {
              "fillmode": "overlay",
              "size": 10,
              "solidity": 0.2
             }
            },
            "type": "bar"
           }
          ],
          "barpolar": [
           {
            "marker": {
             "line": {
              "color": "#E5ECF6",
              "width": 0.5
             },
             "pattern": {
              "fillmode": "overlay",
              "size": 10,
              "solidity": 0.2
             }
            },
            "type": "barpolar"
           }
          ],
          "carpet": [
           {
            "aaxis": {
             "endlinecolor": "#2a3f5f",
             "gridcolor": "white",
             "linecolor": "white",
             "minorgridcolor": "white",
             "startlinecolor": "#2a3f5f"
            },
            "baxis": {
             "endlinecolor": "#2a3f5f",
             "gridcolor": "white",
             "linecolor": "white",
             "minorgridcolor": "white",
             "startlinecolor": "#2a3f5f"
            },
            "type": "carpet"
           }
          ],
          "choropleth": [
           {
            "colorbar": {
             "outlinewidth": 0,
             "ticks": ""
            },
            "type": "choropleth"
           }
          ],
          "contour": [
           {
            "colorbar": {
             "outlinewidth": 0,
             "ticks": ""
            },
            "colorscale": [
             [
              0,
              "#0d0887"
             ],
             [
              0.1111111111111111,
              "#46039f"
             ],
             [
              0.2222222222222222,
              "#7201a8"
             ],
             [
              0.3333333333333333,
              "#9c179e"
             ],
             [
              0.4444444444444444,
              "#bd3786"
             ],
             [
              0.5555555555555556,
              "#d8576b"
             ],
             [
              0.6666666666666666,
              "#ed7953"
             ],
             [
              0.7777777777777778,
              "#fb9f3a"
             ],
             [
              0.8888888888888888,
              "#fdca26"
             ],
             [
              1,
              "#f0f921"
             ]
            ],
            "type": "contour"
           }
          ],
          "contourcarpet": [
           {
            "colorbar": {
             "outlinewidth": 0,
             "ticks": ""
            },
            "type": "contourcarpet"
           }
          ],
          "heatmap": [
           {
            "colorbar": {
             "outlinewidth": 0,
             "ticks": ""
            },
            "colorscale": [
             [
              0,
              "#0d0887"
             ],
             [
              0.1111111111111111,
              "#46039f"
             ],
             [
              0.2222222222222222,
              "#7201a8"
             ],
             [
              0.3333333333333333,
              "#9c179e"
             ],
             [
              0.4444444444444444,
              "#bd3786"
             ],
             [
              0.5555555555555556,
              "#d8576b"
             ],
             [
              0.6666666666666666,
              "#ed7953"
             ],
             [
              0.7777777777777778,
              "#fb9f3a"
             ],
             [
              0.8888888888888888,
              "#fdca26"
             ],
             [
              1,
              "#f0f921"
             ]
            ],
            "type": "heatmap"
           }
          ],
          "heatmapgl": [
           {
            "colorbar": {
             "outlinewidth": 0,
             "ticks": ""
            },
            "colorscale": [
             [
              0,
              "#0d0887"
             ],
             [
              0.1111111111111111,
              "#46039f"
             ],
             [
              0.2222222222222222,
              "#7201a8"
             ],
             [
              0.3333333333333333,
              "#9c179e"
             ],
             [
              0.4444444444444444,
              "#bd3786"
             ],
             [
              0.5555555555555556,
              "#d8576b"
             ],
             [
              0.6666666666666666,
              "#ed7953"
             ],
             [
              0.7777777777777778,
              "#fb9f3a"
             ],
             [
              0.8888888888888888,
              "#fdca26"
             ],
             [
              1,
              "#f0f921"
             ]
            ],
            "type": "heatmapgl"
           }
          ],
          "histogram": [
           {
            "marker": {
             "pattern": {
              "fillmode": "overlay",
              "size": 10,
              "solidity": 0.2
             }
            },
            "type": "histogram"
           }
          ],
          "histogram2d": [
           {
            "colorbar": {
             "outlinewidth": 0,
             "ticks": ""
            },
            "colorscale": [
             [
              0,
              "#0d0887"
             ],
             [
              0.1111111111111111,
              "#46039f"
             ],
             [
              0.2222222222222222,
              "#7201a8"
             ],
             [
              0.3333333333333333,
              "#9c179e"
             ],
             [
              0.4444444444444444,
              "#bd3786"
             ],
             [
              0.5555555555555556,
              "#d8576b"
             ],
             [
              0.6666666666666666,
              "#ed7953"
             ],
             [
              0.7777777777777778,
              "#fb9f3a"
             ],
             [
              0.8888888888888888,
              "#fdca26"
             ],
             [
              1,
              "#f0f921"
             ]
            ],
            "type": "histogram2d"
           }
          ],
          "histogram2dcontour": [
           {
            "colorbar": {
             "outlinewidth": 0,
             "ticks": ""
            },
            "colorscale": [
             [
              0,
              "#0d0887"
             ],
             [
              0.1111111111111111,
              "#46039f"
             ],
             [
              0.2222222222222222,
              "#7201a8"
             ],
             [
              0.3333333333333333,
              "#9c179e"
             ],
             [
              0.4444444444444444,
              "#bd3786"
             ],
             [
              0.5555555555555556,
              "#d8576b"
             ],
             [
              0.6666666666666666,
              "#ed7953"
             ],
             [
              0.7777777777777778,
              "#fb9f3a"
             ],
             [
              0.8888888888888888,
              "#fdca26"
             ],
             [
              1,
              "#f0f921"
             ]
            ],
            "type": "histogram2dcontour"
           }
          ],
          "mesh3d": [
           {
            "colorbar": {
             "outlinewidth": 0,
             "ticks": ""
            },
            "type": "mesh3d"
           }
          ],
          "parcoords": [
           {
            "line": {
             "colorbar": {
              "outlinewidth": 0,
              "ticks": ""
             }
            },
            "type": "parcoords"
           }
          ],
          "pie": [
           {
            "automargin": true,
            "type": "pie"
           }
          ],
          "scatter": [
           {
            "marker": {
             "colorbar": {
              "outlinewidth": 0,
              "ticks": ""
             }
            },
            "type": "scatter"
           }
          ],
          "scatter3d": [
           {
            "line": {
             "colorbar": {
              "outlinewidth": 0,
              "ticks": ""
             }
            },
            "marker": {
             "colorbar": {
              "outlinewidth": 0,
              "ticks": ""
             }
            },
            "type": "scatter3d"
           }
          ],
          "scattercarpet": [
           {
            "marker": {
             "colorbar": {
              "outlinewidth": 0,
              "ticks": ""
             }
            },
            "type": "scattercarpet"
           }
          ],
          "scattergeo": [
           {
            "marker": {
             "colorbar": {
              "outlinewidth": 0,
              "ticks": ""
             }
            },
            "type": "scattergeo"
           }
          ],
          "scattergl": [
           {
            "marker": {
             "colorbar": {
              "outlinewidth": 0,
              "ticks": ""
             }
            },
            "type": "scattergl"
           }
          ],
          "scattermapbox": [
           {
            "marker": {
             "colorbar": {
              "outlinewidth": 0,
              "ticks": ""
             }
            },
            "type": "scattermapbox"
           }
          ],
          "scatterpolar": [
           {
            "marker": {
             "colorbar": {
              "outlinewidth": 0,
              "ticks": ""
             }
            },
            "type": "scatterpolar"
           }
          ],
          "scatterpolargl": [
           {
            "marker": {
             "colorbar": {
              "outlinewidth": 0,
              "ticks": ""
             }
            },
            "type": "scatterpolargl"
           }
          ],
          "scatterternary": [
           {
            "marker": {
             "colorbar": {
              "outlinewidth": 0,
              "ticks": ""
             }
            },
            "type": "scatterternary"
           }
          ],
          "surface": [
           {
            "colorbar": {
             "outlinewidth": 0,
             "ticks": ""
            },
            "colorscale": [
             [
              0,
              "#0d0887"
             ],
             [
              0.1111111111111111,
              "#46039f"
             ],
             [
              0.2222222222222222,
              "#7201a8"
             ],
             [
              0.3333333333333333,
              "#9c179e"
             ],
             [
              0.4444444444444444,
              "#bd3786"
             ],
             [
              0.5555555555555556,
              "#d8576b"
             ],
             [
              0.6666666666666666,
              "#ed7953"
             ],
             [
              0.7777777777777778,
              "#fb9f3a"
             ],
             [
              0.8888888888888888,
              "#fdca26"
             ],
             [
              1,
              "#f0f921"
             ]
            ],
            "type": "surface"
           }
          ],
          "table": [
           {
            "cells": {
             "fill": {
              "color": "#EBF0F8"
             },
             "line": {
              "color": "white"
             }
            },
            "header": {
             "fill": {
              "color": "#C8D4E3"
             },
             "line": {
              "color": "white"
             }
            },
            "type": "table"
           }
          ]
         },
         "layout": {
          "annotationdefaults": {
           "arrowcolor": "#2a3f5f",
           "arrowhead": 0,
           "arrowwidth": 1
          },
          "autotypenumbers": "strict",
          "coloraxis": {
           "colorbar": {
            "outlinewidth": 0,
            "ticks": ""
           }
          },
          "colorscale": {
           "diverging": [
            [
             0,
             "#8e0152"
            ],
            [
             0.1,
             "#c51b7d"
            ],
            [
             0.2,
             "#de77ae"
            ],
            [
             0.3,
             "#f1b6da"
            ],
            [
             0.4,
             "#fde0ef"
            ],
            [
             0.5,
             "#f7f7f7"
            ],
            [
             0.6,
             "#e6f5d0"
            ],
            [
             0.7,
             "#b8e186"
            ],
            [
             0.8,
             "#7fbc41"
            ],
            [
             0.9,
             "#4d9221"
            ],
            [
             1,
             "#276419"
            ]
           ],
           "sequential": [
            [
             0,
             "#0d0887"
            ],
            [
             0.1111111111111111,
             "#46039f"
            ],
            [
             0.2222222222222222,
             "#7201a8"
            ],
            [
             0.3333333333333333,
             "#9c179e"
            ],
            [
             0.4444444444444444,
             "#bd3786"
            ],
            [
             0.5555555555555556,
             "#d8576b"
            ],
            [
             0.6666666666666666,
             "#ed7953"
            ],
            [
             0.7777777777777778,
             "#fb9f3a"
            ],
            [
             0.8888888888888888,
             "#fdca26"
            ],
            [
             1,
             "#f0f921"
            ]
           ],
           "sequentialminus": [
            [
             0,
             "#0d0887"
            ],
            [
             0.1111111111111111,
             "#46039f"
            ],
            [
             0.2222222222222222,
             "#7201a8"
            ],
            [
             0.3333333333333333,
             "#9c179e"
            ],
            [
             0.4444444444444444,
             "#bd3786"
            ],
            [
             0.5555555555555556,
             "#d8576b"
            ],
            [
             0.6666666666666666,
             "#ed7953"
            ],
            [
             0.7777777777777778,
             "#fb9f3a"
            ],
            [
             0.8888888888888888,
             "#fdca26"
            ],
            [
             1,
             "#f0f921"
            ]
           ]
          },
          "colorway": [
           "#636efa",
           "#EF553B",
           "#00cc96",
           "#ab63fa",
           "#FFA15A",
           "#19d3f3",
           "#FF6692",
           "#B6E880",
           "#FF97FF",
           "#FECB52"
          ],
          "font": {
           "color": "#2a3f5f"
          },
          "geo": {
           "bgcolor": "white",
           "lakecolor": "white",
           "landcolor": "#E5ECF6",
           "showlakes": true,
           "showland": true,
           "subunitcolor": "white"
          },
          "hoverlabel": {
           "align": "left"
          },
          "hovermode": "closest",
          "mapbox": {
           "style": "light"
          },
          "paper_bgcolor": "white",
          "plot_bgcolor": "#E5ECF6",
          "polar": {
           "angularaxis": {
            "gridcolor": "white",
            "linecolor": "white",
            "ticks": ""
           },
           "bgcolor": "#E5ECF6",
           "radialaxis": {
            "gridcolor": "white",
            "linecolor": "white",
            "ticks": ""
           }
          },
          "scene": {
           "xaxis": {
            "backgroundcolor": "#E5ECF6",
            "gridcolor": "white",
            "gridwidth": 2,
            "linecolor": "white",
            "showbackground": true,
            "ticks": "",
            "zerolinecolor": "white"
           },
           "yaxis": {
            "backgroundcolor": "#E5ECF6",
            "gridcolor": "white",
            "gridwidth": 2,
            "linecolor": "white",
            "showbackground": true,
            "ticks": "",
            "zerolinecolor": "white"
           },
           "zaxis": {
            "backgroundcolor": "#E5ECF6",
            "gridcolor": "white",
            "gridwidth": 2,
            "linecolor": "white",
            "showbackground": true,
            "ticks": "",
            "zerolinecolor": "white"
           }
          },
          "shapedefaults": {
           "line": {
            "color": "#2a3f5f"
           }
          },
          "ternary": {
           "aaxis": {
            "gridcolor": "white",
            "linecolor": "white",
            "ticks": ""
           },
           "baxis": {
            "gridcolor": "white",
            "linecolor": "white",
            "ticks": ""
           },
           "bgcolor": "#E5ECF6",
           "caxis": {
            "gridcolor": "white",
            "linecolor": "white",
            "ticks": ""
           }
          },
          "title": {
           "x": 0.05
          },
          "xaxis": {
           "automargin": true,
           "gridcolor": "white",
           "linecolor": "white",
           "ticks": "",
           "title": {
            "standoff": 15
           },
           "zerolinecolor": "white",
           "zerolinewidth": 2
          },
          "yaxis": {
           "automargin": true,
           "gridcolor": "white",
           "linecolor": "white",
           "ticks": "",
           "title": {
            "standoff": 15
           },
           "zerolinecolor": "white",
           "zerolinewidth": 2
          }
         }
        }
       }
      },
      "text/html": [
       "<div>                            <div id=\"19ae87de-757d-492b-8fd9-15c0c725e88b\" class=\"plotly-graph-div\" style=\"height:525px; width:100%;\"></div>            <script type=\"text/javascript\">                require([\"plotly\"], function(Plotly) {                    window.PLOTLYENV=window.PLOTLYENV || {};                                    if (document.getElementById(\"19ae87de-757d-492b-8fd9-15c0c725e88b\")) {                    Plotly.newPlot(                        \"19ae87de-757d-492b-8fd9-15c0c725e88b\",                        [{\"close\":[36178.140625,35791.277344,36630.074219,36069.804688,35547.75,30825.699219,33005.761719,32067.642578,32289.378906,32366.392578,32569.849609,30432.546875,31649.605469,34316.386719,34269.523438,33114.359375,33537.175781,35510.289063,37472.089844,36926.066406,38144.308594,39266.011719,38903.441406,46196.464844,46481.105469,44918.183594,47909.332031,47504.851563,47105.515625,48717.289063,47945.058594,49199.871094,52149.007813],\"high\":[37864.367188,36722.351563,37299.285156,37755.890625,36378.328125,35552.679688,33811.851563,33360.976563,32944.007813,34802.742188,32794.550781,32564.029297,31891.300781,38406.261719,34834.707031,34288.332031,34638.214844,35896.882813,37480.1875,38592.175781,38225.90625,40846.546875,39621.835938,46203.929688,48003.722656,47145.566406,48463.46875,48745.734375,48047.746094,49487.640625,48875.570313,50341.101563,52533.914063],\"low\":[35633.554688,34069.320313,34883.84375,36069.804688,33570.476563,30250.75,28953.373047,31493.160156,31106.685547,32087.787109,31030.265625,29367.138672,30023.207031,32064.814453,32940.1875,32270.175781,32384.228516,33489.21875,35443.984375,36317.5,36658.761719,38138.386719,37446.152344,38076.324219,45166.960938,43881.152344,44187.761719,46424.976563,46392.28125,47114.507813,46347.476563,47201.304688,49072.378906],\"open\":[36821.648438,36163.648438,35792.238281,36642.234375,36050.113281,35549.398438,30817.625,32985.757813,32064.376953,32285.798828,32358.613281,32564.029297,30441.041016,34318.671875,34295.933594,34270.878906,33114.578125,33533.199219,35510.820313,37475.105469,36931.546875,38138.386719,39250.191406,38886.828125,46184.992188,46469.761719,44898.710938,47877.035156,47491.203125,47114.507813,48696.535156,47944.457031,49207.277344],\"type\":\"candlestick\",\"x\":[\"2021-01-16T00:00:00\",\"2021-01-17T00:00:00\",\"2021-01-18T00:00:00\",\"2021-01-19T00:00:00\",\"2021-01-20T00:00:00\",\"2021-01-21T00:00:00\",\"2021-01-22T00:00:00\",\"2021-01-23T00:00:00\",\"2021-01-24T00:00:00\",\"2021-01-25T00:00:00\",\"2021-01-26T00:00:00\",\"2021-01-27T00:00:00\",\"2021-01-28T00:00:00\",\"2021-01-29T00:00:00\",\"2021-01-30T00:00:00\",\"2021-01-31T00:00:00\",\"2021-02-01T00:00:00\",\"2021-02-02T00:00:00\",\"2021-02-03T00:00:00\",\"2021-02-04T00:00:00\",\"2021-02-05T00:00:00\",\"2021-02-06T00:00:00\",\"2021-02-07T00:00:00\",\"2021-02-08T00:00:00\",\"2021-02-09T00:00:00\",\"2021-02-10T00:00:00\",\"2021-02-11T00:00:00\",\"2021-02-12T00:00:00\",\"2021-02-13T00:00:00\",\"2021-02-14T00:00:00\",\"2021-02-15T00:00:00\",\"2021-02-16T00:00:00\",\"2021-02-17T00:00:00\"]}],                        {\"template\":{\"data\":{\"bar\":[{\"error_x\":{\"color\":\"#2a3f5f\"},\"error_y\":{\"color\":\"#2a3f5f\"},\"marker\":{\"line\":{\"color\":\"#E5ECF6\",\"width\":0.5},\"pattern\":{\"fillmode\":\"overlay\",\"size\":10,\"solidity\":0.2}},\"type\":\"bar\"}],\"barpolar\":[{\"marker\":{\"line\":{\"color\":\"#E5ECF6\",\"width\":0.5},\"pattern\":{\"fillmode\":\"overlay\",\"size\":10,\"solidity\":0.2}},\"type\":\"barpolar\"}],\"carpet\":[{\"aaxis\":{\"endlinecolor\":\"#2a3f5f\",\"gridcolor\":\"white\",\"linecolor\":\"white\",\"minorgridcolor\":\"white\",\"startlinecolor\":\"#2a3f5f\"},\"baxis\":{\"endlinecolor\":\"#2a3f5f\",\"gridcolor\":\"white\",\"linecolor\":\"white\",\"minorgridcolor\":\"white\",\"startlinecolor\":\"#2a3f5f\"},\"type\":\"carpet\"}],\"choropleth\":[{\"colorbar\":{\"outlinewidth\":0,\"ticks\":\"\"},\"type\":\"choropleth\"}],\"contour\":[{\"colorbar\":{\"outlinewidth\":0,\"ticks\":\"\"},\"colorscale\":[[0.0,\"#0d0887\"],[0.1111111111111111,\"#46039f\"],[0.2222222222222222,\"#7201a8\"],[0.3333333333333333,\"#9c179e\"],[0.4444444444444444,\"#bd3786\"],[0.5555555555555556,\"#d8576b\"],[0.6666666666666666,\"#ed7953\"],[0.7777777777777778,\"#fb9f3a\"],[0.8888888888888888,\"#fdca26\"],[1.0,\"#f0f921\"]],\"type\":\"contour\"}],\"contourcarpet\":[{\"colorbar\":{\"outlinewidth\":0,\"ticks\":\"\"},\"type\":\"contourcarpet\"}],\"heatmap\":[{\"colorbar\":{\"outlinewidth\":0,\"ticks\":\"\"},\"colorscale\":[[0.0,\"#0d0887\"],[0.1111111111111111,\"#46039f\"],[0.2222222222222222,\"#7201a8\"],[0.3333333333333333,\"#9c179e\"],[0.4444444444444444,\"#bd3786\"],[0.5555555555555556,\"#d8576b\"],[0.6666666666666666,\"#ed7953\"],[0.7777777777777778,\"#fb9f3a\"],[0.8888888888888888,\"#fdca26\"],[1.0,\"#f0f921\"]],\"type\":\"heatmap\"}],\"heatmapgl\":[{\"colorbar\":{\"outlinewidth\":0,\"ticks\":\"\"},\"colorscale\":[[0.0,\"#0d0887\"],[0.1111111111111111,\"#46039f\"],[0.2222222222222222,\"#7201a8\"],[0.3333333333333333,\"#9c179e\"],[0.4444444444444444,\"#bd3786\"],[0.5555555555555556,\"#d8576b\"],[0.6666666666666666,\"#ed7953\"],[0.7777777777777778,\"#fb9f3a\"],[0.8888888888888888,\"#fdca26\"],[1.0,\"#f0f921\"]],\"type\":\"heatmapgl\"}],\"histogram\":[{\"marker\":{\"pattern\":{\"fillmode\":\"overlay\",\"size\":10,\"solidity\":0.2}},\"type\":\"histogram\"}],\"histogram2d\":[{\"colorbar\":{\"outlinewidth\":0,\"ticks\":\"\"},\"colorscale\":[[0.0,\"#0d0887\"],[0.1111111111111111,\"#46039f\"],[0.2222222222222222,\"#7201a8\"],[0.3333333333333333,\"#9c179e\"],[0.4444444444444444,\"#bd3786\"],[0.5555555555555556,\"#d8576b\"],[0.6666666666666666,\"#ed7953\"],[0.7777777777777778,\"#fb9f3a\"],[0.8888888888888888,\"#fdca26\"],[1.0,\"#f0f921\"]],\"type\":\"histogram2d\"}],\"histogram2dcontour\":[{\"colorbar\":{\"outlinewidth\":0,\"ticks\":\"\"},\"colorscale\":[[0.0,\"#0d0887\"],[0.1111111111111111,\"#46039f\"],[0.2222222222222222,\"#7201a8\"],[0.3333333333333333,\"#9c179e\"],[0.4444444444444444,\"#bd3786\"],[0.5555555555555556,\"#d8576b\"],[0.6666666666666666,\"#ed7953\"],[0.7777777777777778,\"#fb9f3a\"],[0.8888888888888888,\"#fdca26\"],[1.0,\"#f0f921\"]],\"type\":\"histogram2dcontour\"}],\"mesh3d\":[{\"colorbar\":{\"outlinewidth\":0,\"ticks\":\"\"},\"type\":\"mesh3d\"}],\"parcoords\":[{\"line\":{\"colorbar\":{\"outlinewidth\":0,\"ticks\":\"\"}},\"type\":\"parcoords\"}],\"pie\":[{\"automargin\":true,\"type\":\"pie\"}],\"scatter\":[{\"marker\":{\"colorbar\":{\"outlinewidth\":0,\"ticks\":\"\"}},\"type\":\"scatter\"}],\"scatter3d\":[{\"line\":{\"colorbar\":{\"outlinewidth\":0,\"ticks\":\"\"}},\"marker\":{\"colorbar\":{\"outlinewidth\":0,\"ticks\":\"\"}},\"type\":\"scatter3d\"}],\"scattercarpet\":[{\"marker\":{\"colorbar\":{\"outlinewidth\":0,\"ticks\":\"\"}},\"type\":\"scattercarpet\"}],\"scattergeo\":[{\"marker\":{\"colorbar\":{\"outlinewidth\":0,\"ticks\":\"\"}},\"type\":\"scattergeo\"}],\"scattergl\":[{\"marker\":{\"colorbar\":{\"outlinewidth\":0,\"ticks\":\"\"}},\"type\":\"scattergl\"}],\"scattermapbox\":[{\"marker\":{\"colorbar\":{\"outlinewidth\":0,\"ticks\":\"\"}},\"type\":\"scattermapbox\"}],\"scatterpolar\":[{\"marker\":{\"colorbar\":{\"outlinewidth\":0,\"ticks\":\"\"}},\"type\":\"scatterpolar\"}],\"scatterpolargl\":[{\"marker\":{\"colorbar\":{\"outlinewidth\":0,\"ticks\":\"\"}},\"type\":\"scatterpolargl\"}],\"scatterternary\":[{\"marker\":{\"colorbar\":{\"outlinewidth\":0,\"ticks\":\"\"}},\"type\":\"scatterternary\"}],\"surface\":[{\"colorbar\":{\"outlinewidth\":0,\"ticks\":\"\"},\"colorscale\":[[0.0,\"#0d0887\"],[0.1111111111111111,\"#46039f\"],[0.2222222222222222,\"#7201a8\"],[0.3333333333333333,\"#9c179e\"],[0.4444444444444444,\"#bd3786\"],[0.5555555555555556,\"#d8576b\"],[0.6666666666666666,\"#ed7953\"],[0.7777777777777778,\"#fb9f3a\"],[0.8888888888888888,\"#fdca26\"],[1.0,\"#f0f921\"]],\"type\":\"surface\"}],\"table\":[{\"cells\":{\"fill\":{\"color\":\"#EBF0F8\"},\"line\":{\"color\":\"white\"}},\"header\":{\"fill\":{\"color\":\"#C8D4E3\"},\"line\":{\"color\":\"white\"}},\"type\":\"table\"}]},\"layout\":{\"annotationdefaults\":{\"arrowcolor\":\"#2a3f5f\",\"arrowhead\":0,\"arrowwidth\":1},\"autotypenumbers\":\"strict\",\"coloraxis\":{\"colorbar\":{\"outlinewidth\":0,\"ticks\":\"\"}},\"colorscale\":{\"diverging\":[[0,\"#8e0152\"],[0.1,\"#c51b7d\"],[0.2,\"#de77ae\"],[0.3,\"#f1b6da\"],[0.4,\"#fde0ef\"],[0.5,\"#f7f7f7\"],[0.6,\"#e6f5d0\"],[0.7,\"#b8e186\"],[0.8,\"#7fbc41\"],[0.9,\"#4d9221\"],[1,\"#276419\"]],\"sequential\":[[0.0,\"#0d0887\"],[0.1111111111111111,\"#46039f\"],[0.2222222222222222,\"#7201a8\"],[0.3333333333333333,\"#9c179e\"],[0.4444444444444444,\"#bd3786\"],[0.5555555555555556,\"#d8576b\"],[0.6666666666666666,\"#ed7953\"],[0.7777777777777778,\"#fb9f3a\"],[0.8888888888888888,\"#fdca26\"],[1.0,\"#f0f921\"]],\"sequentialminus\":[[0.0,\"#0d0887\"],[0.1111111111111111,\"#46039f\"],[0.2222222222222222,\"#7201a8\"],[0.3333333333333333,\"#9c179e\"],[0.4444444444444444,\"#bd3786\"],[0.5555555555555556,\"#d8576b\"],[0.6666666666666666,\"#ed7953\"],[0.7777777777777778,\"#fb9f3a\"],[0.8888888888888888,\"#fdca26\"],[1.0,\"#f0f921\"]]},\"colorway\":[\"#636efa\",\"#EF553B\",\"#00cc96\",\"#ab63fa\",\"#FFA15A\",\"#19d3f3\",\"#FF6692\",\"#B6E880\",\"#FF97FF\",\"#FECB52\"],\"font\":{\"color\":\"#2a3f5f\"},\"geo\":{\"bgcolor\":\"white\",\"lakecolor\":\"white\",\"landcolor\":\"#E5ECF6\",\"showlakes\":true,\"showland\":true,\"subunitcolor\":\"white\"},\"hoverlabel\":{\"align\":\"left\"},\"hovermode\":\"closest\",\"mapbox\":{\"style\":\"light\"},\"paper_bgcolor\":\"white\",\"plot_bgcolor\":\"#E5ECF6\",\"polar\":{\"angularaxis\":{\"gridcolor\":\"white\",\"linecolor\":\"white\",\"ticks\":\"\"},\"bgcolor\":\"#E5ECF6\",\"radialaxis\":{\"gridcolor\":\"white\",\"linecolor\":\"white\",\"ticks\":\"\"}},\"scene\":{\"xaxis\":{\"backgroundcolor\":\"#E5ECF6\",\"gridcolor\":\"white\",\"gridwidth\":2,\"linecolor\":\"white\",\"showbackground\":true,\"ticks\":\"\",\"zerolinecolor\":\"white\"},\"yaxis\":{\"backgroundcolor\":\"#E5ECF6\",\"gridcolor\":\"white\",\"gridwidth\":2,\"linecolor\":\"white\",\"showbackground\":true,\"ticks\":\"\",\"zerolinecolor\":\"white\"},\"zaxis\":{\"backgroundcolor\":\"#E5ECF6\",\"gridcolor\":\"white\",\"gridwidth\":2,\"linecolor\":\"white\",\"showbackground\":true,\"ticks\":\"\",\"zerolinecolor\":\"white\"}},\"shapedefaults\":{\"line\":{\"color\":\"#2a3f5f\"}},\"ternary\":{\"aaxis\":{\"gridcolor\":\"white\",\"linecolor\":\"white\",\"ticks\":\"\"},\"baxis\":{\"gridcolor\":\"white\",\"linecolor\":\"white\",\"ticks\":\"\"},\"bgcolor\":\"#E5ECF6\",\"caxis\":{\"gridcolor\":\"white\",\"linecolor\":\"white\",\"ticks\":\"\"}},\"title\":{\"x\":0.05},\"xaxis\":{\"automargin\":true,\"gridcolor\":\"white\",\"linecolor\":\"white\",\"ticks\":\"\",\"title\":{\"standoff\":15},\"zerolinecolor\":\"white\",\"zerolinewidth\":2},\"yaxis\":{\"automargin\":true,\"gridcolor\":\"white\",\"linecolor\":\"white\",\"ticks\":\"\",\"title\":{\"standoff\":15},\"zerolinecolor\":\"white\",\"zerolinewidth\":2}}}},                        {\"responsive\": true}                    ).then(function(){\n",
       "                            \n",
       "var gd = document.getElementById('19ae87de-757d-492b-8fd9-15c0c725e88b');\n",
       "var x = new MutationObserver(function (mutations, observer) {{\n",
       "        var display = window.getComputedStyle(gd).display;\n",
       "        if (!display || display === 'none') {{\n",
       "            console.log([gd, 'removed!']);\n",
       "            Plotly.purge(gd);\n",
       "            observer.disconnect();\n",
       "        }}\n",
       "}});\n",
       "\n",
       "// Listen for the removal of the full notebook cells\n",
       "var notebookContainer = gd.closest('#notebook-container');\n",
       "if (notebookContainer) {{\n",
       "    x.observe(notebookContainer, {childList: true});\n",
       "}}\n",
       "\n",
       "// Listen for the clearing of the current output cell\n",
       "var outputEl = gd.closest('.output');\n",
       "if (outputEl) {{\n",
       "    x.observe(outputEl, {childList: true});\n",
       "}}\n",
       "\n",
       "                        })                };                });            </script>        </div>"
      ]
     },
     "metadata": {},
     "output_type": "display_data"
    }
   ],
   "source": [
    "# Use plotly to plot candlesticks\n",
    "fig = go.Figure(data=[go.Candlestick(x=intra.index,\n",
    "                open=intra['Open'],\n",
    "                high=intra['High'],\n",
    "                low=intra['Low'],\n",
    "                close=intra['Close'])])\n",
    "\n",
    "fig.show()"
   ]
  },
  {
   "cell_type": "code",
   "execution_count": 75,
   "id": "7b02d265",
   "metadata": {},
   "outputs": [
    {
     "name": "stdout",
     "output_type": "stream",
     "text": [
      "<class 'pandas.core.frame.DataFrame'>\n",
      "DatetimeIndex: 33 entries, 2021-01-16 to 2021-02-17\n",
      "Data columns (total 6 columns):\n",
      " #   Column     Non-Null Count  Dtype  \n",
      "---  ------     --------------  -----  \n",
      " 0   Open       33 non-null     float64\n",
      " 1   High       33 non-null     float64\n",
      " 2   Low        33 non-null     float64\n",
      " 3   Close      33 non-null     float64\n",
      " 4   Adj Close  33 non-null     float64\n",
      " 5   Volume     33 non-null     float64\n",
      "dtypes: float64(6)\n",
      "memory usage: 1.8 KB\n"
     ]
    }
   ],
   "source": [
    "intra.info()"
   ]
  },
  {
   "cell_type": "code",
   "execution_count": 76,
   "id": "6671257d",
   "metadata": {},
   "outputs": [],
   "source": [
    "# Store local max and min ranges\n",
    "localmin_range = {}\n",
    "localmax_range = {}"
   ]
  },
  {
   "cell_type": "code",
   "execution_count": 77,
   "id": "3dcfebcd",
   "metadata": {},
   "outputs": [],
   "source": [
    "def find_max(cert_candle, curr_candle, prev_candle):\n",
    "    # get local max\n",
    "    max_dict = {}\n",
    "    if curr_candle and prev_candle:       \n",
    "        if (curr_candle['c'] > cert_candle['c']) & (curr_candle['c'] > prev_candle['c']):\n",
    "            max_dict = curr_candle\n",
    "            return max_dict\n",
    "        else:\n",
    "            return None\n",
    "        \n",
    "def find_min(cert_candle, curr_candle, prev_candle):   \n",
    "    # get local min\n",
    "    min_dict = {}\n",
    "    if curr_candle and prev_candle:\n",
    "        if (curr_candle['c'] < cert_candle['c']) & (curr_candle['c'] < prev_candle['c']):\n",
    "            min_dict = curr_candle\n",
    "            return min_dict\n",
    "        else:\n",
    "            return None"
   ]
  },
  {
   "cell_type": "code",
   "execution_count": 78,
   "id": "b22daef2",
   "metadata": {},
   "outputs": [],
   "source": [
    "# Check if there is a previous bar\n",
    "def update_cert(cert, index, df):\n",
    "    # Create certifying candle\n",
    "    # count number of null values to see if is first row\n",
    "    null_count = 0\n",
    "    for value in cert.values():\n",
    "        if value == None:\n",
    "            null_count += 1\n",
    "    \n",
    "    # update prev dictionary if all null values\n",
    "    # if first row it will update with those values\n",
    "    if null_count == 5:\n",
    "        cert['t'] = index\n",
    "        cert['o'] = float(df.loc[index]['Open'])\n",
    "        cert['c'] = float(df.loc[index]['Close'])\n",
    "        cert['h'] = float(df.loc[index]['High'])\n",
    "        cert['l'] = float(df.loc[index]['Low'])\n",
    "        \n",
    "        # return the certying candle dictionary\n",
    "        return cert\n",
    "    \n",
    "    # update prev with new prev values (new prev is old curr)\n",
    "    else:\n",
    "        if index + datetime.timedelta(days=1):\n",
    "            cert['t'] = (index)\n",
    "            cert['o'] = float(df.loc[index]['Open'])\n",
    "            cert['c'] = float(df.loc[index]['Close'])\n",
    "            cert['h'] = float(df.loc[index]['High'])\n",
    "            cert['l'] = float(df.loc[index]['Low'])\n",
    "        \n",
    "            # return the certying candle dictionary\n",
    "            return cert\n",
    "# c[c.iloc[:, 0] == 1]\n",
    "        \n",
    "def update_curr(curr, index, df):\n",
    "    # Create current dictionary of current candle\n",
    "    idx = df.index  \n",
    "    \n",
    "    # format datetime index\n",
    "    dt_object = (index - datetime.timedelta(days=1)).to_datetime64()\n",
    "#     print(type(idx))\n",
    "    \n",
    "#     print(sum(df.index == dt_object))\n",
    "    \n",
    "    if sum(df.index == dt_object) > 0:\n",
    "        index -= datetime.timedelta(days=1)\n",
    "        curr['t'] = (index)\n",
    "        curr['o'] = float(df.loc[index]['Open'])\n",
    "        curr['c'] = float(df.loc[index]['Close'])\n",
    "        curr['h'] = float(df.loc[index]['High'])\n",
    "        curr['l'] = float(df.loc[index]['Low'])\n",
    "        \n",
    "        # return the current candle dictionary\n",
    "        return curr\n",
    "    else:\n",
    "        pass\n",
    "        \n",
    "def update_prev(prev, index, df):\n",
    "    # Create the previous candle\n",
    "    idx = df.index\n",
    "    \n",
    "\n",
    "    dt_object = (index - datetime.timedelta(days=2)).to_datetime64()\n",
    "\n",
    "#     print(sum(df.index == dt_object) )\n",
    "    if sum(df.index == dt_object) > 0:\n",
    "        index -= datetime.timedelta(days=2)\n",
    "        prev['t'] = (index)\n",
    "        prev['o'] = float(df.loc[index]['Open'])\n",
    "        prev['c'] = float(df.loc[index]['Close'])\n",
    "        prev['h'] = float(df.loc[index]['High'])\n",
    "        prev['l'] = float(df.loc[index]['Low'])\n",
    "        \n",
    "        # return the previous candle dictionary\n",
    "        return prev\n",
    "    else:\n",
    "        pass"
   ]
  },
  {
   "cell_type": "code",
   "execution_count": 79,
   "id": "f9a06dd9-c87d-44c7-9597-a557722d4deb",
   "metadata": {},
   "outputs": [],
   "source": []
  },
  {
   "cell_type": "code",
   "execution_count": null,
   "id": "f6248acb-2513-4c9a-b095-296d8d40a2b5",
   "metadata": {},
   "outputs": [],
   "source": []
  },
  {
   "cell_type": "code",
   "execution_count": 80,
   "id": "99380ff2-7ad7-49a9-a34a-4ce9de340f25",
   "metadata": {},
   "outputs": [],
   "source": [
    "maxs = []\n",
    "mins = []\n",
    "\n",
    "events = []"
   ]
  },
  {
   "cell_type": "code",
   "execution_count": 81,
   "id": "b01ce130",
   "metadata": {},
   "outputs": [
    {
     "data": {
      "text/plain": [
       "{0: None,\n",
       " 1: None,\n",
       " 2: None,\n",
       " 3: {'t': Timestamp('2021-02-16 00:00:00'),\n",
       "  'o': 47944.457031,\n",
       "  'c': 49199.871094,\n",
       "  'h': 50341.101563,\n",
       "  'l': 47201.304688},\n",
       " 4: None,\n",
       " 5: None,\n",
       " 6: None,\n",
       " 7: {'t': Timestamp('2021-02-16 00:00:00'),\n",
       "  'o': 47944.457031,\n",
       "  'c': 49199.871094,\n",
       "  'h': 50341.101563,\n",
       "  'l': 47201.304688},\n",
       " 8: None,\n",
       " 9: None,\n",
       " 10: None,\n",
       " 11: {'t': Timestamp('2021-02-16 00:00:00'),\n",
       "  'o': 47944.457031,\n",
       "  'c': 49199.871094,\n",
       "  'h': 50341.101563,\n",
       "  'l': 47201.304688},\n",
       " 12: None,\n",
       " 13: None,\n",
       " 14: {'t': Timestamp('2021-02-16 00:00:00'),\n",
       "  'o': 47944.457031,\n",
       "  'c': 49199.871094,\n",
       "  'h': 50341.101563,\n",
       "  'l': 47201.304688},\n",
       " 15: None,\n",
       " 16: None,\n",
       " 17: None,\n",
       " 18: None,\n",
       " 19: {'t': Timestamp('2021-02-16 00:00:00'),\n",
       "  'o': 47944.457031,\n",
       "  'c': 49199.871094,\n",
       "  'h': 50341.101563,\n",
       "  'l': 47201.304688},\n",
       " 20: None,\n",
       " 21: None,\n",
       " 22: {'t': Timestamp('2021-02-16 00:00:00'),\n",
       "  'o': 47944.457031,\n",
       "  'c': 49199.871094,\n",
       "  'h': 50341.101563,\n",
       "  'l': 47201.304688},\n",
       " 23: None,\n",
       " 24: None,\n",
       " 25: {'t': Timestamp('2021-02-16 00:00:00'),\n",
       "  'o': 47944.457031,\n",
       "  'c': 49199.871094,\n",
       "  'h': 50341.101563,\n",
       "  'l': 47201.304688},\n",
       " 26: None,\n",
       " 27: {'t': Timestamp('2021-02-16 00:00:00'),\n",
       "  'o': 47944.457031,\n",
       "  'c': 49199.871094,\n",
       "  'h': 50341.101563,\n",
       "  'l': 47201.304688},\n",
       " 28: None,\n",
       " 29: None,\n",
       " 30: {'t': Timestamp('2021-02-16 00:00:00'),\n",
       "  'o': 47944.457031,\n",
       "  'c': 49199.871094,\n",
       "  'h': 50341.101563,\n",
       "  'l': 47201.304688},\n",
       " 31: None,\n",
       " 32: None}"
      ]
     },
     "metadata": {},
     "output_type": "display_data"
    },
    {
     "data": {
      "text/plain": [
       "{0: None}"
      ]
     },
     "metadata": {},
     "output_type": "display_data"
    }
   ],
   "source": [
    "# Get candles data to find local max's min's\n",
    "localmax_range = {}\n",
    "localmin_range = {}\n",
    "# # store previous candle\n",
    "# prev = {\n",
    "#     't' : None,\n",
    "#     'o' : None,\n",
    "#     'c' : None,\n",
    "#     'h' : None,\n",
    "#     'l' : None   \n",
    "# }\n",
    "\n",
    "# # store current candle\n",
    "# curr = {\n",
    "#     't' : None,\n",
    "#     'o' : None,\n",
    "#     'c' : None,\n",
    "#     'h' : None,\n",
    "#     'l' : None \n",
    "# }\n",
    "\n",
    "# store certifying candle (certifies if the max/min is created)\n",
    "cert = {\n",
    "    't' : None,\n",
    "    'o' : None,\n",
    "    'c' : None,\n",
    "    'h' : None,\n",
    "    'l' : None \n",
    "}\n",
    "\n",
    "double_bottom = {'point_a': None, 'point_b': None, 'point_c': None, 'point_d': None, 'point_e': None}\n",
    "\n",
    "# Init counters\n",
    "max_counter = 0\n",
    "min_counter = 0\n",
    "# key_counter = 0\n",
    "\n",
    "for index in intra.index:\n",
    "    cert_candle = update_cert(cert, index, intra)\n",
    "    curr_candle = update_curr(curr, index, intra)\n",
    "    prev_candle = update_prev(prev, index, intra)\n",
    "\n",
    "    \n",
    "#     maxs.append(find_max(cert_candle, curr_candle, prev_candle))\n",
    "#     mins.append(find_min(cert_candle, curr_candle, prev_candle))\n",
    "    localmax_range[max_counter] = find_max(cert_candle, curr_candle, prev_candle)\n",
    "    localmin_range[min_counter] = find_min(cert_candle, curr_candle, prev_candle)\n",
    "    \n",
    "    max_counter += 1\n",
    "    key_counter += 1\n",
    "    \n",
    "    # pont f arbitrary - 5-10 periods out\n",
    "    # when finished will have 6 values\n",
    "    event_list = []\n",
    "    event_list.append(find_max(cert_candle, curr_candle, prev_candle))\n",
    "    while curr_candle['c'] < event_list[0]['c']:    \n",
    "         = find_min(cert_candle, curr_candle, prev_candle)\n",
    "        i\n",
    "    \n",
    "    double_bottom['point_c'] = find_max(cert_candle, curr_candle, prev_candle)\n",
    "    double_bottom['point_d'] = find_min(cert_candle, curr_candle, prev_candle)\n",
    "    \n",
    "    print(double_bottom)\n",
    "    print(f\"Third candle: {prev_candle} \\nSecond candle: {curr_candle} \\nFirst candle: {cert_candle} \\n\")\n",
    "\n",
    "# display(localmax_range)\n",
    "# display(localmin_range\n",
    "\n",
    "event_list_shannon = []\n",
    "\n",
    "def create_list_of_event_points_to_add_to_event_dictionar(date_range_dataframe):\n",
    "    for i in date_range_dataframe check if this date's prices' make up local max\n",
    "        if yes, store to list labeled event %(+1) = ['a']\n",
    "        (assign position of a list to a variable)\n",
    "        check event1_list; if [0] is not null then check if this date's prices' make up a local min and assign value b\n",
    "        check event1_list; if [1] is not null then check if this date's prices' make up a local max and assign value c; c should be lower than a but higher than b; if conditions are not met, clear event list and start new list iteration on next date\n",
    "        check event1_list; if [2] is not null then check if this date's prices' make up a local min and assign value d; if this is min then continue to [check for b conditions]  if local min close is in range of b (between b close and b low) then local min event point d or if local min d low is in range of b close and b low then local min is event point d, elif close d is below b low then delete list and start next date     \n",
    "        check event1_list; if [3] is not null then check if this date's prices'are higher than event point c and assign value e\n",
    "        check event1_list; if [4] is not null then find price 5 days after point e and label this +5 day price point f\n",
    "        check event1_list; if [5] is not null then find price 5 days before point a and label this as the\"lead up\" event point\n",
    "        "
   ]
  },
  {
   "cell_type": "code",
   "execution_count": 60,
   "id": "461cfc54-9775-48d7-ac60-6ee35091f1fb",
   "metadata": {},
   "outputs": [],
   "source": [
    "# display(maxs)\n",
    "# display(mins)\n",
    "# mins_df = pd.DataFrame(mins)\n",
    "# maxs_df = pd.DataFrame(maxs)\n",
    "\n",
    "# intra_min_max = pd.concat([intra, maxs_df, mins_df], axis=1)\n",
    "# display(mins_df)\n",
    "# display(maxs_df)"
   ]
  },
  {
   "cell_type": "code",
   "execution_count": null,
   "id": "b903d19e",
   "metadata": {},
   "outputs": [],
   "source": [
    "# localmin_range = {}\n",
    "\n",
    "# prev = {\n",
    "#     't' : None,\n",
    "#     'o' : None,\n",
    "#     'c' : None,\n",
    "#     'h' : None,\n",
    "#     'l' : None   \n",
    "# }\n",
    "\n",
    "# # store current candle\n",
    "# curr = {\n",
    "#     't' : None,\n",
    "#     'o' : None,\n",
    "#     'c' : None,\n",
    "#     'h' : None,\n",
    "#     'l' : None \n",
    "# }\n",
    "\n",
    "# # store certifying candle (certifies if the max/min is created)\n",
    "# cert = {\n",
    "#     't' : None,\n",
    "#     'o' : None,\n",
    "#     'c' : None,\n",
    "#     'h' : None,\n",
    "#     'l' : None \n",
    "# }\n",
    "\n",
    "\n",
    "\n",
    "# for index in intra.index:\n",
    "#     cert_candle = update_cert(cert, index, intra)\n",
    "#     curr_candle = update_curr(curr, index, intra)\n",
    "#     prev_candle = update_prev(prev, index, intra)\n",
    "    \n",
    "    \n",
    "#     # make max counter\n",
    "    \n",
    "    \n",
    "#     # create dict to store candle information\n",
    "# #     min_dict = {}\n",
    "    \n",
    "#     # to make dictionary keys\n",
    "    \n",
    "    \n",
    "# #     if curr_candle and prev_candle:\n",
    "# #         # get local min\n",
    "# #         if (curr_candle['c'] < cert_candle['c']) & (curr_candle['c'] < prev_candle['c']):\n",
    "# #             min_dict = curr_candle\n",
    "# #             max_dict['counter'] = max_counter\n",
    "#     localmin_range[key_counter] = find_min(cert_candle, curr_candle, prev_candle)\n",
    "    \n",
    "# #     previous_low = \n",
    "#     # store point b\n",
    "#     double_bottom['b'] = find_min(cert_candle, curr_candle, prev_candle)\n",
    "\n",
    "#     print(double_bottom)\n",
    "#     print(f\"Third candle: {prev_candle} \\nSecond candle: {curr_candle} \\nFirst candle: {cert_candle} \\n\")\n",
    "# #     df_min = pd.DataFrame(localmin_range).T\n",
    "# #     df_min.set_index(df_min['t'], inplace=True)\n",
    "# #             print(df_min)"
   ]
  },
  {
   "cell_type": "code",
   "execution_count": null,
   "id": "45e3271b",
   "metadata": {},
   "outputs": [],
   "source": [
    "# potentially put in previous high as another variable\n",
    "\n",
    "# b and d must be found to find c, a and e.\n",
    "\n",
    "\n",
    "\n",
    "# point b is a local min \n",
    "# and point c is a local max that is greater than b and less than a\n",
    "# and point d is less than c and in the range (it's close or wick) of b (close and low wick)\n",
    "# and e closes above c\n",
    "# BUY\n",
    "\n"
   ]
  },
  {
   "cell_type": "code",
   "execution_count": null,
   "id": "9541a60a",
   "metadata": {},
   "outputs": [],
   "source": [
    "# Logic to store double bottom points\n",
    "# logic to break pattern\n",
    "# Logic for entry\n",
    "# Make another column called max and min"
   ]
  },
  {
   "cell_type": "code",
   "execution_count": null,
   "id": "703784da",
   "metadata": {},
   "outputs": [],
   "source": []
  }
 ],
 "metadata": {
  "kernelspec": {
   "display_name": "dev",
   "language": "python",
   "name": "dev"
  },
  "language_info": {
   "codemirror_mode": {
    "name": "ipython",
    "version": 3
   },
   "file_extension": ".py",
   "mimetype": "text/x-python",
   "name": "python",
   "nbconvert_exporter": "python",
   "pygments_lexer": "ipython3",
   "version": "3.7.10"
  }
 },
 "nbformat": 4,
 "nbformat_minor": 5
}
