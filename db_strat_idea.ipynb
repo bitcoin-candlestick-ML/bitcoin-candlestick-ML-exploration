{
 "cells": [
  {
   "cell_type": "code",
   "execution_count": 169,
   "id": "7ab7a656",
   "metadata": {},
   "outputs": [],
   "source": [
    "import mplfinance as mpf\n",
    "import pandas as pd\n",
    "from pathlib import Path\n",
    "import numpy as np\n",
    "import datetime"
   ]
  },
  {
   "cell_type": "code",
   "execution_count": 172,
   "id": "344a6f12",
   "metadata": {},
   "outputs": [
    {
     "ename": "FileNotFoundError",
     "evalue": "[Errno 2] No such file or directory: 'Resources\\\\BTC-USD.csv'",
     "output_type": "error",
     "traceback": [
      "\u001b[1;31m---------------------------------------------------------------------------\u001b[0m",
      "\u001b[1;31mFileNotFoundError\u001b[0m                         Traceback (most recent call last)",
      "\u001b[1;32m<ipython-input-172-c09e5b00c005>\u001b[0m in \u001b[0;36m<module>\u001b[1;34m\u001b[0m\n\u001b[0;32m      1\u001b[0m \u001b[1;31m# Get BTC OHLCV dataframe\u001b[0m\u001b[1;33m\u001b[0m\u001b[1;33m\u001b[0m\u001b[1;33m\u001b[0m\u001b[0m\n\u001b[1;32m----> 2\u001b[1;33m \u001b[0mdf\u001b[0m \u001b[1;33m=\u001b[0m \u001b[0mpd\u001b[0m\u001b[1;33m.\u001b[0m\u001b[0mread_csv\u001b[0m\u001b[1;33m(\u001b[0m\u001b[0mPath\u001b[0m\u001b[1;33m(\u001b[0m\u001b[1;34m\"Resources/BTC-USD.csv\"\u001b[0m\u001b[1;33m)\u001b[0m\u001b[1;33m,\u001b[0m \u001b[0mindex_col\u001b[0m\u001b[1;33m=\u001b[0m\u001b[1;34m\"Date\"\u001b[0m\u001b[1;33m,\u001b[0m \u001b[0mparse_dates\u001b[0m\u001b[1;33m=\u001b[0m\u001b[1;32mTrue\u001b[0m\u001b[1;33m,\u001b[0m \u001b[0minfer_datetime_format\u001b[0m\u001b[1;33m=\u001b[0m\u001b[1;32mTrue\u001b[0m\u001b[1;33m)\u001b[0m\u001b[1;33m\u001b[0m\u001b[1;33m\u001b[0m\u001b[0m\n\u001b[0m\u001b[0;32m      3\u001b[0m \u001b[0mdisplay\u001b[0m\u001b[1;33m(\u001b[0m\u001b[0mdf\u001b[0m\u001b[1;33m.\u001b[0m\u001b[0mhead\u001b[0m\u001b[1;33m(\u001b[0m\u001b[1;33m)\u001b[0m\u001b[1;33m)\u001b[0m\u001b[1;33m\u001b[0m\u001b[1;33m\u001b[0m\u001b[0m\n\u001b[0;32m      4\u001b[0m \u001b[0mdisplay\u001b[0m\u001b[1;33m(\u001b[0m\u001b[0mdf\u001b[0m\u001b[1;33m.\u001b[0m\u001b[0mtail\u001b[0m\u001b[1;33m(\u001b[0m\u001b[1;33m)\u001b[0m\u001b[1;33m)\u001b[0m\u001b[1;33m\u001b[0m\u001b[1;33m\u001b[0m\u001b[0m\n",
      "\u001b[1;32m~\\anaconda3\\envs\\dev\\lib\\site-packages\\pandas\\io\\parsers.py\u001b[0m in \u001b[0;36mread_csv\u001b[1;34m(filepath_or_buffer, sep, delimiter, header, names, index_col, usecols, squeeze, prefix, mangle_dupe_cols, dtype, engine, converters, true_values, false_values, skipinitialspace, skiprows, skipfooter, nrows, na_values, keep_default_na, na_filter, verbose, skip_blank_lines, parse_dates, infer_datetime_format, keep_date_col, date_parser, dayfirst, cache_dates, iterator, chunksize, compression, thousands, decimal, lineterminator, quotechar, quoting, doublequote, escapechar, comment, encoding, dialect, error_bad_lines, warn_bad_lines, delim_whitespace, low_memory, memory_map, float_precision, storage_options)\u001b[0m\n\u001b[0;32m    608\u001b[0m     \u001b[0mkwds\u001b[0m\u001b[1;33m.\u001b[0m\u001b[0mupdate\u001b[0m\u001b[1;33m(\u001b[0m\u001b[0mkwds_defaults\u001b[0m\u001b[1;33m)\u001b[0m\u001b[1;33m\u001b[0m\u001b[1;33m\u001b[0m\u001b[0m\n\u001b[0;32m    609\u001b[0m \u001b[1;33m\u001b[0m\u001b[0m\n\u001b[1;32m--> 610\u001b[1;33m     \u001b[1;32mreturn\u001b[0m \u001b[0m_read\u001b[0m\u001b[1;33m(\u001b[0m\u001b[0mfilepath_or_buffer\u001b[0m\u001b[1;33m,\u001b[0m \u001b[0mkwds\u001b[0m\u001b[1;33m)\u001b[0m\u001b[1;33m\u001b[0m\u001b[1;33m\u001b[0m\u001b[0m\n\u001b[0m\u001b[0;32m    611\u001b[0m \u001b[1;33m\u001b[0m\u001b[0m\n\u001b[0;32m    612\u001b[0m \u001b[1;33m\u001b[0m\u001b[0m\n",
      "\u001b[1;32m~\\anaconda3\\envs\\dev\\lib\\site-packages\\pandas\\io\\parsers.py\u001b[0m in \u001b[0;36m_read\u001b[1;34m(filepath_or_buffer, kwds)\u001b[0m\n\u001b[0;32m    460\u001b[0m \u001b[1;33m\u001b[0m\u001b[0m\n\u001b[0;32m    461\u001b[0m     \u001b[1;31m# Create the parser.\u001b[0m\u001b[1;33m\u001b[0m\u001b[1;33m\u001b[0m\u001b[1;33m\u001b[0m\u001b[0m\n\u001b[1;32m--> 462\u001b[1;33m     \u001b[0mparser\u001b[0m \u001b[1;33m=\u001b[0m \u001b[0mTextFileReader\u001b[0m\u001b[1;33m(\u001b[0m\u001b[0mfilepath_or_buffer\u001b[0m\u001b[1;33m,\u001b[0m \u001b[1;33m**\u001b[0m\u001b[0mkwds\u001b[0m\u001b[1;33m)\u001b[0m\u001b[1;33m\u001b[0m\u001b[1;33m\u001b[0m\u001b[0m\n\u001b[0m\u001b[0;32m    463\u001b[0m \u001b[1;33m\u001b[0m\u001b[0m\n\u001b[0;32m    464\u001b[0m     \u001b[1;32mif\u001b[0m \u001b[0mchunksize\u001b[0m \u001b[1;32mor\u001b[0m \u001b[0miterator\u001b[0m\u001b[1;33m:\u001b[0m\u001b[1;33m\u001b[0m\u001b[1;33m\u001b[0m\u001b[0m\n",
      "\u001b[1;32m~\\anaconda3\\envs\\dev\\lib\\site-packages\\pandas\\io\\parsers.py\u001b[0m in \u001b[0;36m__init__\u001b[1;34m(self, f, engine, **kwds)\u001b[0m\n\u001b[0;32m    817\u001b[0m             \u001b[0mself\u001b[0m\u001b[1;33m.\u001b[0m\u001b[0moptions\u001b[0m\u001b[1;33m[\u001b[0m\u001b[1;34m\"has_index_names\"\u001b[0m\u001b[1;33m]\u001b[0m \u001b[1;33m=\u001b[0m \u001b[0mkwds\u001b[0m\u001b[1;33m[\u001b[0m\u001b[1;34m\"has_index_names\"\u001b[0m\u001b[1;33m]\u001b[0m\u001b[1;33m\u001b[0m\u001b[1;33m\u001b[0m\u001b[0m\n\u001b[0;32m    818\u001b[0m \u001b[1;33m\u001b[0m\u001b[0m\n\u001b[1;32m--> 819\u001b[1;33m         \u001b[0mself\u001b[0m\u001b[1;33m.\u001b[0m\u001b[0m_engine\u001b[0m \u001b[1;33m=\u001b[0m \u001b[0mself\u001b[0m\u001b[1;33m.\u001b[0m\u001b[0m_make_engine\u001b[0m\u001b[1;33m(\u001b[0m\u001b[0mself\u001b[0m\u001b[1;33m.\u001b[0m\u001b[0mengine\u001b[0m\u001b[1;33m)\u001b[0m\u001b[1;33m\u001b[0m\u001b[1;33m\u001b[0m\u001b[0m\n\u001b[0m\u001b[0;32m    820\u001b[0m \u001b[1;33m\u001b[0m\u001b[0m\n\u001b[0;32m    821\u001b[0m     \u001b[1;32mdef\u001b[0m \u001b[0mclose\u001b[0m\u001b[1;33m(\u001b[0m\u001b[0mself\u001b[0m\u001b[1;33m)\u001b[0m\u001b[1;33m:\u001b[0m\u001b[1;33m\u001b[0m\u001b[1;33m\u001b[0m\u001b[0m\n",
      "\u001b[1;32m~\\anaconda3\\envs\\dev\\lib\\site-packages\\pandas\\io\\parsers.py\u001b[0m in \u001b[0;36m_make_engine\u001b[1;34m(self, engine)\u001b[0m\n\u001b[0;32m   1048\u001b[0m             )\n\u001b[0;32m   1049\u001b[0m         \u001b[1;31m# error: Too many arguments for \"ParserBase\"\u001b[0m\u001b[1;33m\u001b[0m\u001b[1;33m\u001b[0m\u001b[1;33m\u001b[0m\u001b[0m\n\u001b[1;32m-> 1050\u001b[1;33m         \u001b[1;32mreturn\u001b[0m \u001b[0mmapping\u001b[0m\u001b[1;33m[\u001b[0m\u001b[0mengine\u001b[0m\u001b[1;33m]\u001b[0m\u001b[1;33m(\u001b[0m\u001b[0mself\u001b[0m\u001b[1;33m.\u001b[0m\u001b[0mf\u001b[0m\u001b[1;33m,\u001b[0m \u001b[1;33m**\u001b[0m\u001b[0mself\u001b[0m\u001b[1;33m.\u001b[0m\u001b[0moptions\u001b[0m\u001b[1;33m)\u001b[0m  \u001b[1;31m# type: ignore[call-arg]\u001b[0m\u001b[1;33m\u001b[0m\u001b[1;33m\u001b[0m\u001b[0m\n\u001b[0m\u001b[0;32m   1051\u001b[0m \u001b[1;33m\u001b[0m\u001b[0m\n\u001b[0;32m   1052\u001b[0m     \u001b[1;32mdef\u001b[0m \u001b[0m_failover_to_python\u001b[0m\u001b[1;33m(\u001b[0m\u001b[0mself\u001b[0m\u001b[1;33m)\u001b[0m\u001b[1;33m:\u001b[0m\u001b[1;33m\u001b[0m\u001b[1;33m\u001b[0m\u001b[0m\n",
      "\u001b[1;32m~\\anaconda3\\envs\\dev\\lib\\site-packages\\pandas\\io\\parsers.py\u001b[0m in \u001b[0;36m__init__\u001b[1;34m(self, src, **kwds)\u001b[0m\n\u001b[0;32m   1865\u001b[0m \u001b[1;33m\u001b[0m\u001b[0m\n\u001b[0;32m   1866\u001b[0m         \u001b[1;31m# open handles\u001b[0m\u001b[1;33m\u001b[0m\u001b[1;33m\u001b[0m\u001b[1;33m\u001b[0m\u001b[0m\n\u001b[1;32m-> 1867\u001b[1;33m         \u001b[0mself\u001b[0m\u001b[1;33m.\u001b[0m\u001b[0m_open_handles\u001b[0m\u001b[1;33m(\u001b[0m\u001b[0msrc\u001b[0m\u001b[1;33m,\u001b[0m \u001b[0mkwds\u001b[0m\u001b[1;33m)\u001b[0m\u001b[1;33m\u001b[0m\u001b[1;33m\u001b[0m\u001b[0m\n\u001b[0m\u001b[0;32m   1868\u001b[0m         \u001b[1;32massert\u001b[0m \u001b[0mself\u001b[0m\u001b[1;33m.\u001b[0m\u001b[0mhandles\u001b[0m \u001b[1;32mis\u001b[0m \u001b[1;32mnot\u001b[0m \u001b[1;32mNone\u001b[0m\u001b[1;33m\u001b[0m\u001b[1;33m\u001b[0m\u001b[0m\n\u001b[0;32m   1869\u001b[0m         \u001b[1;32mfor\u001b[0m \u001b[0mkey\u001b[0m \u001b[1;32min\u001b[0m \u001b[1;33m(\u001b[0m\u001b[1;34m\"storage_options\"\u001b[0m\u001b[1;33m,\u001b[0m \u001b[1;34m\"encoding\"\u001b[0m\u001b[1;33m,\u001b[0m \u001b[1;34m\"memory_map\"\u001b[0m\u001b[1;33m,\u001b[0m \u001b[1;34m\"compression\"\u001b[0m\u001b[1;33m)\u001b[0m\u001b[1;33m:\u001b[0m\u001b[1;33m\u001b[0m\u001b[1;33m\u001b[0m\u001b[0m\n",
      "\u001b[1;32m~\\anaconda3\\envs\\dev\\lib\\site-packages\\pandas\\io\\parsers.py\u001b[0m in \u001b[0;36m_open_handles\u001b[1;34m(self, src, kwds)\u001b[0m\n\u001b[0;32m   1366\u001b[0m             \u001b[0mcompression\u001b[0m\u001b[1;33m=\u001b[0m\u001b[0mkwds\u001b[0m\u001b[1;33m.\u001b[0m\u001b[0mget\u001b[0m\u001b[1;33m(\u001b[0m\u001b[1;34m\"compression\"\u001b[0m\u001b[1;33m,\u001b[0m \u001b[1;32mNone\u001b[0m\u001b[1;33m)\u001b[0m\u001b[1;33m,\u001b[0m\u001b[1;33m\u001b[0m\u001b[1;33m\u001b[0m\u001b[0m\n\u001b[0;32m   1367\u001b[0m             \u001b[0mmemory_map\u001b[0m\u001b[1;33m=\u001b[0m\u001b[0mkwds\u001b[0m\u001b[1;33m.\u001b[0m\u001b[0mget\u001b[0m\u001b[1;33m(\u001b[0m\u001b[1;34m\"memory_map\"\u001b[0m\u001b[1;33m,\u001b[0m \u001b[1;32mFalse\u001b[0m\u001b[1;33m)\u001b[0m\u001b[1;33m,\u001b[0m\u001b[1;33m\u001b[0m\u001b[1;33m\u001b[0m\u001b[0m\n\u001b[1;32m-> 1368\u001b[1;33m             \u001b[0mstorage_options\u001b[0m\u001b[1;33m=\u001b[0m\u001b[0mkwds\u001b[0m\u001b[1;33m.\u001b[0m\u001b[0mget\u001b[0m\u001b[1;33m(\u001b[0m\u001b[1;34m\"storage_options\"\u001b[0m\u001b[1;33m,\u001b[0m \u001b[1;32mNone\u001b[0m\u001b[1;33m)\u001b[0m\u001b[1;33m,\u001b[0m\u001b[1;33m\u001b[0m\u001b[1;33m\u001b[0m\u001b[0m\n\u001b[0m\u001b[0;32m   1369\u001b[0m         )\n\u001b[0;32m   1370\u001b[0m \u001b[1;33m\u001b[0m\u001b[0m\n",
      "\u001b[1;32m~\\anaconda3\\envs\\dev\\lib\\site-packages\\pandas\\io\\common.py\u001b[0m in \u001b[0;36mget_handle\u001b[1;34m(path_or_buf, mode, encoding, compression, memory_map, is_text, errors, storage_options)\u001b[0m\n\u001b[0;32m    645\u001b[0m                 \u001b[0mencoding\u001b[0m\u001b[1;33m=\u001b[0m\u001b[0mioargs\u001b[0m\u001b[1;33m.\u001b[0m\u001b[0mencoding\u001b[0m\u001b[1;33m,\u001b[0m\u001b[1;33m\u001b[0m\u001b[1;33m\u001b[0m\u001b[0m\n\u001b[0;32m    646\u001b[0m                 \u001b[0merrors\u001b[0m\u001b[1;33m=\u001b[0m\u001b[0merrors\u001b[0m\u001b[1;33m,\u001b[0m\u001b[1;33m\u001b[0m\u001b[1;33m\u001b[0m\u001b[0m\n\u001b[1;32m--> 647\u001b[1;33m                 \u001b[0mnewline\u001b[0m\u001b[1;33m=\u001b[0m\u001b[1;34m\"\"\u001b[0m\u001b[1;33m,\u001b[0m\u001b[1;33m\u001b[0m\u001b[1;33m\u001b[0m\u001b[0m\n\u001b[0m\u001b[0;32m    648\u001b[0m             )\n\u001b[0;32m    649\u001b[0m         \u001b[1;32melse\u001b[0m\u001b[1;33m:\u001b[0m\u001b[1;33m\u001b[0m\u001b[1;33m\u001b[0m\u001b[0m\n",
      "\u001b[1;31mFileNotFoundError\u001b[0m: [Errno 2] No such file or directory: 'Resources\\\\BTC-USD.csv'"
     ]
    }
   ],
   "source": [
    "# Get BTC OHLCV dataframe\n",
    "df = pd.read_csv(Path(\"Resources/BTC-USD.csv\"), index_col=\"Date\", parse_dates=True, infer_datetime_format=True)\n",
    "display(df.head())\n",
    "display(df.tail())"
   ]
  },
  {
   "cell_type": "code",
   "execution_count": 3,
   "id": "70f39ed5",
   "metadata": {},
   "outputs": [
    {
     "data": {
      "text/html": [
       "<div>\n",
       "<style scoped>\n",
       "    .dataframe tbody tr th:only-of-type {\n",
       "        vertical-align: middle;\n",
       "    }\n",
       "\n",
       "    .dataframe tbody tr th {\n",
       "        vertical-align: top;\n",
       "    }\n",
       "\n",
       "    .dataframe thead th {\n",
       "        text-align: right;\n",
       "    }\n",
       "</style>\n",
       "<table border=\"1\" class=\"dataframe\">\n",
       "  <thead>\n",
       "    <tr style=\"text-align: right;\">\n",
       "      <th></th>\n",
       "      <th>Open</th>\n",
       "      <th>High</th>\n",
       "      <th>Low</th>\n",
       "      <th>Close</th>\n",
       "      <th>Adj Close</th>\n",
       "      <th>Volume</th>\n",
       "    </tr>\n",
       "    <tr>\n",
       "      <th>Date</th>\n",
       "      <th></th>\n",
       "      <th></th>\n",
       "      <th></th>\n",
       "      <th></th>\n",
       "      <th></th>\n",
       "      <th></th>\n",
       "    </tr>\n",
       "  </thead>\n",
       "  <tbody>\n",
       "    <tr>\n",
       "      <th>2020-12-16</th>\n",
       "      <td>19418.818359</td>\n",
       "      <td>21458.908203</td>\n",
       "      <td>19298.316406</td>\n",
       "      <td>21310.597656</td>\n",
       "      <td>21310.597656</td>\n",
       "      <td>4.440901e+10</td>\n",
       "    </tr>\n",
       "    <tr>\n",
       "      <th>2020-12-17</th>\n",
       "      <td>21308.351563</td>\n",
       "      <td>23642.660156</td>\n",
       "      <td>21234.675781</td>\n",
       "      <td>22805.162109</td>\n",
       "      <td>22805.162109</td>\n",
       "      <td>7.137861e+10</td>\n",
       "    </tr>\n",
       "    <tr>\n",
       "      <th>2020-12-18</th>\n",
       "      <td>22806.796875</td>\n",
       "      <td>23238.601563</td>\n",
       "      <td>22399.812500</td>\n",
       "      <td>23137.960938</td>\n",
       "      <td>23137.960938</td>\n",
       "      <td>4.038790e+10</td>\n",
       "    </tr>\n",
       "    <tr>\n",
       "      <th>2020-12-19</th>\n",
       "      <td>23132.865234</td>\n",
       "      <td>24085.855469</td>\n",
       "      <td>22826.472656</td>\n",
       "      <td>23869.832031</td>\n",
       "      <td>23869.832031</td>\n",
       "      <td>3.848755e+10</td>\n",
       "    </tr>\n",
       "    <tr>\n",
       "      <th>2020-12-20</th>\n",
       "      <td>23861.765625</td>\n",
       "      <td>24209.660156</td>\n",
       "      <td>23147.710938</td>\n",
       "      <td>23477.294922</td>\n",
       "      <td>23477.294922</td>\n",
       "      <td>3.784423e+10</td>\n",
       "    </tr>\n",
       "  </tbody>\n",
       "</table>\n",
       "</div>"
      ],
      "text/plain": [
       "                    Open          High           Low         Close  \\\n",
       "Date                                                                 \n",
       "2020-12-16  19418.818359  21458.908203  19298.316406  21310.597656   \n",
       "2020-12-17  21308.351563  23642.660156  21234.675781  22805.162109   \n",
       "2020-12-18  22806.796875  23238.601563  22399.812500  23137.960938   \n",
       "2020-12-19  23132.865234  24085.855469  22826.472656  23869.832031   \n",
       "2020-12-20  23861.765625  24209.660156  23147.710938  23477.294922   \n",
       "\n",
       "               Adj Close        Volume  \n",
       "Date                                    \n",
       "2020-12-16  21310.597656  4.440901e+10  \n",
       "2020-12-17  22805.162109  7.137861e+10  \n",
       "2020-12-18  23137.960938  4.038790e+10  \n",
       "2020-12-19  23869.832031  3.848755e+10  \n",
       "2020-12-20  23477.294922  3.784423e+10  "
      ]
     },
     "execution_count": 3,
     "metadata": {},
     "output_type": "execute_result"
    }
   ],
   "source": [
    "# Slice of double bottom\n",
    "intra = df.loc['12-16-2020':'02-17-2021']\n",
    "intra.head()"
   ]
  },
  {
   "cell_type": "code",
   "execution_count": 4,
   "id": "fc154491",
   "metadata": {},
   "outputs": [],
   "source": [
    "import plotly.graph_objects as go"
   ]
  },
  {
   "cell_type": "code",
   "execution_count": 26,
   "id": "9736732c",
   "metadata": {},
   "outputs": [
    {
     "data": {
      "application/vnd.plotly.v1+json": {
       "config": {
        "plotlyServerURL": "https://plot.ly"
       },
       "data": [
        {
         "close": [
          21310.597656,
          22805.162109,
          23137.960938,
          23869.832031,
          23477.294922,
          22803.082031,
          23783.029297,
          23241.345703,
          23735.949219,
          24664.791016,
          26437.037109,
          26272.294922,
          27084.808594,
          27362.4375,
          28840.953125,
          29001.720703,
          29374.152344,
          32127.267578,
          32782.023438,
          31971.914063,
          33992.429688,
          36824.363281,
          39371.042969,
          40797.609375,
          40254.546875,
          38356.441406,
          35566.65625,
          33922.960938,
          37316.359375,
          39187.328125,
          36825.367188,
          36178.140625,
          35791.277344,
          36630.074219,
          36069.804688,
          35547.75,
          30825.699219,
          33005.761719,
          32067.642578,
          32289.378906,
          32366.392578,
          32569.849609,
          30432.546875,
          31649.605469,
          34316.386719,
          34269.523438,
          33114.359375,
          33537.175781,
          35510.289063,
          37472.089844,
          36926.066406,
          38144.308594,
          39266.011719,
          38903.441406,
          46196.464844,
          46481.105469,
          44918.183594,
          47909.332031,
          47504.851563,
          47105.515625,
          48717.289063,
          47945.058594,
          49199.871094,
          52149.007813
         ],
         "high": [
          21458.908203,
          23642.660156,
          23238.601563,
          24085.855469,
          24209.660156,
          24059.982422,
          23789.902344,
          24024.490234,
          23768.337891,
          24710.101563,
          26718.070313,
          28288.839844,
          27389.111328,
          27370.720703,
          28937.740234,
          29244.876953,
          29600.626953,
          33155.117188,
          34608.558594,
          33440.21875,
          34437.589844,
          36879.699219,
          40180.367188,
          41946.738281,
          41436.351563,
          41420.191406,
          38346.53125,
          36568.527344,
          37599.960938,
          39966.40625,
          39577.710938,
          37864.367188,
          36722.351563,
          37299.285156,
          37755.890625,
          36378.328125,
          35552.679688,
          33811.851563,
          33360.976563,
          32944.007813,
          34802.742188,
          32794.550781,
          32564.029297,
          31891.300781,
          38406.261719,
          34834.707031,
          34288.332031,
          34638.214844,
          35896.882813,
          37480.1875,
          38592.175781,
          38225.90625,
          40846.546875,
          39621.835938,
          46203.929688,
          48003.722656,
          47145.566406,
          48463.46875,
          48745.734375,
          48047.746094,
          49487.640625,
          48875.570313,
          50341.101563,
          52533.914063
         ],
         "low": [
          19298.316406,
          21234.675781,
          22399.8125,
          22826.472656,
          23147.710938,
          22159.367188,
          22430.605469,
          22802.646484,
          22777.597656,
          23463.673828,
          24522.689453,
          25922.769531,
          26207.640625,
          25987.298828,
          27360.089844,
          28201.992188,
          28803.585938,
          29091.181641,
          32052.316406,
          28722.755859,
          30221.1875,
          33514.035156,
          36491.191406,
          36838.636719,
          38980.875,
          35984.628906,
          30549.599609,
          32697.976563,
          32584.667969,
          36868.5625,
          34659.589844,
          35633.554688,
          34069.320313,
          34883.84375,
          36069.804688,
          33570.476563,
          30250.75,
          28953.373047,
          31493.160156,
          31106.685547,
          32087.787109,
          31030.265625,
          29367.138672,
          30023.207031,
          32064.814453,
          32940.1875,
          32270.175781,
          32384.228516,
          33489.21875,
          35443.984375,
          36317.5,
          36658.761719,
          38138.386719,
          37446.152344,
          38076.324219,
          45166.960938,
          43881.152344,
          44187.761719,
          46424.976563,
          46392.28125,
          47114.507813,
          46347.476563,
          47201.304688,
          49072.378906
         ],
         "open": [
          19418.818359,
          21308.351563,
          22806.796875,
          23132.865234,
          23861.765625,
          23474.455078,
          22794.039063,
          23781.974609,
          23240.203125,
          23733.570313,
          24677.015625,
          26439.373047,
          26280.822266,
          27081.810547,
          27360.089844,
          28841.574219,
          28994.009766,
          29376.455078,
          32129.408203,
          32810.949219,
          31977.041016,
          34013.613281,
          36833.875,
          39381.765625,
          40788.640625,
          40254.21875,
          38346.53125,
          35516.359375,
          33915.121094,
          37325.109375,
          39156.707031,
          36821.648438,
          36163.648438,
          35792.238281,
          36642.234375,
          36050.113281,
          35549.398438,
          30817.625,
          32985.757813,
          32064.376953,
          32285.798828,
          32358.613281,
          32564.029297,
          30441.041016,
          34318.671875,
          34295.933594,
          34270.878906,
          33114.578125,
          33533.199219,
          35510.820313,
          37475.105469,
          36931.546875,
          38138.386719,
          39250.191406,
          38886.828125,
          46184.992188,
          46469.761719,
          44898.710938,
          47877.035156,
          47491.203125,
          47114.507813,
          48696.535156,
          47944.457031,
          49207.277344
         ],
         "type": "candlestick",
         "x": [
          "2020-12-16T00:00:00",
          "2020-12-17T00:00:00",
          "2020-12-18T00:00:00",
          "2020-12-19T00:00:00",
          "2020-12-20T00:00:00",
          "2020-12-21T00:00:00",
          "2020-12-22T00:00:00",
          "2020-12-23T00:00:00",
          "2020-12-24T00:00:00",
          "2020-12-25T00:00:00",
          "2020-12-26T00:00:00",
          "2020-12-27T00:00:00",
          "2020-12-28T00:00:00",
          "2020-12-29T00:00:00",
          "2020-12-30T00:00:00",
          "2020-12-31T00:00:00",
          "2021-01-01T00:00:00",
          "2021-01-02T00:00:00",
          "2021-01-03T00:00:00",
          "2021-01-04T00:00:00",
          "2021-01-05T00:00:00",
          "2021-01-06T00:00:00",
          "2021-01-07T00:00:00",
          "2021-01-08T00:00:00",
          "2021-01-09T00:00:00",
          "2021-01-10T00:00:00",
          "2021-01-11T00:00:00",
          "2021-01-12T00:00:00",
          "2021-01-13T00:00:00",
          "2021-01-14T00:00:00",
          "2021-01-15T00:00:00",
          "2021-01-16T00:00:00",
          "2021-01-17T00:00:00",
          "2021-01-18T00:00:00",
          "2021-01-19T00:00:00",
          "2021-01-20T00:00:00",
          "2021-01-21T00:00:00",
          "2021-01-22T00:00:00",
          "2021-01-23T00:00:00",
          "2021-01-24T00:00:00",
          "2021-01-25T00:00:00",
          "2021-01-26T00:00:00",
          "2021-01-27T00:00:00",
          "2021-01-28T00:00:00",
          "2021-01-29T00:00:00",
          "2021-01-30T00:00:00",
          "2021-01-31T00:00:00",
          "2021-02-01T00:00:00",
          "2021-02-02T00:00:00",
          "2021-02-03T00:00:00",
          "2021-02-04T00:00:00",
          "2021-02-05T00:00:00",
          "2021-02-06T00:00:00",
          "2021-02-07T00:00:00",
          "2021-02-08T00:00:00",
          "2021-02-09T00:00:00",
          "2021-02-10T00:00:00",
          "2021-02-11T00:00:00",
          "2021-02-12T00:00:00",
          "2021-02-13T00:00:00",
          "2021-02-14T00:00:00",
          "2021-02-15T00:00:00",
          "2021-02-16T00:00:00",
          "2021-02-17T00:00:00"
         ]
        }
       ],
       "layout": {
        "autosize": true,
        "template": {
         "data": {
          "bar": [
           {
            "error_x": {
             "color": "#2a3f5f"
            },
            "error_y": {
             "color": "#2a3f5f"
            },
            "marker": {
             "line": {
              "color": "#E5ECF6",
              "width": 0.5
             },
             "pattern": {
              "fillmode": "overlay",
              "size": 10,
              "solidity": 0.2
             }
            },
            "type": "bar"
           }
          ],
          "barpolar": [
           {
            "marker": {
             "line": {
              "color": "#E5ECF6",
              "width": 0.5
             },
             "pattern": {
              "fillmode": "overlay",
              "size": 10,
              "solidity": 0.2
             }
            },
            "type": "barpolar"
           }
          ],
          "carpet": [
           {
            "aaxis": {
             "endlinecolor": "#2a3f5f",
             "gridcolor": "white",
             "linecolor": "white",
             "minorgridcolor": "white",
             "startlinecolor": "#2a3f5f"
            },
            "baxis": {
             "endlinecolor": "#2a3f5f",
             "gridcolor": "white",
             "linecolor": "white",
             "minorgridcolor": "white",
             "startlinecolor": "#2a3f5f"
            },
            "type": "carpet"
           }
          ],
          "choropleth": [
           {
            "colorbar": {
             "outlinewidth": 0,
             "ticks": ""
            },
            "type": "choropleth"
           }
          ],
          "contour": [
           {
            "colorbar": {
             "outlinewidth": 0,
             "ticks": ""
            },
            "colorscale": [
             [
              0,
              "#0d0887"
             ],
             [
              0.1111111111111111,
              "#46039f"
             ],
             [
              0.2222222222222222,
              "#7201a8"
             ],
             [
              0.3333333333333333,
              "#9c179e"
             ],
             [
              0.4444444444444444,
              "#bd3786"
             ],
             [
              0.5555555555555556,
              "#d8576b"
             ],
             [
              0.6666666666666666,
              "#ed7953"
             ],
             [
              0.7777777777777778,
              "#fb9f3a"
             ],
             [
              0.8888888888888888,
              "#fdca26"
             ],
             [
              1,
              "#f0f921"
             ]
            ],
            "type": "contour"
           }
          ],
          "contourcarpet": [
           {
            "colorbar": {
             "outlinewidth": 0,
             "ticks": ""
            },
            "type": "contourcarpet"
           }
          ],
          "heatmap": [
           {
            "colorbar": {
             "outlinewidth": 0,
             "ticks": ""
            },
            "colorscale": [
             [
              0,
              "#0d0887"
             ],
             [
              0.1111111111111111,
              "#46039f"
             ],
             [
              0.2222222222222222,
              "#7201a8"
             ],
             [
              0.3333333333333333,
              "#9c179e"
             ],
             [
              0.4444444444444444,
              "#bd3786"
             ],
             [
              0.5555555555555556,
              "#d8576b"
             ],
             [
              0.6666666666666666,
              "#ed7953"
             ],
             [
              0.7777777777777778,
              "#fb9f3a"
             ],
             [
              0.8888888888888888,
              "#fdca26"
             ],
             [
              1,
              "#f0f921"
             ]
            ],
            "type": "heatmap"
           }
          ],
          "heatmapgl": [
           {
            "colorbar": {
             "outlinewidth": 0,
             "ticks": ""
            },
            "colorscale": [
             [
              0,
              "#0d0887"
             ],
             [
              0.1111111111111111,
              "#46039f"
             ],
             [
              0.2222222222222222,
              "#7201a8"
             ],
             [
              0.3333333333333333,
              "#9c179e"
             ],
             [
              0.4444444444444444,
              "#bd3786"
             ],
             [
              0.5555555555555556,
              "#d8576b"
             ],
             [
              0.6666666666666666,
              "#ed7953"
             ],
             [
              0.7777777777777778,
              "#fb9f3a"
             ],
             [
              0.8888888888888888,
              "#fdca26"
             ],
             [
              1,
              "#f0f921"
             ]
            ],
            "type": "heatmapgl"
           }
          ],
          "histogram": [
           {
            "marker": {
             "pattern": {
              "fillmode": "overlay",
              "size": 10,
              "solidity": 0.2
             }
            },
            "type": "histogram"
           }
          ],
          "histogram2d": [
           {
            "colorbar": {
             "outlinewidth": 0,
             "ticks": ""
            },
            "colorscale": [
             [
              0,
              "#0d0887"
             ],
             [
              0.1111111111111111,
              "#46039f"
             ],
             [
              0.2222222222222222,
              "#7201a8"
             ],
             [
              0.3333333333333333,
              "#9c179e"
             ],
             [
              0.4444444444444444,
              "#bd3786"
             ],
             [
              0.5555555555555556,
              "#d8576b"
             ],
             [
              0.6666666666666666,
              "#ed7953"
             ],
             [
              0.7777777777777778,
              "#fb9f3a"
             ],
             [
              0.8888888888888888,
              "#fdca26"
             ],
             [
              1,
              "#f0f921"
             ]
            ],
            "type": "histogram2d"
           }
          ],
          "histogram2dcontour": [
           {
            "colorbar": {
             "outlinewidth": 0,
             "ticks": ""
            },
            "colorscale": [
             [
              0,
              "#0d0887"
             ],
             [
              0.1111111111111111,
              "#46039f"
             ],
             [
              0.2222222222222222,
              "#7201a8"
             ],
             [
              0.3333333333333333,
              "#9c179e"
             ],
             [
              0.4444444444444444,
              "#bd3786"
             ],
             [
              0.5555555555555556,
              "#d8576b"
             ],
             [
              0.6666666666666666,
              "#ed7953"
             ],
             [
              0.7777777777777778,
              "#fb9f3a"
             ],
             [
              0.8888888888888888,
              "#fdca26"
             ],
             [
              1,
              "#f0f921"
             ]
            ],
            "type": "histogram2dcontour"
           }
          ],
          "mesh3d": [
           {
            "colorbar": {
             "outlinewidth": 0,
             "ticks": ""
            },
            "type": "mesh3d"
           }
          ],
          "parcoords": [
           {
            "line": {
             "colorbar": {
              "outlinewidth": 0,
              "ticks": ""
             }
            },
            "type": "parcoords"
           }
          ],
          "pie": [
           {
            "automargin": true,
            "type": "pie"
           }
          ],
          "scatter": [
           {
            "marker": {
             "colorbar": {
              "outlinewidth": 0,
              "ticks": ""
             }
            },
            "type": "scatter"
           }
          ],
          "scatter3d": [
           {
            "line": {
             "colorbar": {
              "outlinewidth": 0,
              "ticks": ""
             }
            },
            "marker": {
             "colorbar": {
              "outlinewidth": 0,
              "ticks": ""
             }
            },
            "type": "scatter3d"
           }
          ],
          "scattercarpet": [
           {
            "marker": {
             "colorbar": {
              "outlinewidth": 0,
              "ticks": ""
             }
            },
            "type": "scattercarpet"
           }
          ],
          "scattergeo": [
           {
            "marker": {
             "colorbar": {
              "outlinewidth": 0,
              "ticks": ""
             }
            },
            "type": "scattergeo"
           }
          ],
          "scattergl": [
           {
            "marker": {
             "colorbar": {
              "outlinewidth": 0,
              "ticks": ""
             }
            },
            "type": "scattergl"
           }
          ],
          "scattermapbox": [
           {
            "marker": {
             "colorbar": {
              "outlinewidth": 0,
              "ticks": ""
             }
            },
            "type": "scattermapbox"
           }
          ],
          "scatterpolar": [
           {
            "marker": {
             "colorbar": {
              "outlinewidth": 0,
              "ticks": ""
             }
            },
            "type": "scatterpolar"
           }
          ],
          "scatterpolargl": [
           {
            "marker": {
             "colorbar": {
              "outlinewidth": 0,
              "ticks": ""
             }
            },
            "type": "scatterpolargl"
           }
          ],
          "scatterternary": [
           {
            "marker": {
             "colorbar": {
              "outlinewidth": 0,
              "ticks": ""
             }
            },
            "type": "scatterternary"
           }
          ],
          "surface": [
           {
            "colorbar": {
             "outlinewidth": 0,
             "ticks": ""
            },
            "colorscale": [
             [
              0,
              "#0d0887"
             ],
             [
              0.1111111111111111,
              "#46039f"
             ],
             [
              0.2222222222222222,
              "#7201a8"
             ],
             [
              0.3333333333333333,
              "#9c179e"
             ],
             [
              0.4444444444444444,
              "#bd3786"
             ],
             [
              0.5555555555555556,
              "#d8576b"
             ],
             [
              0.6666666666666666,
              "#ed7953"
             ],
             [
              0.7777777777777778,
              "#fb9f3a"
             ],
             [
              0.8888888888888888,
              "#fdca26"
             ],
             [
              1,
              "#f0f921"
             ]
            ],
            "type": "surface"
           }
          ],
          "table": [
           {
            "cells": {
             "fill": {
              "color": "#EBF0F8"
             },
             "line": {
              "color": "white"
             }
            },
            "header": {
             "fill": {
              "color": "#C8D4E3"
             },
             "line": {
              "color": "white"
             }
            },
            "type": "table"
           }
          ]
         },
         "layout": {
          "annotationdefaults": {
           "arrowcolor": "#2a3f5f",
           "arrowhead": 0,
           "arrowwidth": 1
          },
          "autotypenumbers": "strict",
          "coloraxis": {
           "colorbar": {
            "outlinewidth": 0,
            "ticks": ""
           }
          },
          "colorscale": {
           "diverging": [
            [
             0,
             "#8e0152"
            ],
            [
             0.1,
             "#c51b7d"
            ],
            [
             0.2,
             "#de77ae"
            ],
            [
             0.3,
             "#f1b6da"
            ],
            [
             0.4,
             "#fde0ef"
            ],
            [
             0.5,
             "#f7f7f7"
            ],
            [
             0.6,
             "#e6f5d0"
            ],
            [
             0.7,
             "#b8e186"
            ],
            [
             0.8,
             "#7fbc41"
            ],
            [
             0.9,
             "#4d9221"
            ],
            [
             1,
             "#276419"
            ]
           ],
           "sequential": [
            [
             0,
             "#0d0887"
            ],
            [
             0.1111111111111111,
             "#46039f"
            ],
            [
             0.2222222222222222,
             "#7201a8"
            ],
            [
             0.3333333333333333,
             "#9c179e"
            ],
            [
             0.4444444444444444,
             "#bd3786"
            ],
            [
             0.5555555555555556,
             "#d8576b"
            ],
            [
             0.6666666666666666,
             "#ed7953"
            ],
            [
             0.7777777777777778,
             "#fb9f3a"
            ],
            [
             0.8888888888888888,
             "#fdca26"
            ],
            [
             1,
             "#f0f921"
            ]
           ],
           "sequentialminus": [
            [
             0,
             "#0d0887"
            ],
            [
             0.1111111111111111,
             "#46039f"
            ],
            [
             0.2222222222222222,
             "#7201a8"
            ],
            [
             0.3333333333333333,
             "#9c179e"
            ],
            [
             0.4444444444444444,
             "#bd3786"
            ],
            [
             0.5555555555555556,
             "#d8576b"
            ],
            [
             0.6666666666666666,
             "#ed7953"
            ],
            [
             0.7777777777777778,
             "#fb9f3a"
            ],
            [
             0.8888888888888888,
             "#fdca26"
            ],
            [
             1,
             "#f0f921"
            ]
           ]
          },
          "colorway": [
           "#636efa",
           "#EF553B",
           "#00cc96",
           "#ab63fa",
           "#FFA15A",
           "#19d3f3",
           "#FF6692",
           "#B6E880",
           "#FF97FF",
           "#FECB52"
          ],
          "font": {
           "color": "#2a3f5f"
          },
          "geo": {
           "bgcolor": "white",
           "lakecolor": "white",
           "landcolor": "#E5ECF6",
           "showlakes": true,
           "showland": true,
           "subunitcolor": "white"
          },
          "hoverlabel": {
           "align": "left"
          },
          "hovermode": "closest",
          "mapbox": {
           "style": "light"
          },
          "paper_bgcolor": "white",
          "plot_bgcolor": "#E5ECF6",
          "polar": {
           "angularaxis": {
            "gridcolor": "white",
            "linecolor": "white",
            "ticks": ""
           },
           "bgcolor": "#E5ECF6",
           "radialaxis": {
            "gridcolor": "white",
            "linecolor": "white",
            "ticks": ""
           }
          },
          "scene": {
           "xaxis": {
            "backgroundcolor": "#E5ECF6",
            "gridcolor": "white",
            "gridwidth": 2,
            "linecolor": "white",
            "showbackground": true,
            "ticks": "",
            "zerolinecolor": "white"
           },
           "yaxis": {
            "backgroundcolor": "#E5ECF6",
            "gridcolor": "white",
            "gridwidth": 2,
            "linecolor": "white",
            "showbackground": true,
            "ticks": "",
            "zerolinecolor": "white"
           },
           "zaxis": {
            "backgroundcolor": "#E5ECF6",
            "gridcolor": "white",
            "gridwidth": 2,
            "linecolor": "white",
            "showbackground": true,
            "ticks": "",
            "zerolinecolor": "white"
           }
          },
          "shapedefaults": {
           "line": {
            "color": "#2a3f5f"
           }
          },
          "ternary": {
           "aaxis": {
            "gridcolor": "white",
            "linecolor": "white",
            "ticks": ""
           },
           "baxis": {
            "gridcolor": "white",
            "linecolor": "white",
            "ticks": ""
           },
           "bgcolor": "#E5ECF6",
           "caxis": {
            "gridcolor": "white",
            "linecolor": "white",
            "ticks": ""
           }
          },
          "title": {
           "x": 0.05
          },
          "xaxis": {
           "automargin": true,
           "gridcolor": "white",
           "linecolor": "white",
           "ticks": "",
           "title": {
            "standoff": 15
           },
           "zerolinecolor": "white",
           "zerolinewidth": 2
          },
          "yaxis": {
           "automargin": true,
           "gridcolor": "white",
           "linecolor": "white",
           "ticks": "",
           "title": {
            "standoff": 15
           },
           "zerolinecolor": "white",
           "zerolinewidth": 2
          }
         }
        },
        "xaxis": {
         "autorange": true,
         "range": [
          "2020-12-15 12:00",
          "2021-02-17 12:00"
         ],
         "rangeslider": {
          "autorange": true,
          "range": [
           "2020-12-15 12:00",
           "2021-02-17 12:00"
          ],
          "yaxis": {
           "_template": null,
           "rangemode": "match"
          }
         },
         "type": "date"
        },
        "yaxis": {
         "autorange": true,
         "range": [
          17451.894313944445,
          54380.33615505555
         ]
        }
       }
      },
      "image/png": "[encoded data removed]",
      "text/html": [
       "<div>                            <div id=\"719c54a6-4f14-4e8e-a21b-a38560cf8225\" class=\"plotly-graph-div\" style=\"height:525px; width:100%;\"></div>            <script type=\"text/javascript\">                require([\"plotly\"], function(Plotly) {                    window.PLOTLYENV=window.PLOTLYENV || {};                                    if (document.getElementById(\"719c54a6-4f14-4e8e-a21b-a38560cf8225\")) {                    Plotly.newPlot(                        \"719c54a6-4f14-4e8e-a21b-a38560cf8225\",                        [{\"close\":[21310.597656,22805.162109,23137.960938,23869.832031,23477.294922,22803.082031,23783.029297,23241.345703,23735.949219,24664.791016,26437.037109,26272.294922,27084.808594,27362.4375,28840.953125,29001.720703,29374.152344,32127.267578,32782.023438,31971.914063,33992.429688,36824.363281,39371.042969,40797.609375,40254.546875,38356.441406,35566.65625,33922.960938,37316.359375,39187.328125,36825.367188,36178.140625,35791.277344,36630.074219,36069.804688,35547.75,30825.699219,33005.761719,32067.642578,32289.378906,32366.392578,32569.849609,30432.546875,31649.605469,34316.386719,34269.523438,33114.359375,33537.175781,35510.289063,37472.089844,36926.066406,38144.308594,39266.011719,38903.441406,46196.464844,46481.105469,44918.183594,47909.332031,47504.851563,47105.515625,48717.289063,47945.058594,49199.871094,52149.007813],\"high\":[21458.908203,23642.660156,23238.601563,24085.855469,24209.660156,24059.982422,23789.902344,24024.490234,23768.337891,24710.101563,26718.070313,28288.839844,27389.111328,27370.720703,28937.740234,29244.876953,29600.626953,33155.117188,34608.558594,33440.21875,34437.589844,36879.699219,40180.367188,41946.738281,41436.351563,41420.191406,38346.53125,36568.527344,37599.960938,39966.40625,39577.710938,37864.367188,36722.351563,37299.285156,37755.890625,36378.328125,35552.679688,33811.851563,33360.976563,32944.007813,34802.742188,32794.550781,32564.029297,31891.300781,38406.261719,34834.707031,34288.332031,34638.214844,35896.882813,37480.1875,38592.175781,38225.90625,40846.546875,39621.835938,46203.929688,48003.722656,47145.566406,48463.46875,48745.734375,48047.746094,49487.640625,48875.570313,50341.101563,52533.914063],\"low\":[19298.316406,21234.675781,22399.8125,22826.472656,23147.710938,22159.367188,22430.605469,22802.646484,22777.597656,23463.673828,24522.689453,25922.769531,26207.640625,25987.298828,27360.089844,28201.992188,28803.585938,29091.181641,32052.316406,28722.755859,30221.1875,33514.035156,36491.191406,36838.636719,38980.875,35984.628906,30549.599609,32697.976563,32584.667969,36868.5625,34659.589844,35633.554688,34069.320313,34883.84375,36069.804688,33570.476563,30250.75,28953.373047,31493.160156,31106.685547,32087.787109,31030.265625,29367.138672,30023.207031,32064.814453,32940.1875,32270.175781,32384.228516,33489.21875,35443.984375,36317.5,36658.761719,38138.386719,37446.152344,38076.324219,45166.960938,43881.152344,44187.761719,46424.976563,46392.28125,47114.507813,46347.476563,47201.304688,49072.378906],\"open\":[19418.818359,21308.351563,22806.796875,23132.865234,23861.765625,23474.455078,22794.039063,23781.974609,23240.203125,23733.570313,24677.015625,26439.373047,26280.822266,27081.810547,27360.089844,28841.574219,28994.009766,29376.455078,32129.408203,32810.949219,31977.041016,34013.613281,36833.875,39381.765625,40788.640625,40254.21875,38346.53125,35516.359375,33915.121094,37325.109375,39156.707031,36821.648438,36163.648438,35792.238281,36642.234375,36050.113281,35549.398438,30817.625,32985.757813,32064.376953,32285.798828,32358.613281,32564.029297,30441.041016,34318.671875,34295.933594,34270.878906,33114.578125,33533.199219,35510.820313,37475.105469,36931.546875,38138.386719,39250.191406,38886.828125,46184.992188,46469.761719,44898.710938,47877.035156,47491.203125,47114.507813,48696.535156,47944.457031,49207.277344],\"type\":\"candlestick\",\"x\":[\"2020-12-16T00:00:00\",\"2020-12-17T00:00:00\",\"2020-12-18T00:00:00\",\"2020-12-19T00:00:00\",\"2020-12-20T00:00:00\",\"2020-12-21T00:00:00\",\"2020-12-22T00:00:00\",\"2020-12-23T00:00:00\",\"2020-12-24T00:00:00\",\"2020-12-25T00:00:00\",\"2020-12-26T00:00:00\",\"2020-12-27T00:00:00\",\"2020-12-28T00:00:00\",\"2020-12-29T00:00:00\",\"2020-12-30T00:00:00\",\"2020-12-31T00:00:00\",\"2021-01-01T00:00:00\",\"2021-01-02T00:00:00\",\"2021-01-03T00:00:00\",\"2021-01-04T00:00:00\",\"2021-01-05T00:00:00\",\"2021-01-06T00:00:00\",\"2021-01-07T00:00:00\",\"2021-01-08T00:00:00\",\"2021-01-09T00:00:00\",\"2021-01-10T00:00:00\",\"2021-01-11T00:00:00\",\"2021-01-12T00:00:00\",\"2021-01-13T00:00:00\",\"2021-01-14T00:00:00\",\"2021-01-15T00:00:00\",\"2021-01-16T00:00:00\",\"2021-01-17T00:00:00\",\"2021-01-18T00:00:00\",\"2021-01-19T00:00:00\",\"2021-01-20T00:00:00\",\"2021-01-21T00:00:00\",\"2021-01-22T00:00:00\",\"2021-01-23T00:00:00\",\"2021-01-24T00:00:00\",\"2021-01-25T00:00:00\",\"2021-01-26T00:00:00\",\"2021-01-27T00:00:00\",\"2021-01-28T00:00:00\",\"2021-01-29T00:00:00\",\"2021-01-30T00:00:00\",\"2021-01-31T00:00:00\",\"2021-02-01T00:00:00\",\"2021-02-02T00:00:00\",\"2021-02-03T00:00:00\",\"2021-02-04T00:00:00\",\"2021-02-05T00:00:00\",\"2021-02-06T00:00:00\",\"2021-02-07T00:00:00\",\"2021-02-08T00:00:00\",\"2021-02-09T00:00:00\",\"2021-02-10T00:00:00\",\"2021-02-11T00:00:00\",\"2021-02-12T00:00:00\",\"2021-02-13T00:00:00\",\"2021-02-14T00:00:00\",\"2021-02-15T00:00:00\",\"2021-02-16T00:00:00\",\"2021-02-17T00:00:00\"]}],                        {\"template\":{\"data\":{\"bar\":[{\"error_x\":{\"color\":\"#2a3f5f\"},\"error_y\":{\"color\":\"#2a3f5f\"},\"marker\":{\"line\":{\"color\":\"#E5ECF6\",\"width\":0.5},\"pattern\":{\"fillmode\":\"overlay\",\"size\":10,\"solidity\":0.2}},\"type\":\"bar\"}],\"barpolar\":[{\"marker\":{\"line\":{\"color\":\"#E5ECF6\",\"width\":0.5},\"pattern\":{\"fillmode\":\"overlay\",\"size\":10,\"solidity\":0.2}},\"type\":\"barpolar\"}],\"carpet\":[{\"aaxis\":{\"endlinecolor\":\"#2a3f5f\",\"gridcolor\":\"white\",\"linecolor\":\"white\",\"minorgridcolor\":\"white\",\"startlinecolor\":\"#2a3f5f\"},\"baxis\":{\"endlinecolor\":\"#2a3f5f\",\"gridcolor\":\"white\",\"linecolor\":\"white\",\"minorgridcolor\":\"white\",\"startlinecolor\":\"#2a3f5f\"},\"type\":\"carpet\"}],\"choropleth\":[{\"colorbar\":{\"outlinewidth\":0,\"ticks\":\"\"},\"type\":\"choropleth\"}],\"contour\":[{\"colorbar\":{\"outlinewidth\":0,\"ticks\":\"\"},\"colorscale\":[[0.0,\"#0d0887\"],[0.1111111111111111,\"#46039f\"],[0.2222222222222222,\"#7201a8\"],[0.3333333333333333,\"#9c179e\"],[0.4444444444444444,\"#bd3786\"],[0.5555555555555556,\"#d8576b\"],[0.6666666666666666,\"#ed7953\"],[0.7777777777777778,\"#fb9f3a\"],[0.8888888888888888,\"#fdca26\"],[1.0,\"#f0f921\"]],\"type\":\"contour\"}],\"contourcarpet\":[{\"colorbar\":{\"outlinewidth\":0,\"ticks\":\"\"},\"type\":\"contourcarpet\"}],\"heatmap\":[{\"colorbar\":{\"outlinewidth\":0,\"ticks\":\"\"},\"colorscale\":[[0.0,\"#0d0887\"],[0.1111111111111111,\"#46039f\"],[0.2222222222222222,\"#7201a8\"],[0.3333333333333333,\"#9c179e\"],[0.4444444444444444,\"#bd3786\"],[0.5555555555555556,\"#d8576b\"],[0.6666666666666666,\"#ed7953\"],[0.7777777777777778,\"#fb9f3a\"],[0.8888888888888888,\"#fdca26\"],[1.0,\"#f0f921\"]],\"type\":\"heatmap\"}],\"heatmapgl\":[{\"colorbar\":{\"outlinewidth\":0,\"ticks\":\"\"},\"colorscale\":[[0.0,\"#0d0887\"],[0.1111111111111111,\"#46039f\"],[0.2222222222222222,\"#7201a8\"],[0.3333333333333333,\"#9c179e\"],[0.4444444444444444,\"#bd3786\"],[0.5555555555555556,\"#d8576b\"],[0.6666666666666666,\"#ed7953\"],[0.7777777777777778,\"#fb9f3a\"],[0.8888888888888888,\"#fdca26\"],[1.0,\"#f0f921\"]],\"type\":\"heatmapgl\"}],\"histogram\":[{\"marker\":{\"pattern\":{\"fillmode\":\"overlay\",\"size\":10,\"solidity\":0.2}},\"type\":\"histogram\"}],\"histogram2d\":[{\"colorbar\":{\"outlinewidth\":0,\"ticks\":\"\"},\"colorscale\":[[0.0,\"#0d0887\"],[0.1111111111111111,\"#46039f\"],[0.2222222222222222,\"#7201a8\"],[0.3333333333333333,\"#9c179e\"],[0.4444444444444444,\"#bd3786\"],[0.5555555555555556,\"#d8576b\"],[0.6666666666666666,\"#ed7953\"],[0.7777777777777778,\"#fb9f3a\"],[0.8888888888888888,\"#fdca26\"],[1.0,\"#f0f921\"]],\"type\":\"histogram2d\"}],\"histogram2dcontour\":[{\"colorbar\":{\"outlinewidth\":0,\"ticks\":\"\"},\"colorscale\":[[0.0,\"#0d0887\"],[0.1111111111111111,\"#46039f\"],[0.2222222222222222,\"#7201a8\"],[0.3333333333333333,\"#9c179e\"],[0.4444444444444444,\"#bd3786\"],[0.5555555555555556,\"#d8576b\"],[0.6666666666666666,\"#ed7953\"],[0.7777777777777778,\"#fb9f3a\"],[0.8888888888888888,\"#fdca26\"],[1.0,\"#f0f921\"]],\"type\":\"histogram2dcontour\"}],\"mesh3d\":[{\"colorbar\":{\"outlinewidth\":0,\"ticks\":\"\"},\"type\":\"mesh3d\"}],\"parcoords\":[{\"line\":{\"colorbar\":{\"outlinewidth\":0,\"ticks\":\"\"}},\"type\":\"parcoords\"}],\"pie\":[{\"automargin\":true,\"type\":\"pie\"}],\"scatter\":[{\"marker\":{\"colorbar\":{\"outlinewidth\":0,\"ticks\":\"\"}},\"type\":\"scatter\"}],\"scatter3d\":[{\"line\":{\"colorbar\":{\"outlinewidth\":0,\"ticks\":\"\"}},\"marker\":{\"colorbar\":{\"outlinewidth\":0,\"ticks\":\"\"}},\"type\":\"scatter3d\"}],\"scattercarpet\":[{\"marker\":{\"colorbar\":{\"outlinewidth\":0,\"ticks\":\"\"}},\"type\":\"scattercarpet\"}],\"scattergeo\":[{\"marker\":{\"colorbar\":{\"outlinewidth\":0,\"ticks\":\"\"}},\"type\":\"scattergeo\"}],\"scattergl\":[{\"marker\":{\"colorbar\":{\"outlinewidth\":0,\"ticks\":\"\"}},\"type\":\"scattergl\"}],\"scattermapbox\":[{\"marker\":{\"colorbar\":{\"outlinewidth\":0,\"ticks\":\"\"}},\"type\":\"scattermapbox\"}],\"scatterpolar\":[{\"marker\":{\"colorbar\":{\"outlinewidth\":0,\"ticks\":\"\"}},\"type\":\"scatterpolar\"}],\"scatterpolargl\":[{\"marker\":{\"colorbar\":{\"outlinewidth\":0,\"ticks\":\"\"}},\"type\":\"scatterpolargl\"}],\"scatterternary\":[{\"marker\":{\"colorbar\":{\"outlinewidth\":0,\"ticks\":\"\"}},\"type\":\"scatterternary\"}],\"surface\":[{\"colorbar\":{\"outlinewidth\":0,\"ticks\":\"\"},\"colorscale\":[[0.0,\"#0d0887\"],[0.1111111111111111,\"#46039f\"],[0.2222222222222222,\"#7201a8\"],[0.3333333333333333,\"#9c179e\"],[0.4444444444444444,\"#bd3786\"],[0.5555555555555556,\"#d8576b\"],[0.6666666666666666,\"#ed7953\"],[0.7777777777777778,\"#fb9f3a\"],[0.8888888888888888,\"#fdca26\"],[1.0,\"#f0f921\"]],\"type\":\"surface\"}],\"table\":[{\"cells\":{\"fill\":{\"color\":\"#EBF0F8\"},\"line\":{\"color\":\"white\"}},\"header\":{\"fill\":{\"color\":\"#C8D4E3\"},\"line\":{\"color\":\"white\"}},\"type\":\"table\"}]},\"layout\":{\"annotationdefaults\":{\"arrowcolor\":\"#2a3f5f\",\"arrowhead\":0,\"arrowwidth\":1},\"autotypenumbers\":\"strict\",\"coloraxis\":{\"colorbar\":{\"outlinewidth\":0,\"ticks\":\"\"}},\"colorscale\":{\"diverging\":[[0,\"#8e0152\"],[0.1,\"#c51b7d\"],[0.2,\"#de77ae\"],[0.3,\"#f1b6da\"],[0.4,\"#fde0ef\"],[0.5,\"#f7f7f7\"],[0.6,\"#e6f5d0\"],[0.7,\"#b8e186\"],[0.8,\"#7fbc41\"],[0.9,\"#4d9221\"],[1,\"#276419\"]],\"sequential\":[[0.0,\"#0d0887\"],[0.1111111111111111,\"#46039f\"],[0.2222222222222222,\"#7201a8\"],[0.3333333333333333,\"#9c179e\"],[0.4444444444444444,\"#bd3786\"],[0.5555555555555556,\"#d8576b\"],[0.6666666666666666,\"#ed7953\"],[0.7777777777777778,\"#fb9f3a\"],[0.8888888888888888,\"#fdca26\"],[1.0,\"#f0f921\"]],\"sequentialminus\":[[0.0,\"#0d0887\"],[0.1111111111111111,\"#46039f\"],[0.2222222222222222,\"#7201a8\"],[0.3333333333333333,\"#9c179e\"],[0.4444444444444444,\"#bd3786\"],[0.5555555555555556,\"#d8576b\"],[0.6666666666666666,\"#ed7953\"],[0.7777777777777778,\"#fb9f3a\"],[0.8888888888888888,\"#fdca26\"],[1.0,\"#f0f921\"]]},\"colorway\":[\"#636efa\",\"#EF553B\",\"#00cc96\",\"#ab63fa\",\"#FFA15A\",\"#19d3f3\",\"#FF6692\",\"#B6E880\",\"#FF97FF\",\"#FECB52\"],\"font\":{\"color\":\"#2a3f5f\"},\"geo\":{\"bgcolor\":\"white\",\"lakecolor\":\"white\",\"landcolor\":\"#E5ECF6\",\"showlakes\":true,\"showland\":true,\"subunitcolor\":\"white\"},\"hoverlabel\":{\"align\":\"left\"},\"hovermode\":\"closest\",\"mapbox\":{\"style\":\"light\"},\"paper_bgcolor\":\"white\",\"plot_bgcolor\":\"#E5ECF6\",\"polar\":{\"angularaxis\":{\"gridcolor\":\"white\",\"linecolor\":\"white\",\"ticks\":\"\"},\"bgcolor\":\"#E5ECF6\",\"radialaxis\":{\"gridcolor\":\"white\",\"linecolor\":\"white\",\"ticks\":\"\"}},\"scene\":{\"xaxis\":{\"backgroundcolor\":\"#E5ECF6\",\"gridcolor\":\"white\",\"gridwidth\":2,\"linecolor\":\"white\",\"showbackground\":true,\"ticks\":\"\",\"zerolinecolor\":\"white\"},\"yaxis\":{\"backgroundcolor\":\"#E5ECF6\",\"gridcolor\":\"white\",\"gridwidth\":2,\"linecolor\":\"white\",\"showbackground\":true,\"ticks\":\"\",\"zerolinecolor\":\"white\"},\"zaxis\":{\"backgroundcolor\":\"#E5ECF6\",\"gridcolor\":\"white\",\"gridwidth\":2,\"linecolor\":\"white\",\"showbackground\":true,\"ticks\":\"\",\"zerolinecolor\":\"white\"}},\"shapedefaults\":{\"line\":{\"color\":\"#2a3f5f\"}},\"ternary\":{\"aaxis\":{\"gridcolor\":\"white\",\"linecolor\":\"white\",\"ticks\":\"\"},\"baxis\":{\"gridcolor\":\"white\",\"linecolor\":\"white\",\"ticks\":\"\"},\"bgcolor\":\"#E5ECF6\",\"caxis\":{\"gridcolor\":\"white\",\"linecolor\":\"white\",\"ticks\":\"\"}},\"title\":{\"x\":0.05},\"xaxis\":{\"automargin\":true,\"gridcolor\":\"white\",\"linecolor\":\"white\",\"ticks\":\"\",\"title\":{\"standoff\":15},\"zerolinecolor\":\"white\",\"zerolinewidth\":2},\"yaxis\":{\"automargin\":true,\"gridcolor\":\"white\",\"linecolor\":\"white\",\"ticks\":\"\",\"title\":{\"standoff\":15},\"zerolinecolor\":\"white\",\"zerolinewidth\":2}}}},                        {\"responsive\": true}                    ).then(function(){\n",
       "                            \n",
       "var gd = document.getElementById('719c54a6-4f14-4e8e-a21b-a38560cf8225');\n",
       "var x = new MutationObserver(function (mutations, observer) {{\n",
       "        var display = window.getComputedStyle(gd).display;\n",
       "        if (!display || display === 'none') {{\n",
       "            console.log([gd, 'removed!']);\n",
       "            Plotly.purge(gd);\n",
       "            observer.disconnect();\n",
       "        }}\n",
       "}});\n",
       "\n",
       "// Listen for the removal of the full notebook cells\n",
       "var notebookContainer = gd.closest('#notebook-container');\n",
       "if (notebookContainer) {{\n",
       "    x.observe(notebookContainer, {childList: true});\n",
       "}}\n",
       "\n",
       "// Listen for the clearing of the current output cell\n",
       "var outputEl = gd.closest('.output');\n",
       "if (outputEl) {{\n",
       "    x.observe(outputEl, {childList: true});\n",
       "}}\n",
       "\n",
       "                        })                };                });            </script>        </div>"
      ]
     },
     "metadata": {},
     "output_type": "display_data"
    }
   ],
   "source": [
    "# Use plotly to plot candlesticks\n",
    "fig = go.Figure(data=[go.Candlestick(x=intra.index,\n",
    "                open=intra['Open'],\n",
    "                high=intra['High'],\n",
    "                low=intra['Low'],\n",
    "                close=intra['Close'])])\n",
    "\n",
    "fig.show()"
   ]
  },
  {
   "cell_type": "code",
   "execution_count": 92,
   "id": "7b02d265",
   "metadata": {},
   "outputs": [
    {
     "data": {
      "text/html": [
       "<div>\n",
       "<style scoped>\n",
       "    .dataframe tbody tr th:only-of-type {\n",
       "        vertical-align: middle;\n",
       "    }\n",
       "\n",
       "    .dataframe tbody tr th {\n",
       "        vertical-align: top;\n",
       "    }\n",
       "\n",
       "    .dataframe thead th {\n",
       "        text-align: right;\n",
       "    }\n",
       "</style>\n",
       "<table border=\"1\" class=\"dataframe\">\n",
       "  <thead>\n",
       "    <tr style=\"text-align: right;\">\n",
       "      <th></th>\n",
       "      <th>Open</th>\n",
       "      <th>High</th>\n",
       "      <th>Low</th>\n",
       "      <th>Close</th>\n",
       "      <th>Adj Close</th>\n",
       "      <th>Volume</th>\n",
       "    </tr>\n",
       "    <tr>\n",
       "      <th>Date</th>\n",
       "      <th></th>\n",
       "      <th></th>\n",
       "      <th></th>\n",
       "      <th></th>\n",
       "      <th></th>\n",
       "      <th></th>\n",
       "    </tr>\n",
       "  </thead>\n",
       "  <tbody>\n",
       "    <tr>\n",
       "      <th>2020-12-16</th>\n",
       "      <td>19418.818359</td>\n",
       "      <td>21458.908203</td>\n",
       "      <td>19298.316406</td>\n",
       "      <td>21310.597656</td>\n",
       "      <td>21310.597656</td>\n",
       "      <td>4.440901e+10</td>\n",
       "    </tr>\n",
       "    <tr>\n",
       "      <th>2020-12-17</th>\n",
       "      <td>21308.351563</td>\n",
       "      <td>23642.660156</td>\n",
       "      <td>21234.675781</td>\n",
       "      <td>22805.162109</td>\n",
       "      <td>22805.162109</td>\n",
       "      <td>7.137861e+10</td>\n",
       "    </tr>\n",
       "    <tr>\n",
       "      <th>2020-12-18</th>\n",
       "      <td>22806.796875</td>\n",
       "      <td>23238.601563</td>\n",
       "      <td>22399.812500</td>\n",
       "      <td>23137.960938</td>\n",
       "      <td>23137.960938</td>\n",
       "      <td>4.038790e+10</td>\n",
       "    </tr>\n",
       "    <tr>\n",
       "      <th>2020-12-19</th>\n",
       "      <td>23132.865234</td>\n",
       "      <td>24085.855469</td>\n",
       "      <td>22826.472656</td>\n",
       "      <td>23869.832031</td>\n",
       "      <td>23869.832031</td>\n",
       "      <td>3.848755e+10</td>\n",
       "    </tr>\n",
       "    <tr>\n",
       "      <th>2020-12-20</th>\n",
       "      <td>23861.765625</td>\n",
       "      <td>24209.660156</td>\n",
       "      <td>23147.710938</td>\n",
       "      <td>23477.294922</td>\n",
       "      <td>23477.294922</td>\n",
       "      <td>3.784423e+10</td>\n",
       "    </tr>\n",
       "    <tr>\n",
       "      <th>2020-12-21</th>\n",
       "      <td>23474.455078</td>\n",
       "      <td>24059.982422</td>\n",
       "      <td>22159.367188</td>\n",
       "      <td>22803.082031</td>\n",
       "      <td>22803.082031</td>\n",
       "      <td>4.585271e+10</td>\n",
       "    </tr>\n",
       "    <tr>\n",
       "      <th>2020-12-22</th>\n",
       "      <td>22794.039063</td>\n",
       "      <td>23789.902344</td>\n",
       "      <td>22430.605469</td>\n",
       "      <td>23783.029297</td>\n",
       "      <td>23783.029297</td>\n",
       "      <td>4.417163e+10</td>\n",
       "    </tr>\n",
       "    <tr>\n",
       "      <th>2020-12-23</th>\n",
       "      <td>23781.974609</td>\n",
       "      <td>24024.490234</td>\n",
       "      <td>22802.646484</td>\n",
       "      <td>23241.345703</td>\n",
       "      <td>23241.345703</td>\n",
       "      <td>5.114616e+10</td>\n",
       "    </tr>\n",
       "    <tr>\n",
       "      <th>2020-12-24</th>\n",
       "      <td>23240.203125</td>\n",
       "      <td>23768.337891</td>\n",
       "      <td>22777.597656</td>\n",
       "      <td>23735.949219</td>\n",
       "      <td>23735.949219</td>\n",
       "      <td>4.108076e+10</td>\n",
       "    </tr>\n",
       "    <tr>\n",
       "      <th>2020-12-25</th>\n",
       "      <td>23733.570313</td>\n",
       "      <td>24710.101563</td>\n",
       "      <td>23463.673828</td>\n",
       "      <td>24664.791016</td>\n",
       "      <td>24664.791016</td>\n",
       "      <td>4.206840e+10</td>\n",
       "    </tr>\n",
       "    <tr>\n",
       "      <th>2020-12-26</th>\n",
       "      <td>24677.015625</td>\n",
       "      <td>26718.070313</td>\n",
       "      <td>24522.689453</td>\n",
       "      <td>26437.037109</td>\n",
       "      <td>26437.037109</td>\n",
       "      <td>4.833265e+10</td>\n",
       "    </tr>\n",
       "    <tr>\n",
       "      <th>2020-12-27</th>\n",
       "      <td>26439.373047</td>\n",
       "      <td>28288.839844</td>\n",
       "      <td>25922.769531</td>\n",
       "      <td>26272.294922</td>\n",
       "      <td>26272.294922</td>\n",
       "      <td>6.647990e+10</td>\n",
       "    </tr>\n",
       "    <tr>\n",
       "      <th>2020-12-28</th>\n",
       "      <td>26280.822266</td>\n",
       "      <td>27389.111328</td>\n",
       "      <td>26207.640625</td>\n",
       "      <td>27084.808594</td>\n",
       "      <td>27084.808594</td>\n",
       "      <td>4.905674e+10</td>\n",
       "    </tr>\n",
       "    <tr>\n",
       "      <th>2020-12-29</th>\n",
       "      <td>27081.810547</td>\n",
       "      <td>27370.720703</td>\n",
       "      <td>25987.298828</td>\n",
       "      <td>27362.437500</td>\n",
       "      <td>27362.437500</td>\n",
       "      <td>4.526595e+10</td>\n",
       "    </tr>\n",
       "    <tr>\n",
       "      <th>2020-12-30</th>\n",
       "      <td>27360.089844</td>\n",
       "      <td>28937.740234</td>\n",
       "      <td>27360.089844</td>\n",
       "      <td>28840.953125</td>\n",
       "      <td>28840.953125</td>\n",
       "      <td>5.128744e+10</td>\n",
       "    </tr>\n",
       "    <tr>\n",
       "      <th>2020-12-31</th>\n",
       "      <td>28841.574219</td>\n",
       "      <td>29244.876953</td>\n",
       "      <td>28201.992188</td>\n",
       "      <td>29001.720703</td>\n",
       "      <td>29001.720703</td>\n",
       "      <td>4.675496e+10</td>\n",
       "    </tr>\n",
       "    <tr>\n",
       "      <th>2021-01-01</th>\n",
       "      <td>28994.009766</td>\n",
       "      <td>29600.626953</td>\n",
       "      <td>28803.585938</td>\n",
       "      <td>29374.152344</td>\n",
       "      <td>29374.152344</td>\n",
       "      <td>4.073030e+10</td>\n",
       "    </tr>\n",
       "    <tr>\n",
       "      <th>2021-01-02</th>\n",
       "      <td>29376.455078</td>\n",
       "      <td>33155.117188</td>\n",
       "      <td>29091.181641</td>\n",
       "      <td>32127.267578</td>\n",
       "      <td>32127.267578</td>\n",
       "      <td>6.786542e+10</td>\n",
       "    </tr>\n",
       "    <tr>\n",
       "      <th>2021-01-03</th>\n",
       "      <td>32129.408203</td>\n",
       "      <td>34608.558594</td>\n",
       "      <td>32052.316406</td>\n",
       "      <td>32782.023438</td>\n",
       "      <td>32782.023438</td>\n",
       "      <td>7.866524e+10</td>\n",
       "    </tr>\n",
       "    <tr>\n",
       "      <th>2021-01-04</th>\n",
       "      <td>32810.949219</td>\n",
       "      <td>33440.218750</td>\n",
       "      <td>28722.755859</td>\n",
       "      <td>31971.914063</td>\n",
       "      <td>31971.914063</td>\n",
       "      <td>8.116348e+10</td>\n",
       "    </tr>\n",
       "    <tr>\n",
       "      <th>2021-01-05</th>\n",
       "      <td>31977.041016</td>\n",
       "      <td>34437.589844</td>\n",
       "      <td>30221.187500</td>\n",
       "      <td>33992.429688</td>\n",
       "      <td>33992.429688</td>\n",
       "      <td>6.754732e+10</td>\n",
       "    </tr>\n",
       "    <tr>\n",
       "      <th>2021-01-06</th>\n",
       "      <td>34013.613281</td>\n",
       "      <td>36879.699219</td>\n",
       "      <td>33514.035156</td>\n",
       "      <td>36824.363281</td>\n",
       "      <td>36824.363281</td>\n",
       "      <td>7.528943e+10</td>\n",
       "    </tr>\n",
       "    <tr>\n",
       "      <th>2021-01-07</th>\n",
       "      <td>36833.875000</td>\n",
       "      <td>40180.367188</td>\n",
       "      <td>36491.191406</td>\n",
       "      <td>39371.042969</td>\n",
       "      <td>39371.042969</td>\n",
       "      <td>8.476214e+10</td>\n",
       "    </tr>\n",
       "    <tr>\n",
       "      <th>2021-01-08</th>\n",
       "      <td>39381.765625</td>\n",
       "      <td>41946.738281</td>\n",
       "      <td>36838.636719</td>\n",
       "      <td>40797.609375</td>\n",
       "      <td>40797.609375</td>\n",
       "      <td>8.810752e+10</td>\n",
       "    </tr>\n",
       "    <tr>\n",
       "      <th>2021-01-09</th>\n",
       "      <td>40788.640625</td>\n",
       "      <td>41436.351563</td>\n",
       "      <td>38980.875000</td>\n",
       "      <td>40254.546875</td>\n",
       "      <td>40254.546875</td>\n",
       "      <td>6.198416e+10</td>\n",
       "    </tr>\n",
       "    <tr>\n",
       "      <th>2021-01-10</th>\n",
       "      <td>40254.218750</td>\n",
       "      <td>41420.191406</td>\n",
       "      <td>35984.628906</td>\n",
       "      <td>38356.441406</td>\n",
       "      <td>38356.441406</td>\n",
       "      <td>7.998075e+10</td>\n",
       "    </tr>\n",
       "    <tr>\n",
       "      <th>2021-01-11</th>\n",
       "      <td>38346.531250</td>\n",
       "      <td>38346.531250</td>\n",
       "      <td>30549.599609</td>\n",
       "      <td>35566.656250</td>\n",
       "      <td>35566.656250</td>\n",
       "      <td>1.233206e+11</td>\n",
       "    </tr>\n",
       "    <tr>\n",
       "      <th>2021-01-12</th>\n",
       "      <td>35516.359375</td>\n",
       "      <td>36568.527344</td>\n",
       "      <td>32697.976563</td>\n",
       "      <td>33922.960938</td>\n",
       "      <td>33922.960938</td>\n",
       "      <td>7.477328e+10</td>\n",
       "    </tr>\n",
       "    <tr>\n",
       "      <th>2021-01-13</th>\n",
       "      <td>33915.121094</td>\n",
       "      <td>37599.960938</td>\n",
       "      <td>32584.667969</td>\n",
       "      <td>37316.359375</td>\n",
       "      <td>37316.359375</td>\n",
       "      <td>6.936432e+10</td>\n",
       "    </tr>\n",
       "    <tr>\n",
       "      <th>2021-01-14</th>\n",
       "      <td>37325.109375</td>\n",
       "      <td>39966.406250</td>\n",
       "      <td>36868.562500</td>\n",
       "      <td>39187.328125</td>\n",
       "      <td>39187.328125</td>\n",
       "      <td>6.361599e+10</td>\n",
       "    </tr>\n",
       "    <tr>\n",
       "      <th>2021-01-15</th>\n",
       "      <td>39156.707031</td>\n",
       "      <td>39577.710938</td>\n",
       "      <td>34659.589844</td>\n",
       "      <td>36825.367188</td>\n",
       "      <td>36825.367188</td>\n",
       "      <td>6.776076e+10</td>\n",
       "    </tr>\n",
       "    <tr>\n",
       "      <th>2021-01-16</th>\n",
       "      <td>36821.648438</td>\n",
       "      <td>37864.367188</td>\n",
       "      <td>35633.554688</td>\n",
       "      <td>36178.140625</td>\n",
       "      <td>36178.140625</td>\n",
       "      <td>5.770619e+10</td>\n",
       "    </tr>\n",
       "    <tr>\n",
       "      <th>2021-01-17</th>\n",
       "      <td>36163.648438</td>\n",
       "      <td>36722.351563</td>\n",
       "      <td>34069.320313</td>\n",
       "      <td>35791.277344</td>\n",
       "      <td>35791.277344</td>\n",
       "      <td>5.235985e+10</td>\n",
       "    </tr>\n",
       "    <tr>\n",
       "      <th>2021-01-18</th>\n",
       "      <td>35792.238281</td>\n",
       "      <td>37299.285156</td>\n",
       "      <td>34883.843750</td>\n",
       "      <td>36630.074219</td>\n",
       "      <td>36630.074219</td>\n",
       "      <td>4.951170e+10</td>\n",
       "    </tr>\n",
       "    <tr>\n",
       "      <th>2021-01-19</th>\n",
       "      <td>36642.234375</td>\n",
       "      <td>37755.890625</td>\n",
       "      <td>36069.804688</td>\n",
       "      <td>36069.804688</td>\n",
       "      <td>36069.804688</td>\n",
       "      <td>5.724420e+10</td>\n",
       "    </tr>\n",
       "    <tr>\n",
       "      <th>2021-01-20</th>\n",
       "      <td>36050.113281</td>\n",
       "      <td>36378.328125</td>\n",
       "      <td>33570.476563</td>\n",
       "      <td>35547.750000</td>\n",
       "      <td>35547.750000</td>\n",
       "      <td>6.683457e+10</td>\n",
       "    </tr>\n",
       "    <tr>\n",
       "      <th>2021-01-21</th>\n",
       "      <td>35549.398438</td>\n",
       "      <td>35552.679688</td>\n",
       "      <td>30250.750000</td>\n",
       "      <td>30825.699219</td>\n",
       "      <td>30825.699219</td>\n",
       "      <td>7.564307e+10</td>\n",
       "    </tr>\n",
       "    <tr>\n",
       "      <th>2021-01-22</th>\n",
       "      <td>30817.625000</td>\n",
       "      <td>33811.851563</td>\n",
       "      <td>28953.373047</td>\n",
       "      <td>33005.761719</td>\n",
       "      <td>33005.761719</td>\n",
       "      <td>7.720727e+10</td>\n",
       "    </tr>\n",
       "    <tr>\n",
       "      <th>2021-01-23</th>\n",
       "      <td>32985.757813</td>\n",
       "      <td>33360.976563</td>\n",
       "      <td>31493.160156</td>\n",
       "      <td>32067.642578</td>\n",
       "      <td>32067.642578</td>\n",
       "      <td>4.835474e+10</td>\n",
       "    </tr>\n",
       "    <tr>\n",
       "      <th>2021-01-24</th>\n",
       "      <td>32064.376953</td>\n",
       "      <td>32944.007813</td>\n",
       "      <td>31106.685547</td>\n",
       "      <td>32289.378906</td>\n",
       "      <td>32289.378906</td>\n",
       "      <td>4.864383e+10</td>\n",
       "    </tr>\n",
       "  </tbody>\n",
       "</table>\n",
       "</div>"
      ],
      "text/plain": [
       "                    Open          High           Low         Close  \\\n",
       "Date                                                                 \n",
       "2020-12-16  19418.818359  21458.908203  19298.316406  21310.597656   \n",
       "2020-12-17  21308.351563  23642.660156  21234.675781  22805.162109   \n",
       "2020-12-18  22806.796875  23238.601563  22399.812500  23137.960938   \n",
       "2020-12-19  23132.865234  24085.855469  22826.472656  23869.832031   \n",
       "2020-12-20  23861.765625  24209.660156  23147.710938  23477.294922   \n",
       "2020-12-21  23474.455078  24059.982422  22159.367188  22803.082031   \n",
       "2020-12-22  22794.039063  23789.902344  22430.605469  23783.029297   \n",
       "2020-12-23  23781.974609  24024.490234  22802.646484  23241.345703   \n",
       "2020-12-24  23240.203125  23768.337891  22777.597656  23735.949219   \n",
       "2020-12-25  23733.570313  24710.101563  23463.673828  24664.791016   \n",
       "2020-12-26  24677.015625  26718.070313  24522.689453  26437.037109   \n",
       "2020-12-27  26439.373047  28288.839844  25922.769531  26272.294922   \n",
       "2020-12-28  26280.822266  27389.111328  26207.640625  27084.808594   \n",
       "2020-12-29  27081.810547  27370.720703  25987.298828  27362.437500   \n",
       "2020-12-30  27360.089844  28937.740234  27360.089844  28840.953125   \n",
       "2020-12-31  28841.574219  29244.876953  28201.992188  29001.720703   \n",
       "2021-01-01  28994.009766  29600.626953  28803.585938  29374.152344   \n",
       "2021-01-02  29376.455078  33155.117188  29091.181641  32127.267578   \n",
       "2021-01-03  32129.408203  34608.558594  32052.316406  32782.023438   \n",
       "2021-01-04  32810.949219  33440.218750  28722.755859  31971.914063   \n",
       "2021-01-05  31977.041016  34437.589844  30221.187500  33992.429688   \n",
       "2021-01-06  34013.613281  36879.699219  33514.035156  36824.363281   \n",
       "2021-01-07  36833.875000  40180.367188  36491.191406  39371.042969   \n",
       "2021-01-08  39381.765625  41946.738281  36838.636719  40797.609375   \n",
       "2021-01-09  40788.640625  41436.351563  38980.875000  40254.546875   \n",
       "2021-01-10  40254.218750  41420.191406  35984.628906  38356.441406   \n",
       "2021-01-11  38346.531250  38346.531250  30549.599609  35566.656250   \n",
       "2021-01-12  35516.359375  36568.527344  32697.976563  33922.960938   \n",
       "2021-01-13  33915.121094  37599.960938  32584.667969  37316.359375   \n",
       "2021-01-14  37325.109375  39966.406250  36868.562500  39187.328125   \n",
       "2021-01-15  39156.707031  39577.710938  34659.589844  36825.367188   \n",
       "2021-01-16  36821.648438  37864.367188  35633.554688  36178.140625   \n",
       "2021-01-17  36163.648438  36722.351563  34069.320313  35791.277344   \n",
       "2021-01-18  35792.238281  37299.285156  34883.843750  36630.074219   \n",
       "2021-01-19  36642.234375  37755.890625  36069.804688  36069.804688   \n",
       "2021-01-20  36050.113281  36378.328125  33570.476563  35547.750000   \n",
       "2021-01-21  35549.398438  35552.679688  30250.750000  30825.699219   \n",
       "2021-01-22  30817.625000  33811.851563  28953.373047  33005.761719   \n",
       "2021-01-23  32985.757813  33360.976563  31493.160156  32067.642578   \n",
       "2021-01-24  32064.376953  32944.007813  31106.685547  32289.378906   \n",
       "\n",
       "               Adj Close        Volume  \n",
       "Date                                    \n",
       "2020-12-16  21310.597656  4.440901e+10  \n",
       "2020-12-17  22805.162109  7.137861e+10  \n",
       "2020-12-18  23137.960938  4.038790e+10  \n",
       "2020-12-19  23869.832031  3.848755e+10  \n",
       "2020-12-20  23477.294922  3.784423e+10  \n",
       "2020-12-21  22803.082031  4.585271e+10  \n",
       "2020-12-22  23783.029297  4.417163e+10  \n",
       "2020-12-23  23241.345703  5.114616e+10  \n",
       "2020-12-24  23735.949219  4.108076e+10  \n",
       "2020-12-25  24664.791016  4.206840e+10  \n",
       "2020-12-26  26437.037109  4.833265e+10  \n",
       "2020-12-27  26272.294922  6.647990e+10  \n",
       "2020-12-28  27084.808594  4.905674e+10  \n",
       "2020-12-29  27362.437500  4.526595e+10  \n",
       "2020-12-30  28840.953125  5.128744e+10  \n",
       "2020-12-31  29001.720703  4.675496e+10  \n",
       "2021-01-01  29374.152344  4.073030e+10  \n",
       "2021-01-02  32127.267578  6.786542e+10  \n",
       "2021-01-03  32782.023438  7.866524e+10  \n",
       "2021-01-04  31971.914063  8.116348e+10  \n",
       "2021-01-05  33992.429688  6.754732e+10  \n",
       "2021-01-06  36824.363281  7.528943e+10  \n",
       "2021-01-07  39371.042969  8.476214e+10  \n",
       "2021-01-08  40797.609375  8.810752e+10  \n",
       "2021-01-09  40254.546875  6.198416e+10  \n",
       "2021-01-10  38356.441406  7.998075e+10  \n",
       "2021-01-11  35566.656250  1.233206e+11  \n",
       "2021-01-12  33922.960938  7.477328e+10  \n",
       "2021-01-13  37316.359375  6.936432e+10  \n",
       "2021-01-14  39187.328125  6.361599e+10  \n",
       "2021-01-15  36825.367188  6.776076e+10  \n",
       "2021-01-16  36178.140625  5.770619e+10  \n",
       "2021-01-17  35791.277344  5.235985e+10  \n",
       "2021-01-18  36630.074219  4.951170e+10  \n",
       "2021-01-19  36069.804688  5.724420e+10  \n",
       "2021-01-20  35547.750000  6.683457e+10  \n",
       "2021-01-21  30825.699219  7.564307e+10  \n",
       "2021-01-22  33005.761719  7.720727e+10  \n",
       "2021-01-23  32067.642578  4.835474e+10  \n",
       "2021-01-24  32289.378906  4.864383e+10  "
      ]
     },
     "execution_count": 92,
     "metadata": {},
     "output_type": "execute_result"
    }
   ],
   "source": [
    "intra.head(40)"
   ]
  },
  {
   "cell_type": "code",
   "execution_count": 136,
   "id": "6671257d",
   "metadata": {},
   "outputs": [],
   "source": [
    "# Store local max and min ranges\n",
    "localmin_range = {}\n",
    "localmax_range = {}"
   ]
  },
  {
   "cell_type": "code",
   "execution_count": 39,
   "id": "9ee86fac",
   "metadata": {},
   "outputs": [],
   "source": []
  },
  {
   "cell_type": "code",
   "execution_count": 120,
   "id": "b22daef2",
   "metadata": {},
   "outputs": [],
   "source": [
    "# Check if there is a previous bar\n",
    "def update_cert(cert, index, df):\n",
    "    # Create certifying candle\n",
    "    # count number of null values to see if is first row\n",
    "    null_count = 0\n",
    "    for value in cert.values():\n",
    "        if value == None:\n",
    "            null_count += 1\n",
    "    \n",
    "    # update prev dictionary if all null values\n",
    "    # if first row it will update with those values\n",
    "    if null_count == 5:\n",
    "        cert['t'] = index\n",
    "        cert['o'] = float(df.loc[index]['Open'])\n",
    "        cert['c'] = float(df.loc[index]['Close'])\n",
    "        cert['h'] = float(df.loc[index]['High'])\n",
    "        cert['l'] = float(df.loc[index]['Low'])\n",
    "        \n",
    "        # return the certying candle dictionary\n",
    "        return cert\n",
    "    \n",
    "    # update prev with new prev values (new prev is old curr)\n",
    "    else:\n",
    "        if index + datetime.timedelta(days=1):\n",
    "            cert['t'] = (index)\n",
    "            cert['o'] = float(df.loc[index]['Open'])\n",
    "            cert['c'] = float(df.loc[index]['Close'])\n",
    "            cert['h'] = float(df.loc[index]['High'])\n",
    "            cert['l'] = float(df.loc[index]['Low'])\n",
    "        \n",
    "            # return the certying candle dictionary\n",
    "            return cert\n",
    "# c[c.iloc[:, 0] == 1]\n",
    "        \n",
    "def update_curr(curr, index, df):\n",
    "    # Create current dictionary of current candle\n",
    "    idx = df.index  \n",
    "    \n",
    "    # format datetime index\n",
    "    dt_object = (index - datetime.timedelta(days=1)).to_datetime64()\n",
    "#     print(type(idx))\n",
    "    \n",
    "#     print(sum(df.index == dt_object))\n",
    "    \n",
    "    if sum(df.index == dt_object) > 0:\n",
    "        index -= datetime.timedelta(days=1)\n",
    "        curr['t'] = (index)\n",
    "        curr['o'] = float(df.loc[index]['Open'])\n",
    "        curr['c'] = float(df.loc[index]['Close'])\n",
    "        curr['h'] = float(df.loc[index]['High'])\n",
    "        curr['l'] = float(df.loc[index]['Low'])\n",
    "        \n",
    "        # return the current candle dictionary\n",
    "        return curr\n",
    "    else:\n",
    "        pass\n",
    "        \n",
    "def update_prev(prev, index, df):\n",
    "    # Create the previous candle\n",
    "    idx = df.index\n",
    "    \n",
    "\n",
    "    dt_object = (index - datetime.timedelta(days=2)).to_datetime64()\n",
    "\n",
    "#     print(sum(df.index == dt_object) )\n",
    "    if sum(df.index == dt_object) > 0:\n",
    "        index -= datetime.timedelta(days=2)\n",
    "        prev['t'] = (index)\n",
    "        prev['o'] = float(df.loc[index]['Open'])\n",
    "        prev['c'] = float(df.loc[index]['Close'])\n",
    "        prev['h'] = float(df.loc[index]['High'])\n",
    "        prev['l'] = float(df.loc[index]['Low'])\n",
    "        \n",
    "        # return the previous candle dictionary\n",
    "        return prev\n",
    "    else:\n",
    "        pass"
   ]
  },
  {
   "cell_type": "code",
   "execution_count": 158,
   "id": "b01ce130",
   "metadata": {},
   "outputs": [
    {
     "name": "stdout",
     "output_type": "stream",
     "text": [
      "Third candle: None \n",
      "Second candle: None \n",
      "First candle: {'t': Timestamp('2020-12-16 00:00:00'), 'o': 19418.818359, 'c': 21310.597656, 'h': 21458.908203, 'l': 19298.316406} \n",
      "\n",
      "Third candle: None \n",
      "Second candle: {'t': Timestamp('2020-12-16 00:00:00'), 'o': 19418.818359, 'c': 21310.597656, 'h': 21458.908203, 'l': 19298.316406} \n",
      "First candle: {'t': Timestamp('2020-12-17 00:00:00'), 'o': 21308.351563, 'c': 22805.162109, 'h': 23642.660156, 'l': 21234.675781} \n",
      "\n",
      "Third candle: {'t': Timestamp('2020-12-16 00:00:00'), 'o': 19418.818359, 'c': 21310.597656, 'h': 21458.908203, 'l': 19298.316406} \n",
      "Second candle: {'t': Timestamp('2020-12-17 00:00:00'), 'o': 21308.351563, 'c': 22805.162109, 'h': 23642.660156, 'l': 21234.675781} \n",
      "First candle: {'t': Timestamp('2020-12-18 00:00:00'), 'o': 22806.796875, 'c': 23137.960938, 'h': 23238.601563, 'l': 22399.8125} \n",
      "\n",
      "Third candle: {'t': Timestamp('2020-12-17 00:00:00'), 'o': 21308.351563, 'c': 22805.162109, 'h': 23642.660156, 'l': 21234.675781} \n",
      "Second candle: {'t': Timestamp('2020-12-18 00:00:00'), 'o': 22806.796875, 'c': 23137.960938, 'h': 23238.601563, 'l': 22399.8125} \n",
      "First candle: {'t': Timestamp('2020-12-19 00:00:00'), 'o': 23132.865234, 'c': 23869.832031, 'h': 24085.855469, 'l': 22826.472656} \n",
      "\n",
      "Third candle: {'t': Timestamp('2020-12-18 00:00:00'), 'o': 22806.796875, 'c': 23137.960938, 'h': 23238.601563, 'l': 22399.8125} \n",
      "Second candle: {'t': Timestamp('2020-12-19 00:00:00'), 'o': 23132.865234, 'c': 23869.832031, 'h': 24085.855469, 'l': 22826.472656} \n",
      "First candle: {'t': Timestamp('2020-12-20 00:00:00'), 'o': 23861.765625, 'c': 23477.294922, 'h': 24209.660156, 'l': 23147.710938} \n",
      "\n",
      "Third candle: {'t': Timestamp('2020-12-19 00:00:00'), 'o': 23132.865234, 'c': 23869.832031, 'h': 24085.855469, 'l': 22826.472656} \n",
      "Second candle: {'t': Timestamp('2020-12-20 00:00:00'), 'o': 23861.765625, 'c': 23477.294922, 'h': 24209.660156, 'l': 23147.710938} \n",
      "First candle: {'t': Timestamp('2020-12-21 00:00:00'), 'o': 23474.455078, 'c': 22803.082031, 'h': 24059.982422, 'l': 22159.367188} \n",
      "\n",
      "Third candle: {'t': Timestamp('2020-12-20 00:00:00'), 'o': 23861.765625, 'c': 23477.294922, 'h': 24209.660156, 'l': 23147.710938} \n",
      "Second candle: {'t': Timestamp('2020-12-21 00:00:00'), 'o': 23474.455078, 'c': 22803.082031, 'h': 24059.982422, 'l': 22159.367188} \n",
      "First candle: {'t': Timestamp('2020-12-22 00:00:00'), 'o': 22794.039063, 'c': 23783.029297, 'h': 23789.902344, 'l': 22430.605469} \n",
      "\n",
      "Third candle: {'t': Timestamp('2020-12-21 00:00:00'), 'o': 23474.455078, 'c': 22803.082031, 'h': 24059.982422, 'l': 22159.367188} \n",
      "Second candle: {'t': Timestamp('2020-12-22 00:00:00'), 'o': 22794.039063, 'c': 23783.029297, 'h': 23789.902344, 'l': 22430.605469} \n",
      "First candle: {'t': Timestamp('2020-12-23 00:00:00'), 'o': 23781.974609, 'c': 23241.345703, 'h': 24024.490234, 'l': 22802.646484} \n",
      "\n",
      "Third candle: {'t': Timestamp('2020-12-22 00:00:00'), 'o': 22794.039063, 'c': 23783.029297, 'h': 23789.902344, 'l': 22430.605469} \n",
      "Second candle: {'t': Timestamp('2020-12-23 00:00:00'), 'o': 23781.974609, 'c': 23241.345703, 'h': 24024.490234, 'l': 22802.646484} \n",
      "First candle: {'t': Timestamp('2020-12-24 00:00:00'), 'o': 23240.203125, 'c': 23735.949219, 'h': 23768.337891, 'l': 22777.597656} \n",
      "\n",
      "Third candle: {'t': Timestamp('2020-12-23 00:00:00'), 'o': 23781.974609, 'c': 23241.345703, 'h': 24024.490234, 'l': 22802.646484} \n",
      "Second candle: {'t': Timestamp('2020-12-24 00:00:00'), 'o': 23240.203125, 'c': 23735.949219, 'h': 23768.337891, 'l': 22777.597656} \n",
      "First candle: {'t': Timestamp('2020-12-25 00:00:00'), 'o': 23733.570313, 'c': 24664.791016, 'h': 24710.101563, 'l': 23463.673828} \n",
      "\n",
      "Third candle: {'t': Timestamp('2020-12-24 00:00:00'), 'o': 23240.203125, 'c': 23735.949219, 'h': 23768.337891, 'l': 22777.597656} \n",
      "Second candle: {'t': Timestamp('2020-12-25 00:00:00'), 'o': 23733.570313, 'c': 24664.791016, 'h': 24710.101563, 'l': 23463.673828} \n",
      "First candle: {'t': Timestamp('2020-12-26 00:00:00'), 'o': 24677.015625, 'c': 26437.037109, 'h': 26718.070313, 'l': 24522.689453} \n",
      "\n",
      "Third candle: {'t': Timestamp('2020-12-25 00:00:00'), 'o': 23733.570313, 'c': 24664.791016, 'h': 24710.101563, 'l': 23463.673828} \n",
      "Second candle: {'t': Timestamp('2020-12-26 00:00:00'), 'o': 24677.015625, 'c': 26437.037109, 'h': 26718.070313, 'l': 24522.689453} \n",
      "First candle: {'t': Timestamp('2020-12-27 00:00:00'), 'o': 26439.373047, 'c': 26272.294922, 'h': 28288.839844, 'l': 25922.769531} \n",
      "\n",
      "Third candle: {'t': Timestamp('2020-12-26 00:00:00'), 'o': 24677.015625, 'c': 26437.037109, 'h': 26718.070313, 'l': 24522.689453} \n",
      "Second candle: {'t': Timestamp('2020-12-27 00:00:00'), 'o': 26439.373047, 'c': 26272.294922, 'h': 28288.839844, 'l': 25922.769531} \n",
      "First candle: {'t': Timestamp('2020-12-28 00:00:00'), 'o': 26280.822266, 'c': 27084.808594, 'h': 27389.111328, 'l': 26207.640625} \n",
      "\n",
      "Third candle: {'t': Timestamp('2020-12-27 00:00:00'), 'o': 26439.373047, 'c': 26272.294922, 'h': 28288.839844, 'l': 25922.769531} \n",
      "Second candle: {'t': Timestamp('2020-12-28 00:00:00'), 'o': 26280.822266, 'c': 27084.808594, 'h': 27389.111328, 'l': 26207.640625} \n",
      "First candle: {'t': Timestamp('2020-12-29 00:00:00'), 'o': 27081.810547, 'c': 27362.4375, 'h': 27370.720703, 'l': 25987.298828} \n",
      "\n",
      "Third candle: {'t': Timestamp('2020-12-28 00:00:00'), 'o': 26280.822266, 'c': 27084.808594, 'h': 27389.111328, 'l': 26207.640625} \n",
      "Second candle: {'t': Timestamp('2020-12-29 00:00:00'), 'o': 27081.810547, 'c': 27362.4375, 'h': 27370.720703, 'l': 25987.298828} \n",
      "First candle: {'t': Timestamp('2020-12-30 00:00:00'), 'o': 27360.089844, 'c': 28840.953125, 'h': 28937.740234, 'l': 27360.089844} \n",
      "\n",
      "Third candle: {'t': Timestamp('2020-12-29 00:00:00'), 'o': 27081.810547, 'c': 27362.4375, 'h': 27370.720703, 'l': 25987.298828} \n",
      "Second candle: {'t': Timestamp('2020-12-30 00:00:00'), 'o': 27360.089844, 'c': 28840.953125, 'h': 28937.740234, 'l': 27360.089844} \n",
      "First candle: {'t': Timestamp('2020-12-31 00:00:00'), 'o': 28841.574219, 'c': 29001.720703, 'h': 29244.876953, 'l': 28201.992188} \n",
      "\n",
      "Third candle: {'t': Timestamp('2020-12-30 00:00:00'), 'o': 27360.089844, 'c': 28840.953125, 'h': 28937.740234, 'l': 27360.089844} \n",
      "Second candle: {'t': Timestamp('2020-12-31 00:00:00'), 'o': 28841.574219, 'c': 29001.720703, 'h': 29244.876953, 'l': 28201.992188} \n",
      "First candle: {'t': Timestamp('2021-01-01 00:00:00'), 'o': 28994.009766, 'c': 29374.152344, 'h': 29600.626953, 'l': 28803.585938} \n",
      "\n",
      "Third candle: {'t': Timestamp('2020-12-31 00:00:00'), 'o': 28841.574219, 'c': 29001.720703, 'h': 29244.876953, 'l': 28201.992188} \n",
      "Second candle: {'t': Timestamp('2021-01-01 00:00:00'), 'o': 28994.009766, 'c': 29374.152344, 'h': 29600.626953, 'l': 28803.585938} \n",
      "First candle: {'t': Timestamp('2021-01-02 00:00:00'), 'o': 29376.455078, 'c': 32127.267578, 'h': 33155.117188, 'l': 29091.181641} \n",
      "\n",
      "Third candle: {'t': Timestamp('2021-01-01 00:00:00'), 'o': 28994.009766, 'c': 29374.152344, 'h': 29600.626953, 'l': 28803.585938} \n",
      "Second candle: {'t': Timestamp('2021-01-02 00:00:00'), 'o': 29376.455078, 'c': 32127.267578, 'h': 33155.117188, 'l': 29091.181641} \n",
      "First candle: {'t': Timestamp('2021-01-03 00:00:00'), 'o': 32129.408203, 'c': 32782.023438, 'h': 34608.558594, 'l': 32052.316406} \n",
      "\n",
      "Third candle: {'t': Timestamp('2021-01-02 00:00:00'), 'o': 29376.455078, 'c': 32127.267578, 'h': 33155.117188, 'l': 29091.181641} \n",
      "Second candle: {'t': Timestamp('2021-01-03 00:00:00'), 'o': 32129.408203, 'c': 32782.023438, 'h': 34608.558594, 'l': 32052.316406} \n",
      "First candle: {'t': Timestamp('2021-01-04 00:00:00'), 'o': 32810.949219, 'c': 31971.914063, 'h': 33440.21875, 'l': 28722.755859} \n",
      "\n",
      "Third candle: {'t': Timestamp('2021-01-03 00:00:00'), 'o': 32129.408203, 'c': 32782.023438, 'h': 34608.558594, 'l': 32052.316406} \n",
      "Second candle: {'t': Timestamp('2021-01-04 00:00:00'), 'o': 32810.949219, 'c': 31971.914063, 'h': 33440.21875, 'l': 28722.755859} \n",
      "First candle: {'t': Timestamp('2021-01-05 00:00:00'), 'o': 31977.041016, 'c': 33992.429688, 'h': 34437.589844, 'l': 30221.1875} \n",
      "\n",
      "Third candle: {'t': Timestamp('2021-01-04 00:00:00'), 'o': 32810.949219, 'c': 31971.914063, 'h': 33440.21875, 'l': 28722.755859} \n",
      "Second candle: {'t': Timestamp('2021-01-05 00:00:00'), 'o': 31977.041016, 'c': 33992.429688, 'h': 34437.589844, 'l': 30221.1875} \n",
      "First candle: {'t': Timestamp('2021-01-06 00:00:00'), 'o': 34013.613281, 'c': 36824.363281, 'h': 36879.699219, 'l': 33514.035156} \n",
      "\n",
      "Third candle: {'t': Timestamp('2021-01-05 00:00:00'), 'o': 31977.041016, 'c': 33992.429688, 'h': 34437.589844, 'l': 30221.1875} \n",
      "Second candle: {'t': Timestamp('2021-01-06 00:00:00'), 'o': 34013.613281, 'c': 36824.363281, 'h': 36879.699219, 'l': 33514.035156} \n",
      "First candle: {'t': Timestamp('2021-01-07 00:00:00'), 'o': 36833.875, 'c': 39371.042969, 'h': 40180.367188, 'l': 36491.191406} \n",
      "\n",
      "Third candle: {'t': Timestamp('2021-01-06 00:00:00'), 'o': 34013.613281, 'c': 36824.363281, 'h': 36879.699219, 'l': 33514.035156} \n",
      "Second candle: {'t': Timestamp('2021-01-07 00:00:00'), 'o': 36833.875, 'c': 39371.042969, 'h': 40180.367188, 'l': 36491.191406} \n",
      "First candle: {'t': Timestamp('2021-01-08 00:00:00'), 'o': 39381.765625, 'c': 40797.609375, 'h': 41946.738281, 'l': 36838.636719} \n",
      "\n",
      "Third candle: {'t': Timestamp('2021-01-07 00:00:00'), 'o': 36833.875, 'c': 39371.042969, 'h': 40180.367188, 'l': 36491.191406} \n",
      "Second candle: {'t': Timestamp('2021-01-08 00:00:00'), 'o': 39381.765625, 'c': 40797.609375, 'h': 41946.738281, 'l': 36838.636719} \n",
      "First candle: {'t': Timestamp('2021-01-09 00:00:00'), 'o': 40788.640625, 'c': 40254.546875, 'h': 41436.351563, 'l': 38980.875} \n",
      "\n",
      "Third candle: {'t': Timestamp('2021-01-08 00:00:00'), 'o': 39381.765625, 'c': 40797.609375, 'h': 41946.738281, 'l': 36838.636719} \n",
      "Second candle: {'t': Timestamp('2021-01-09 00:00:00'), 'o': 40788.640625, 'c': 40254.546875, 'h': 41436.351563, 'l': 38980.875} \n",
      "First candle: {'t': Timestamp('2021-01-10 00:00:00'), 'o': 40254.21875, 'c': 38356.441406, 'h': 41420.191406, 'l': 35984.628906} \n",
      "\n",
      "Third candle: {'t': Timestamp('2021-01-09 00:00:00'), 'o': 40788.640625, 'c': 40254.546875, 'h': 41436.351563, 'l': 38980.875} \n",
      "Second candle: {'t': Timestamp('2021-01-10 00:00:00'), 'o': 40254.21875, 'c': 38356.441406, 'h': 41420.191406, 'l': 35984.628906} \n",
      "First candle: {'t': Timestamp('2021-01-11 00:00:00'), 'o': 38346.53125, 'c': 35566.65625, 'h': 38346.53125, 'l': 30549.599609} \n",
      "\n",
      "Third candle: {'t': Timestamp('2021-01-10 00:00:00'), 'o': 40254.21875, 'c': 38356.441406, 'h': 41420.191406, 'l': 35984.628906} \n",
      "Second candle: {'t': Timestamp('2021-01-11 00:00:00'), 'o': 38346.53125, 'c': 35566.65625, 'h': 38346.53125, 'l': 30549.599609} \n",
      "First candle: {'t': Timestamp('2021-01-12 00:00:00'), 'o': 35516.359375, 'c': 33922.960938, 'h': 36568.527344, 'l': 32697.976563} \n",
      "\n",
      "Third candle: {'t': Timestamp('2021-01-11 00:00:00'), 'o': 38346.53125, 'c': 35566.65625, 'h': 38346.53125, 'l': 30549.599609} \n",
      "Second candle: {'t': Timestamp('2021-01-12 00:00:00'), 'o': 35516.359375, 'c': 33922.960938, 'h': 36568.527344, 'l': 32697.976563} \n",
      "First candle: {'t': Timestamp('2021-01-13 00:00:00'), 'o': 33915.121094, 'c': 37316.359375, 'h': 37599.960938, 'l': 32584.667969} \n",
      "\n",
      "Third candle: {'t': Timestamp('2021-01-12 00:00:00'), 'o': 35516.359375, 'c': 33922.960938, 'h': 36568.527344, 'l': 32697.976563} \n",
      "Second candle: {'t': Timestamp('2021-01-13 00:00:00'), 'o': 33915.121094, 'c': 37316.359375, 'h': 37599.960938, 'l': 32584.667969} \n",
      "First candle: {'t': Timestamp('2021-01-14 00:00:00'), 'o': 37325.109375, 'c': 39187.328125, 'h': 39966.40625, 'l': 36868.5625} \n",
      "\n",
      "Third candle: {'t': Timestamp('2021-01-13 00:00:00'), 'o': 33915.121094, 'c': 37316.359375, 'h': 37599.960938, 'l': 32584.667969} \n",
      "Second candle: {'t': Timestamp('2021-01-14 00:00:00'), 'o': 37325.109375, 'c': 39187.328125, 'h': 39966.40625, 'l': 36868.5625} \n",
      "First candle: {'t': Timestamp('2021-01-15 00:00:00'), 'o': 39156.707031, 'c': 36825.367188, 'h': 39577.710938, 'l': 34659.589844} \n",
      "\n",
      "Third candle: {'t': Timestamp('2021-01-14 00:00:00'), 'o': 37325.109375, 'c': 39187.328125, 'h': 39966.40625, 'l': 36868.5625} \n",
      "Second candle: {'t': Timestamp('2021-01-15 00:00:00'), 'o': 39156.707031, 'c': 36825.367188, 'h': 39577.710938, 'l': 34659.589844} \n",
      "First candle: {'t': Timestamp('2021-01-16 00:00:00'), 'o': 36821.648438, 'c': 36178.140625, 'h': 37864.367188, 'l': 35633.554688} \n",
      "\n",
      "Third candle: {'t': Timestamp('2021-01-15 00:00:00'), 'o': 39156.707031, 'c': 36825.367188, 'h': 39577.710938, 'l': 34659.589844} \n",
      "Second candle: {'t': Timestamp('2021-01-16 00:00:00'), 'o': 36821.648438, 'c': 36178.140625, 'h': 37864.367188, 'l': 35633.554688} \n",
      "First candle: {'t': Timestamp('2021-01-17 00:00:00'), 'o': 36163.648438, 'c': 35791.277344, 'h': 36722.351563, 'l': 34069.320313} \n",
      "\n",
      "Third candle: {'t': Timestamp('2021-01-16 00:00:00'), 'o': 36821.648438, 'c': 36178.140625, 'h': 37864.367188, 'l': 35633.554688} \n",
      "Second candle: {'t': Timestamp('2021-01-17 00:00:00'), 'o': 36163.648438, 'c': 35791.277344, 'h': 36722.351563, 'l': 34069.320313} \n",
      "First candle: {'t': Timestamp('2021-01-18 00:00:00'), 'o': 35792.238281, 'c': 36630.074219, 'h': 37299.285156, 'l': 34883.84375} \n",
      "\n",
      "Third candle: {'t': Timestamp('2021-01-17 00:00:00'), 'o': 36163.648438, 'c': 35791.277344, 'h': 36722.351563, 'l': 34069.320313} \n",
      "Second candle: {'t': Timestamp('2021-01-18 00:00:00'), 'o': 35792.238281, 'c': 36630.074219, 'h': 37299.285156, 'l': 34883.84375} \n",
      "First candle: {'t': Timestamp('2021-01-19 00:00:00'), 'o': 36642.234375, 'c': 36069.804688, 'h': 37755.890625, 'l': 36069.804688} \n",
      "\n",
      "Third candle: {'t': Timestamp('2021-01-18 00:00:00'), 'o': 35792.238281, 'c': 36630.074219, 'h': 37299.285156, 'l': 34883.84375} \n",
      "Second candle: {'t': Timestamp('2021-01-19 00:00:00'), 'o': 36642.234375, 'c': 36069.804688, 'h': 37755.890625, 'l': 36069.804688} \n",
      "First candle: {'t': Timestamp('2021-01-20 00:00:00'), 'o': 36050.113281, 'c': 35547.75, 'h': 36378.328125, 'l': 33570.476563} \n",
      "\n",
      "Third candle: {'t': Timestamp('2021-01-19 00:00:00'), 'o': 36642.234375, 'c': 36069.804688, 'h': 37755.890625, 'l': 36069.804688} \n",
      "Second candle: {'t': Timestamp('2021-01-20 00:00:00'), 'o': 36050.113281, 'c': 35547.75, 'h': 36378.328125, 'l': 33570.476563} \n",
      "First candle: {'t': Timestamp('2021-01-21 00:00:00'), 'o': 35549.398438, 'c': 30825.699219, 'h': 35552.679688, 'l': 30250.75} \n",
      "\n",
      "Third candle: {'t': Timestamp('2021-01-20 00:00:00'), 'o': 36050.113281, 'c': 35547.75, 'h': 36378.328125, 'l': 33570.476563} \n",
      "Second candle: {'t': Timestamp('2021-01-21 00:00:00'), 'o': 35549.398438, 'c': 30825.699219, 'h': 35552.679688, 'l': 30250.75} \n",
      "First candle: {'t': Timestamp('2021-01-22 00:00:00'), 'o': 30817.625, 'c': 33005.761719, 'h': 33811.851563, 'l': 28953.373047} \n",
      "\n",
      "Third candle: {'t': Timestamp('2021-01-21 00:00:00'), 'o': 35549.398438, 'c': 30825.699219, 'h': 35552.679688, 'l': 30250.75} \n",
      "Second candle: {'t': Timestamp('2021-01-22 00:00:00'), 'o': 30817.625, 'c': 33005.761719, 'h': 33811.851563, 'l': 28953.373047} \n",
      "First candle: {'t': Timestamp('2021-01-23 00:00:00'), 'o': 32985.757813, 'c': 32067.642578, 'h': 33360.976563, 'l': 31493.160156} \n",
      "\n",
      "Third candle: {'t': Timestamp('2021-01-22 00:00:00'), 'o': 30817.625, 'c': 33005.761719, 'h': 33811.851563, 'l': 28953.373047} \n",
      "Second candle: {'t': Timestamp('2021-01-23 00:00:00'), 'o': 32985.757813, 'c': 32067.642578, 'h': 33360.976563, 'l': 31493.160156} \n",
      "First candle: {'t': Timestamp('2021-01-24 00:00:00'), 'o': 32064.376953, 'c': 32289.378906, 'h': 32944.007813, 'l': 31106.685547} \n",
      "\n",
      "Third candle: {'t': Timestamp('2021-01-23 00:00:00'), 'o': 32985.757813, 'c': 32067.642578, 'h': 33360.976563, 'l': 31493.160156} \n",
      "Second candle: {'t': Timestamp('2021-01-24 00:00:00'), 'o': 32064.376953, 'c': 32289.378906, 'h': 32944.007813, 'l': 31106.685547} \n",
      "First candle: {'t': Timestamp('2021-01-25 00:00:00'), 'o': 32285.798828, 'c': 32366.392578, 'h': 34802.742188, 'l': 32087.787109} \n",
      "\n",
      "Third candle: {'t': Timestamp('2021-01-24 00:00:00'), 'o': 32064.376953, 'c': 32289.378906, 'h': 32944.007813, 'l': 31106.685547} \n",
      "Second candle: {'t': Timestamp('2021-01-25 00:00:00'), 'o': 32285.798828, 'c': 32366.392578, 'h': 34802.742188, 'l': 32087.787109} \n",
      "First candle: {'t': Timestamp('2021-01-26 00:00:00'), 'o': 32358.613281, 'c': 32569.849609, 'h': 32794.550781, 'l': 31030.265625} \n",
      "\n",
      "Third candle: {'t': Timestamp('2021-01-25 00:00:00'), 'o': 32285.798828, 'c': 32366.392578, 'h': 34802.742188, 'l': 32087.787109} \n",
      "Second candle: {'t': Timestamp('2021-01-26 00:00:00'), 'o': 32358.613281, 'c': 32569.849609, 'h': 32794.550781, 'l': 31030.265625} \n",
      "First candle: {'t': Timestamp('2021-01-27 00:00:00'), 'o': 32564.029297, 'c': 30432.546875, 'h': 32564.029297, 'l': 29367.138672} \n",
      "\n",
      "Third candle: {'t': Timestamp('2021-01-26 00:00:00'), 'o': 32358.613281, 'c': 32569.849609, 'h': 32794.550781, 'l': 31030.265625} \n",
      "Second candle: {'t': Timestamp('2021-01-27 00:00:00'), 'o': 32564.029297, 'c': 30432.546875, 'h': 32564.029297, 'l': 29367.138672} \n",
      "First candle: {'t': Timestamp('2021-01-28 00:00:00'), 'o': 30441.041016, 'c': 31649.605469, 'h': 31891.300781, 'l': 30023.207031} \n",
      "\n",
      "Third candle: {'t': Timestamp('2021-01-27 00:00:00'), 'o': 32564.029297, 'c': 30432.546875, 'h': 32564.029297, 'l': 29367.138672} \n",
      "Second candle: {'t': Timestamp('2021-01-28 00:00:00'), 'o': 30441.041016, 'c': 31649.605469, 'h': 31891.300781, 'l': 30023.207031} \n",
      "First candle: {'t': Timestamp('2021-01-29 00:00:00'), 'o': 34318.671875, 'c': 34316.386719, 'h': 38406.261719, 'l': 32064.814453} \n",
      "\n",
      "Third candle: {'t': Timestamp('2021-01-28 00:00:00'), 'o': 30441.041016, 'c': 31649.605469, 'h': 31891.300781, 'l': 30023.207031} \n",
      "Second candle: {'t': Timestamp('2021-01-29 00:00:00'), 'o': 34318.671875, 'c': 34316.386719, 'h': 38406.261719, 'l': 32064.814453} \n",
      "First candle: {'t': Timestamp('2021-01-30 00:00:00'), 'o': 34295.933594, 'c': 34269.523438, 'h': 34834.707031, 'l': 32940.1875} \n",
      "\n",
      "Third candle: {'t': Timestamp('2021-01-29 00:00:00'), 'o': 34318.671875, 'c': 34316.386719, 'h': 38406.261719, 'l': 32064.814453} \n",
      "Second candle: {'t': Timestamp('2021-01-30 00:00:00'), 'o': 34295.933594, 'c': 34269.523438, 'h': 34834.707031, 'l': 32940.1875} \n",
      "First candle: {'t': Timestamp('2021-01-31 00:00:00'), 'o': 34270.878906, 'c': 33114.359375, 'h': 34288.332031, 'l': 32270.175781} \n",
      "\n",
      "Third candle: {'t': Timestamp('2021-01-30 00:00:00'), 'o': 34295.933594, 'c': 34269.523438, 'h': 34834.707031, 'l': 32940.1875} \n",
      "Second candle: {'t': Timestamp('2021-01-31 00:00:00'), 'o': 34270.878906, 'c': 33114.359375, 'h': 34288.332031, 'l': 32270.175781} \n",
      "First candle: {'t': Timestamp('2021-02-01 00:00:00'), 'o': 33114.578125, 'c': 33537.175781, 'h': 34638.214844, 'l': 32384.228516} \n",
      "\n",
      "Third candle: {'t': Timestamp('2021-01-31 00:00:00'), 'o': 34270.878906, 'c': 33114.359375, 'h': 34288.332031, 'l': 32270.175781} \n",
      "Second candle: {'t': Timestamp('2021-02-01 00:00:00'), 'o': 33114.578125, 'c': 33537.175781, 'h': 34638.214844, 'l': 32384.228516} \n",
      "First candle: {'t': Timestamp('2021-02-02 00:00:00'), 'o': 33533.199219, 'c': 35510.289063, 'h': 35896.882813, 'l': 33489.21875} \n",
      "\n",
      "Third candle: {'t': Timestamp('2021-02-01 00:00:00'), 'o': 33114.578125, 'c': 33537.175781, 'h': 34638.214844, 'l': 32384.228516} \n",
      "Second candle: {'t': Timestamp('2021-02-02 00:00:00'), 'o': 33533.199219, 'c': 35510.289063, 'h': 35896.882813, 'l': 33489.21875} \n",
      "First candle: {'t': Timestamp('2021-02-03 00:00:00'), 'o': 35510.820313, 'c': 37472.089844, 'h': 37480.1875, 'l': 35443.984375} \n",
      "\n",
      "Third candle: {'t': Timestamp('2021-02-02 00:00:00'), 'o': 33533.199219, 'c': 35510.289063, 'h': 35896.882813, 'l': 33489.21875} \n",
      "Second candle: {'t': Timestamp('2021-02-03 00:00:00'), 'o': 35510.820313, 'c': 37472.089844, 'h': 37480.1875, 'l': 35443.984375} \n",
      "First candle: {'t': Timestamp('2021-02-04 00:00:00'), 'o': 37475.105469, 'c': 36926.066406, 'h': 38592.175781, 'l': 36317.5} \n",
      "\n",
      "Third candle: {'t': Timestamp('2021-02-03 00:00:00'), 'o': 35510.820313, 'c': 37472.089844, 'h': 37480.1875, 'l': 35443.984375} \n",
      "Second candle: {'t': Timestamp('2021-02-04 00:00:00'), 'o': 37475.105469, 'c': 36926.066406, 'h': 38592.175781, 'l': 36317.5} \n",
      "First candle: {'t': Timestamp('2021-02-05 00:00:00'), 'o': 36931.546875, 'c': 38144.308594, 'h': 38225.90625, 'l': 36658.761719} \n",
      "\n",
      "Third candle: {'t': Timestamp('2021-02-04 00:00:00'), 'o': 37475.105469, 'c': 36926.066406, 'h': 38592.175781, 'l': 36317.5} \n",
      "Second candle: {'t': Timestamp('2021-02-05 00:00:00'), 'o': 36931.546875, 'c': 38144.308594, 'h': 38225.90625, 'l': 36658.761719} \n",
      "First candle: {'t': Timestamp('2021-02-06 00:00:00'), 'o': 38138.386719, 'c': 39266.011719, 'h': 40846.546875, 'l': 38138.386719} \n",
      "\n",
      "Third candle: {'t': Timestamp('2021-02-05 00:00:00'), 'o': 36931.546875, 'c': 38144.308594, 'h': 38225.90625, 'l': 36658.761719} \n",
      "Second candle: {'t': Timestamp('2021-02-06 00:00:00'), 'o': 38138.386719, 'c': 39266.011719, 'h': 40846.546875, 'l': 38138.386719} \n",
      "First candle: {'t': Timestamp('2021-02-07 00:00:00'), 'o': 39250.191406, 'c': 38903.441406, 'h': 39621.835938, 'l': 37446.152344} \n",
      "\n",
      "Third candle: {'t': Timestamp('2021-02-06 00:00:00'), 'o': 38138.386719, 'c': 39266.011719, 'h': 40846.546875, 'l': 38138.386719} \n",
      "Second candle: {'t': Timestamp('2021-02-07 00:00:00'), 'o': 39250.191406, 'c': 38903.441406, 'h': 39621.835938, 'l': 37446.152344} \n",
      "First candle: {'t': Timestamp('2021-02-08 00:00:00'), 'o': 38886.828125, 'c': 46196.464844, 'h': 46203.929688, 'l': 38076.324219} \n",
      "\n",
      "Third candle: {'t': Timestamp('2021-02-07 00:00:00'), 'o': 39250.191406, 'c': 38903.441406, 'h': 39621.835938, 'l': 37446.152344} \n",
      "Second candle: {'t': Timestamp('2021-02-08 00:00:00'), 'o': 38886.828125, 'c': 46196.464844, 'h': 46203.929688, 'l': 38076.324219} \n",
      "First candle: {'t': Timestamp('2021-02-09 00:00:00'), 'o': 46184.992188, 'c': 46481.105469, 'h': 48003.722656, 'l': 45166.960938} \n",
      "\n",
      "Third candle: {'t': Timestamp('2021-02-08 00:00:00'), 'o': 38886.828125, 'c': 46196.464844, 'h': 46203.929688, 'l': 38076.324219} \n",
      "Second candle: {'t': Timestamp('2021-02-09 00:00:00'), 'o': 46184.992188, 'c': 46481.105469, 'h': 48003.722656, 'l': 45166.960938} \n",
      "First candle: {'t': Timestamp('2021-02-10 00:00:00'), 'o': 46469.761719, 'c': 44918.183594, 'h': 47145.566406, 'l': 43881.152344} \n",
      "\n",
      "Third candle: {'t': Timestamp('2021-02-09 00:00:00'), 'o': 46184.992188, 'c': 46481.105469, 'h': 48003.722656, 'l': 45166.960938} \n",
      "Second candle: {'t': Timestamp('2021-02-10 00:00:00'), 'o': 46469.761719, 'c': 44918.183594, 'h': 47145.566406, 'l': 43881.152344} \n",
      "First candle: {'t': Timestamp('2021-02-11 00:00:00'), 'o': 44898.710938, 'c': 47909.332031, 'h': 48463.46875, 'l': 44187.761719} \n",
      "\n",
      "Third candle: {'t': Timestamp('2021-02-10 00:00:00'), 'o': 46469.761719, 'c': 44918.183594, 'h': 47145.566406, 'l': 43881.152344} \n",
      "Second candle: {'t': Timestamp('2021-02-11 00:00:00'), 'o': 44898.710938, 'c': 47909.332031, 'h': 48463.46875, 'l': 44187.761719} \n",
      "First candle: {'t': Timestamp('2021-02-12 00:00:00'), 'o': 47877.035156, 'c': 47504.851563, 'h': 48745.734375, 'l': 46424.976563} \n",
      "\n",
      "Third candle: {'t': Timestamp('2021-02-11 00:00:00'), 'o': 44898.710938, 'c': 47909.332031, 'h': 48463.46875, 'l': 44187.761719} \n",
      "Second candle: {'t': Timestamp('2021-02-12 00:00:00'), 'o': 47877.035156, 'c': 47504.851563, 'h': 48745.734375, 'l': 46424.976563} \n",
      "First candle: {'t': Timestamp('2021-02-13 00:00:00'), 'o': 47491.203125, 'c': 47105.515625, 'h': 48047.746094, 'l': 46392.28125} \n",
      "\n",
      "Third candle: {'t': Timestamp('2021-02-12 00:00:00'), 'o': 47877.035156, 'c': 47504.851563, 'h': 48745.734375, 'l': 46424.976563} \n",
      "Second candle: {'t': Timestamp('2021-02-13 00:00:00'), 'o': 47491.203125, 'c': 47105.515625, 'h': 48047.746094, 'l': 46392.28125} \n",
      "First candle: {'t': Timestamp('2021-02-14 00:00:00'), 'o': 47114.507813, 'c': 48717.289063, 'h': 49487.640625, 'l': 47114.507813} \n",
      "\n",
      "Third candle: {'t': Timestamp('2021-02-13 00:00:00'), 'o': 47491.203125, 'c': 47105.515625, 'h': 48047.746094, 'l': 46392.28125} \n",
      "Second candle: {'t': Timestamp('2021-02-14 00:00:00'), 'o': 47114.507813, 'c': 48717.289063, 'h': 49487.640625, 'l': 47114.507813} \n",
      "First candle: {'t': Timestamp('2021-02-15 00:00:00'), 'o': 48696.535156, 'c': 47945.058594, 'h': 48875.570313, 'l': 46347.476563} \n",
      "\n",
      "Third candle: {'t': Timestamp('2021-02-14 00:00:00'), 'o': 47114.507813, 'c': 48717.289063, 'h': 49487.640625, 'l': 47114.507813} \n",
      "Second candle: {'t': Timestamp('2021-02-15 00:00:00'), 'o': 48696.535156, 'c': 47945.058594, 'h': 48875.570313, 'l': 46347.476563} \n",
      "First candle: {'t': Timestamp('2021-02-16 00:00:00'), 'o': 47944.457031, 'c': 49199.871094, 'h': 50341.101563, 'l': 47201.304688} \n",
      "\n",
      "Third candle: {'t': Timestamp('2021-02-15 00:00:00'), 'o': 48696.535156, 'c': 47945.058594, 'h': 48875.570313, 'l': 46347.476563} \n",
      "Second candle: {'t': Timestamp('2021-02-16 00:00:00'), 'o': 47944.457031, 'c': 49199.871094, 'h': 50341.101563, 'l': 47201.304688} \n",
      "First candle: {'t': Timestamp('2021-02-17 00:00:00'), 'o': 49207.277344, 'c': 52149.007813, 'h': 52533.914063, 'l': 49072.378906} \n",
      "\n"
     ]
    }
   ],
   "source": [
    "localmax_range = {}\n",
    "\n",
    "# Get candles data to find local max's min's\n",
    "\n",
    "# store previous candle\n",
    "prev = {\n",
    "    't' : None,\n",
    "    'o' : None,\n",
    "    'c' : None,\n",
    "    'h' : None,\n",
    "    'l' : None   \n",
    "}\n",
    "\n",
    "# store current candle\n",
    "curr = {\n",
    "    't' : None,\n",
    "    'o' : None,\n",
    "    'c' : None,\n",
    "    'h' : None,\n",
    "    'l' : None \n",
    "}\n",
    "\n",
    "# store certifying candle (certifies if the max/min is created)\n",
    "cert = {\n",
    "    't' : None,\n",
    "    'o' : None,\n",
    "    'c' : None,\n",
    "    'h' : None,\n",
    "    'l' : None \n",
    "}\n",
    "\n",
    "\n",
    "\n",
    "# Init counters\n",
    "max_counter = 0\n",
    "key_counter = 0\n",
    "\n",
    "for index in intra.index:\n",
    "    cert_candle = update_cert(cert, index, intra)\n",
    "    curr_candle = update_curr(curr, index, intra)\n",
    "    prev_candle = update_prev(prev, index, intra)\n",
    "    print(f\"Third candle: {prev_candle} \\nSecond candle: {curr_candle} \\nFirst candle: {cert_candle} \\n\")\n",
    "    \n",
    "    # make max counter\n",
    "    \n",
    "    \n",
    "    # create dict to store candle information\n",
    "    max_dict = {}\n",
    "    \n",
    "    # to make dictionary keys\n",
    "    \n",
    "    \n",
    "    if curr_candle and prev_candle:\n",
    "        # get local max\n",
    "        if (curr_candle['c'] > cert_candle['c']) & (curr_candle['c'] > prev_candle['c']):\n",
    "            max_dict = curr_candle\n",
    "#             max_dict['counter'] = max_counter\n",
    "            \n",
    "            localmax_range[key_counter] = max_dict\n",
    "            df = pd.DataFrame(localmax_range).T\n",
    "            df.set_index(df['t'], inplace=True)\n",
    "#             display(df)\n",
    "#             key_counter += 1\n",
    "#             max_counter += 1"
   ]
  },
  {
   "cell_type": "code",
   "execution_count": 165,
   "id": "b903d19e",
   "metadata": {},
   "outputs": [
    {
     "name": "stdout",
     "output_type": "stream",
     "text": [
      "{'a': None, 'b': None, 'c': None, 'd': None, 'e': None}\n",
      "Third candle: None \n",
      "Second candle: None \n",
      "First candle: {'t': Timestamp('2020-12-16 00:00:00'), 'o': 19418.818359, 'c': 21310.597656, 'h': 21458.908203, 'l': 19298.316406} \n",
      "\n",
      "{'a': None, 'b': None, 'c': None, 'd': None, 'e': None}\n",
      "Third candle: None \n",
      "Second candle: {'t': Timestamp('2020-12-16 00:00:00'), 'o': 19418.818359, 'c': 21310.597656, 'h': 21458.908203, 'l': 19298.316406} \n",
      "First candle: {'t': Timestamp('2020-12-17 00:00:00'), 'o': 21308.351563, 'c': 22805.162109, 'h': 23642.660156, 'l': 21234.675781} \n",
      "\n",
      "{'a': None, 'b': None, 'c': None, 'd': None, 'e': None}\n",
      "Third candle: {'t': Timestamp('2020-12-16 00:00:00'), 'o': 19418.818359, 'c': 21310.597656, 'h': 21458.908203, 'l': 19298.316406} \n",
      "Second candle: {'t': Timestamp('2020-12-17 00:00:00'), 'o': 21308.351563, 'c': 22805.162109, 'h': 23642.660156, 'l': 21234.675781} \n",
      "First candle: {'t': Timestamp('2020-12-18 00:00:00'), 'o': 22806.796875, 'c': 23137.960938, 'h': 23238.601563, 'l': 22399.8125} \n",
      "\n",
      "{'a': None, 'b': None, 'c': None, 'd': None, 'e': None}\n",
      "Third candle: {'t': Timestamp('2020-12-17 00:00:00'), 'o': 21308.351563, 'c': 22805.162109, 'h': 23642.660156, 'l': 21234.675781} \n",
      "Second candle: {'t': Timestamp('2020-12-18 00:00:00'), 'o': 22806.796875, 'c': 23137.960938, 'h': 23238.601563, 'l': 22399.8125} \n",
      "First candle: {'t': Timestamp('2020-12-19 00:00:00'), 'o': 23132.865234, 'c': 23869.832031, 'h': 24085.855469, 'l': 22826.472656} \n",
      "\n",
      "{'a': None, 'b': None, 'c': None, 'd': None, 'e': None}\n",
      "Third candle: {'t': Timestamp('2020-12-18 00:00:00'), 'o': 22806.796875, 'c': 23137.960938, 'h': 23238.601563, 'l': 22399.8125} \n",
      "Second candle: {'t': Timestamp('2020-12-19 00:00:00'), 'o': 23132.865234, 'c': 23869.832031, 'h': 24085.855469, 'l': 22826.472656} \n",
      "First candle: {'t': Timestamp('2020-12-20 00:00:00'), 'o': 23861.765625, 'c': 23477.294922, 'h': 24209.660156, 'l': 23147.710938} \n",
      "\n",
      "{'a': None, 'b': None, 'c': None, 'd': None, 'e': None}\n",
      "Third candle: {'t': Timestamp('2020-12-19 00:00:00'), 'o': 23132.865234, 'c': 23869.832031, 'h': 24085.855469, 'l': 22826.472656} \n",
      "Second candle: {'t': Timestamp('2020-12-20 00:00:00'), 'o': 23861.765625, 'c': 23477.294922, 'h': 24209.660156, 'l': 23147.710938} \n",
      "First candle: {'t': Timestamp('2020-12-21 00:00:00'), 'o': 23474.455078, 'c': 22803.082031, 'h': 24059.982422, 'l': 22159.367188} \n",
      "\n",
      "{'a': None, 'b': {'t': Timestamp('2020-12-21 00:00:00'), 'o': 23474.455078, 'c': 22803.082031, 'h': 24059.982422, 'l': 22159.367188}, 'c': None, 'd': None, 'e': None}\n",
      "Third candle: {'t': Timestamp('2020-12-20 00:00:00'), 'o': 23861.765625, 'c': 23477.294922, 'h': 24209.660156, 'l': 23147.710938} \n",
      "Second candle: {'t': Timestamp('2020-12-21 00:00:00'), 'o': 23474.455078, 'c': 22803.082031, 'h': 24059.982422, 'l': 22159.367188} \n",
      "First candle: {'t': Timestamp('2020-12-22 00:00:00'), 'o': 22794.039063, 'c': 23783.029297, 'h': 23789.902344, 'l': 22430.605469} \n",
      "\n",
      "{'a': None, 'b': None, 'c': None, 'd': None, 'e': None}\n",
      "Third candle: {'t': Timestamp('2020-12-21 00:00:00'), 'o': 23474.455078, 'c': 22803.082031, 'h': 24059.982422, 'l': 22159.367188} \n",
      "Second candle: {'t': Timestamp('2020-12-22 00:00:00'), 'o': 22794.039063, 'c': 23783.029297, 'h': 23789.902344, 'l': 22430.605469} \n",
      "First candle: {'t': Timestamp('2020-12-23 00:00:00'), 'o': 23781.974609, 'c': 23241.345703, 'h': 24024.490234, 'l': 22802.646484} \n",
      "\n",
      "{'a': None, 'b': {'t': Timestamp('2020-12-23 00:00:00'), 'o': 23781.974609, 'c': 23241.345703, 'h': 24024.490234, 'l': 22802.646484}, 'c': None, 'd': None, 'e': None}\n",
      "Third candle: {'t': Timestamp('2020-12-22 00:00:00'), 'o': 22794.039063, 'c': 23783.029297, 'h': 23789.902344, 'l': 22430.605469} \n",
      "Second candle: {'t': Timestamp('2020-12-23 00:00:00'), 'o': 23781.974609, 'c': 23241.345703, 'h': 24024.490234, 'l': 22802.646484} \n",
      "First candle: {'t': Timestamp('2020-12-24 00:00:00'), 'o': 23240.203125, 'c': 23735.949219, 'h': 23768.337891, 'l': 22777.597656} \n",
      "\n",
      "{'a': None, 'b': None, 'c': None, 'd': None, 'e': None}\n",
      "Third candle: {'t': Timestamp('2020-12-23 00:00:00'), 'o': 23781.974609, 'c': 23241.345703, 'h': 24024.490234, 'l': 22802.646484} \n",
      "Second candle: {'t': Timestamp('2020-12-24 00:00:00'), 'o': 23240.203125, 'c': 23735.949219, 'h': 23768.337891, 'l': 22777.597656} \n",
      "First candle: {'t': Timestamp('2020-12-25 00:00:00'), 'o': 23733.570313, 'c': 24664.791016, 'h': 24710.101563, 'l': 23463.673828} \n",
      "\n",
      "{'a': None, 'b': None, 'c': None, 'd': None, 'e': None}\n",
      "Third candle: {'t': Timestamp('2020-12-24 00:00:00'), 'o': 23240.203125, 'c': 23735.949219, 'h': 23768.337891, 'l': 22777.597656} \n",
      "Second candle: {'t': Timestamp('2020-12-25 00:00:00'), 'o': 23733.570313, 'c': 24664.791016, 'h': 24710.101563, 'l': 23463.673828} \n",
      "First candle: {'t': Timestamp('2020-12-26 00:00:00'), 'o': 24677.015625, 'c': 26437.037109, 'h': 26718.070313, 'l': 24522.689453} \n",
      "\n",
      "{'a': None, 'b': None, 'c': None, 'd': None, 'e': None}\n",
      "Third candle: {'t': Timestamp('2020-12-25 00:00:00'), 'o': 23733.570313, 'c': 24664.791016, 'h': 24710.101563, 'l': 23463.673828} \n",
      "Second candle: {'t': Timestamp('2020-12-26 00:00:00'), 'o': 24677.015625, 'c': 26437.037109, 'h': 26718.070313, 'l': 24522.689453} \n",
      "First candle: {'t': Timestamp('2020-12-27 00:00:00'), 'o': 26439.373047, 'c': 26272.294922, 'h': 28288.839844, 'l': 25922.769531} \n",
      "\n",
      "{'a': None, 'b': {'t': Timestamp('2020-12-27 00:00:00'), 'o': 26439.373047, 'c': 26272.294922, 'h': 28288.839844, 'l': 25922.769531}, 'c': None, 'd': None, 'e': None}\n",
      "Third candle: {'t': Timestamp('2020-12-26 00:00:00'), 'o': 24677.015625, 'c': 26437.037109, 'h': 26718.070313, 'l': 24522.689453} \n",
      "Second candle: {'t': Timestamp('2020-12-27 00:00:00'), 'o': 26439.373047, 'c': 26272.294922, 'h': 28288.839844, 'l': 25922.769531} \n",
      "First candle: {'t': Timestamp('2020-12-28 00:00:00'), 'o': 26280.822266, 'c': 27084.808594, 'h': 27389.111328, 'l': 26207.640625} \n",
      "\n",
      "{'a': None, 'b': None, 'c': None, 'd': None, 'e': None}\n",
      "Third candle: {'t': Timestamp('2020-12-27 00:00:00'), 'o': 26439.373047, 'c': 26272.294922, 'h': 28288.839844, 'l': 25922.769531} \n",
      "Second candle: {'t': Timestamp('2020-12-28 00:00:00'), 'o': 26280.822266, 'c': 27084.808594, 'h': 27389.111328, 'l': 26207.640625} \n",
      "First candle: {'t': Timestamp('2020-12-29 00:00:00'), 'o': 27081.810547, 'c': 27362.4375, 'h': 27370.720703, 'l': 25987.298828} \n",
      "\n",
      "{'a': None, 'b': None, 'c': None, 'd': None, 'e': None}\n",
      "Third candle: {'t': Timestamp('2020-12-28 00:00:00'), 'o': 26280.822266, 'c': 27084.808594, 'h': 27389.111328, 'l': 26207.640625} \n",
      "Second candle: {'t': Timestamp('2020-12-29 00:00:00'), 'o': 27081.810547, 'c': 27362.4375, 'h': 27370.720703, 'l': 25987.298828} \n",
      "First candle: {'t': Timestamp('2020-12-30 00:00:00'), 'o': 27360.089844, 'c': 28840.953125, 'h': 28937.740234, 'l': 27360.089844} \n",
      "\n",
      "{'a': None, 'b': None, 'c': None, 'd': None, 'e': None}\n",
      "Third candle: {'t': Timestamp('2020-12-29 00:00:00'), 'o': 27081.810547, 'c': 27362.4375, 'h': 27370.720703, 'l': 25987.298828} \n",
      "Second candle: {'t': Timestamp('2020-12-30 00:00:00'), 'o': 27360.089844, 'c': 28840.953125, 'h': 28937.740234, 'l': 27360.089844} \n",
      "First candle: {'t': Timestamp('2020-12-31 00:00:00'), 'o': 28841.574219, 'c': 29001.720703, 'h': 29244.876953, 'l': 28201.992188} \n",
      "\n",
      "{'a': None, 'b': None, 'c': None, 'd': None, 'e': None}\n",
      "Third candle: {'t': Timestamp('2020-12-30 00:00:00'), 'o': 27360.089844, 'c': 28840.953125, 'h': 28937.740234, 'l': 27360.089844} \n",
      "Second candle: {'t': Timestamp('2020-12-31 00:00:00'), 'o': 28841.574219, 'c': 29001.720703, 'h': 29244.876953, 'l': 28201.992188} \n",
      "First candle: {'t': Timestamp('2021-01-01 00:00:00'), 'o': 28994.009766, 'c': 29374.152344, 'h': 29600.626953, 'l': 28803.585938} \n",
      "\n",
      "{'a': None, 'b': None, 'c': None, 'd': None, 'e': None}\n",
      "Third candle: {'t': Timestamp('2020-12-31 00:00:00'), 'o': 28841.574219, 'c': 29001.720703, 'h': 29244.876953, 'l': 28201.992188} \n",
      "Second candle: {'t': Timestamp('2021-01-01 00:00:00'), 'o': 28994.009766, 'c': 29374.152344, 'h': 29600.626953, 'l': 28803.585938} \n",
      "First candle: {'t': Timestamp('2021-01-02 00:00:00'), 'o': 29376.455078, 'c': 32127.267578, 'h': 33155.117188, 'l': 29091.181641} \n",
      "\n",
      "{'a': None, 'b': None, 'c': None, 'd': None, 'e': None}\n",
      "Third candle: {'t': Timestamp('2021-01-01 00:00:00'), 'o': 28994.009766, 'c': 29374.152344, 'h': 29600.626953, 'l': 28803.585938} \n",
      "Second candle: {'t': Timestamp('2021-01-02 00:00:00'), 'o': 29376.455078, 'c': 32127.267578, 'h': 33155.117188, 'l': 29091.181641} \n",
      "First candle: {'t': Timestamp('2021-01-03 00:00:00'), 'o': 32129.408203, 'c': 32782.023438, 'h': 34608.558594, 'l': 32052.316406} \n",
      "\n",
      "{'a': None, 'b': None, 'c': None, 'd': None, 'e': None}\n",
      "Third candle: {'t': Timestamp('2021-01-02 00:00:00'), 'o': 29376.455078, 'c': 32127.267578, 'h': 33155.117188, 'l': 29091.181641} \n",
      "Second candle: {'t': Timestamp('2021-01-03 00:00:00'), 'o': 32129.408203, 'c': 32782.023438, 'h': 34608.558594, 'l': 32052.316406} \n",
      "First candle: {'t': Timestamp('2021-01-04 00:00:00'), 'o': 32810.949219, 'c': 31971.914063, 'h': 33440.21875, 'l': 28722.755859} \n",
      "\n",
      "{'a': None, 'b': {'t': Timestamp('2021-01-04 00:00:00'), 'o': 32810.949219, 'c': 31971.914063, 'h': 33440.21875, 'l': 28722.755859}, 'c': None, 'd': None, 'e': None}\n",
      "Third candle: {'t': Timestamp('2021-01-03 00:00:00'), 'o': 32129.408203, 'c': 32782.023438, 'h': 34608.558594, 'l': 32052.316406} \n",
      "Second candle: {'t': Timestamp('2021-01-04 00:00:00'), 'o': 32810.949219, 'c': 31971.914063, 'h': 33440.21875, 'l': 28722.755859} \n",
      "First candle: {'t': Timestamp('2021-01-05 00:00:00'), 'o': 31977.041016, 'c': 33992.429688, 'h': 34437.589844, 'l': 30221.1875} \n",
      "\n",
      "{'a': None, 'b': None, 'c': None, 'd': None, 'e': None}\n",
      "Third candle: {'t': Timestamp('2021-01-04 00:00:00'), 'o': 32810.949219, 'c': 31971.914063, 'h': 33440.21875, 'l': 28722.755859} \n",
      "Second candle: {'t': Timestamp('2021-01-05 00:00:00'), 'o': 31977.041016, 'c': 33992.429688, 'h': 34437.589844, 'l': 30221.1875} \n",
      "First candle: {'t': Timestamp('2021-01-06 00:00:00'), 'o': 34013.613281, 'c': 36824.363281, 'h': 36879.699219, 'l': 33514.035156} \n",
      "\n",
      "{'a': None, 'b': None, 'c': None, 'd': None, 'e': None}\n",
      "Third candle: {'t': Timestamp('2021-01-05 00:00:00'), 'o': 31977.041016, 'c': 33992.429688, 'h': 34437.589844, 'l': 30221.1875} \n",
      "Second candle: {'t': Timestamp('2021-01-06 00:00:00'), 'o': 34013.613281, 'c': 36824.363281, 'h': 36879.699219, 'l': 33514.035156} \n",
      "First candle: {'t': Timestamp('2021-01-07 00:00:00'), 'o': 36833.875, 'c': 39371.042969, 'h': 40180.367188, 'l': 36491.191406} \n",
      "\n",
      "{'a': None, 'b': None, 'c': None, 'd': None, 'e': None}\n",
      "Third candle: {'t': Timestamp('2021-01-06 00:00:00'), 'o': 34013.613281, 'c': 36824.363281, 'h': 36879.699219, 'l': 33514.035156} \n",
      "Second candle: {'t': Timestamp('2021-01-07 00:00:00'), 'o': 36833.875, 'c': 39371.042969, 'h': 40180.367188, 'l': 36491.191406} \n",
      "First candle: {'t': Timestamp('2021-01-08 00:00:00'), 'o': 39381.765625, 'c': 40797.609375, 'h': 41946.738281, 'l': 36838.636719} \n",
      "\n",
      "{'a': None, 'b': None, 'c': None, 'd': None, 'e': None}\n",
      "Third candle: {'t': Timestamp('2021-01-07 00:00:00'), 'o': 36833.875, 'c': 39371.042969, 'h': 40180.367188, 'l': 36491.191406} \n",
      "Second candle: {'t': Timestamp('2021-01-08 00:00:00'), 'o': 39381.765625, 'c': 40797.609375, 'h': 41946.738281, 'l': 36838.636719} \n",
      "First candle: {'t': Timestamp('2021-01-09 00:00:00'), 'o': 40788.640625, 'c': 40254.546875, 'h': 41436.351563, 'l': 38980.875} \n",
      "\n",
      "{'a': None, 'b': None, 'c': None, 'd': None, 'e': None}\n",
      "Third candle: {'t': Timestamp('2021-01-08 00:00:00'), 'o': 39381.765625, 'c': 40797.609375, 'h': 41946.738281, 'l': 36838.636719} \n",
      "Second candle: {'t': Timestamp('2021-01-09 00:00:00'), 'o': 40788.640625, 'c': 40254.546875, 'h': 41436.351563, 'l': 38980.875} \n",
      "First candle: {'t': Timestamp('2021-01-10 00:00:00'), 'o': 40254.21875, 'c': 38356.441406, 'h': 41420.191406, 'l': 35984.628906} \n",
      "\n",
      "{'a': None, 'b': None, 'c': None, 'd': None, 'e': None}\n",
      "Third candle: {'t': Timestamp('2021-01-09 00:00:00'), 'o': 40788.640625, 'c': 40254.546875, 'h': 41436.351563, 'l': 38980.875} \n",
      "Second candle: {'t': Timestamp('2021-01-10 00:00:00'), 'o': 40254.21875, 'c': 38356.441406, 'h': 41420.191406, 'l': 35984.628906} \n",
      "First candle: {'t': Timestamp('2021-01-11 00:00:00'), 'o': 38346.53125, 'c': 35566.65625, 'h': 38346.53125, 'l': 30549.599609} \n",
      "\n",
      "{'a': None, 'b': None, 'c': None, 'd': None, 'e': None}\n",
      "Third candle: {'t': Timestamp('2021-01-10 00:00:00'), 'o': 40254.21875, 'c': 38356.441406, 'h': 41420.191406, 'l': 35984.628906} \n",
      "Second candle: {'t': Timestamp('2021-01-11 00:00:00'), 'o': 38346.53125, 'c': 35566.65625, 'h': 38346.53125, 'l': 30549.599609} \n",
      "First candle: {'t': Timestamp('2021-01-12 00:00:00'), 'o': 35516.359375, 'c': 33922.960938, 'h': 36568.527344, 'l': 32697.976563} \n",
      "\n",
      "{'a': None, 'b': {'t': Timestamp('2021-01-12 00:00:00'), 'o': 35516.359375, 'c': 33922.960938, 'h': 36568.527344, 'l': 32697.976563}, 'c': None, 'd': None, 'e': None}\n",
      "Third candle: {'t': Timestamp('2021-01-11 00:00:00'), 'o': 38346.53125, 'c': 35566.65625, 'h': 38346.53125, 'l': 30549.599609} \n",
      "Second candle: {'t': Timestamp('2021-01-12 00:00:00'), 'o': 35516.359375, 'c': 33922.960938, 'h': 36568.527344, 'l': 32697.976563} \n",
      "First candle: {'t': Timestamp('2021-01-13 00:00:00'), 'o': 33915.121094, 'c': 37316.359375, 'h': 37599.960938, 'l': 32584.667969} \n",
      "\n",
      "{'a': None, 'b': None, 'c': None, 'd': None, 'e': None}\n",
      "Third candle: {'t': Timestamp('2021-01-12 00:00:00'), 'o': 35516.359375, 'c': 33922.960938, 'h': 36568.527344, 'l': 32697.976563} \n",
      "Second candle: {'t': Timestamp('2021-01-13 00:00:00'), 'o': 33915.121094, 'c': 37316.359375, 'h': 37599.960938, 'l': 32584.667969} \n",
      "First candle: {'t': Timestamp('2021-01-14 00:00:00'), 'o': 37325.109375, 'c': 39187.328125, 'h': 39966.40625, 'l': 36868.5625} \n",
      "\n",
      "{'a': None, 'b': None, 'c': None, 'd': None, 'e': None}\n",
      "Third candle: {'t': Timestamp('2021-01-13 00:00:00'), 'o': 33915.121094, 'c': 37316.359375, 'h': 37599.960938, 'l': 32584.667969} \n",
      "Second candle: {'t': Timestamp('2021-01-14 00:00:00'), 'o': 37325.109375, 'c': 39187.328125, 'h': 39966.40625, 'l': 36868.5625} \n",
      "First candle: {'t': Timestamp('2021-01-15 00:00:00'), 'o': 39156.707031, 'c': 36825.367188, 'h': 39577.710938, 'l': 34659.589844} \n",
      "\n",
      "{'a': None, 'b': None, 'c': None, 'd': None, 'e': None}\n",
      "Third candle: {'t': Timestamp('2021-01-14 00:00:00'), 'o': 37325.109375, 'c': 39187.328125, 'h': 39966.40625, 'l': 36868.5625} \n",
      "Second candle: {'t': Timestamp('2021-01-15 00:00:00'), 'o': 39156.707031, 'c': 36825.367188, 'h': 39577.710938, 'l': 34659.589844} \n",
      "First candle: {'t': Timestamp('2021-01-16 00:00:00'), 'o': 36821.648438, 'c': 36178.140625, 'h': 37864.367188, 'l': 35633.554688} \n",
      "\n",
      "{'a': None, 'b': None, 'c': None, 'd': None, 'e': None}\n",
      "Third candle: {'t': Timestamp('2021-01-15 00:00:00'), 'o': 39156.707031, 'c': 36825.367188, 'h': 39577.710938, 'l': 34659.589844} \n",
      "Second candle: {'t': Timestamp('2021-01-16 00:00:00'), 'o': 36821.648438, 'c': 36178.140625, 'h': 37864.367188, 'l': 35633.554688} \n",
      "First candle: {'t': Timestamp('2021-01-17 00:00:00'), 'o': 36163.648438, 'c': 35791.277344, 'h': 36722.351563, 'l': 34069.320313} \n",
      "\n",
      "{'a': None, 'b': {'t': Timestamp('2021-01-17 00:00:00'), 'o': 36163.648438, 'c': 35791.277344, 'h': 36722.351563, 'l': 34069.320313}, 'c': None, 'd': None, 'e': None}\n",
      "Third candle: {'t': Timestamp('2021-01-16 00:00:00'), 'o': 36821.648438, 'c': 36178.140625, 'h': 37864.367188, 'l': 35633.554688} \n",
      "Second candle: {'t': Timestamp('2021-01-17 00:00:00'), 'o': 36163.648438, 'c': 35791.277344, 'h': 36722.351563, 'l': 34069.320313} \n",
      "First candle: {'t': Timestamp('2021-01-18 00:00:00'), 'o': 35792.238281, 'c': 36630.074219, 'h': 37299.285156, 'l': 34883.84375} \n",
      "\n",
      "{'a': None, 'b': None, 'c': None, 'd': None, 'e': None}\n",
      "Third candle: {'t': Timestamp('2021-01-17 00:00:00'), 'o': 36163.648438, 'c': 35791.277344, 'h': 36722.351563, 'l': 34069.320313} \n",
      "Second candle: {'t': Timestamp('2021-01-18 00:00:00'), 'o': 35792.238281, 'c': 36630.074219, 'h': 37299.285156, 'l': 34883.84375} \n",
      "First candle: {'t': Timestamp('2021-01-19 00:00:00'), 'o': 36642.234375, 'c': 36069.804688, 'h': 37755.890625, 'l': 36069.804688} \n",
      "\n",
      "{'a': None, 'b': None, 'c': None, 'd': None, 'e': None}\n",
      "Third candle: {'t': Timestamp('2021-01-18 00:00:00'), 'o': 35792.238281, 'c': 36630.074219, 'h': 37299.285156, 'l': 34883.84375} \n",
      "Second candle: {'t': Timestamp('2021-01-19 00:00:00'), 'o': 36642.234375, 'c': 36069.804688, 'h': 37755.890625, 'l': 36069.804688} \n",
      "First candle: {'t': Timestamp('2021-01-20 00:00:00'), 'o': 36050.113281, 'c': 35547.75, 'h': 36378.328125, 'l': 33570.476563} \n",
      "\n",
      "{'a': None, 'b': None, 'c': None, 'd': None, 'e': None}\n",
      "Third candle: {'t': Timestamp('2021-01-19 00:00:00'), 'o': 36642.234375, 'c': 36069.804688, 'h': 37755.890625, 'l': 36069.804688} \n",
      "Second candle: {'t': Timestamp('2021-01-20 00:00:00'), 'o': 36050.113281, 'c': 35547.75, 'h': 36378.328125, 'l': 33570.476563} \n",
      "First candle: {'t': Timestamp('2021-01-21 00:00:00'), 'o': 35549.398438, 'c': 30825.699219, 'h': 35552.679688, 'l': 30250.75} \n",
      "\n",
      "{'a': None, 'b': {'t': Timestamp('2021-01-21 00:00:00'), 'o': 35549.398438, 'c': 30825.699219, 'h': 35552.679688, 'l': 30250.75}, 'c': None, 'd': None, 'e': None}\n",
      "Third candle: {'t': Timestamp('2021-01-20 00:00:00'), 'o': 36050.113281, 'c': 35547.75, 'h': 36378.328125, 'l': 33570.476563} \n",
      "Second candle: {'t': Timestamp('2021-01-21 00:00:00'), 'o': 35549.398438, 'c': 30825.699219, 'h': 35552.679688, 'l': 30250.75} \n",
      "First candle: {'t': Timestamp('2021-01-22 00:00:00'), 'o': 30817.625, 'c': 33005.761719, 'h': 33811.851563, 'l': 28953.373047} \n",
      "\n",
      "{'a': None, 'b': None, 'c': None, 'd': None, 'e': None}\n",
      "Third candle: {'t': Timestamp('2021-01-21 00:00:00'), 'o': 35549.398438, 'c': 30825.699219, 'h': 35552.679688, 'l': 30250.75} \n",
      "Second candle: {'t': Timestamp('2021-01-22 00:00:00'), 'o': 30817.625, 'c': 33005.761719, 'h': 33811.851563, 'l': 28953.373047} \n",
      "First candle: {'t': Timestamp('2021-01-23 00:00:00'), 'o': 32985.757813, 'c': 32067.642578, 'h': 33360.976563, 'l': 31493.160156} \n",
      "\n",
      "{'a': None, 'b': {'t': Timestamp('2021-01-23 00:00:00'), 'o': 32985.757813, 'c': 32067.642578, 'h': 33360.976563, 'l': 31493.160156}, 'c': None, 'd': None, 'e': None}\n",
      "Third candle: {'t': Timestamp('2021-01-22 00:00:00'), 'o': 30817.625, 'c': 33005.761719, 'h': 33811.851563, 'l': 28953.373047} \n",
      "Second candle: {'t': Timestamp('2021-01-23 00:00:00'), 'o': 32985.757813, 'c': 32067.642578, 'h': 33360.976563, 'l': 31493.160156} \n",
      "First candle: {'t': Timestamp('2021-01-24 00:00:00'), 'o': 32064.376953, 'c': 32289.378906, 'h': 32944.007813, 'l': 31106.685547} \n",
      "\n",
      "{'a': None, 'b': None, 'c': None, 'd': None, 'e': None}\n",
      "Third candle: {'t': Timestamp('2021-01-23 00:00:00'), 'o': 32985.757813, 'c': 32067.642578, 'h': 33360.976563, 'l': 31493.160156} \n",
      "Second candle: {'t': Timestamp('2021-01-24 00:00:00'), 'o': 32064.376953, 'c': 32289.378906, 'h': 32944.007813, 'l': 31106.685547} \n",
      "First candle: {'t': Timestamp('2021-01-25 00:00:00'), 'o': 32285.798828, 'c': 32366.392578, 'h': 34802.742188, 'l': 32087.787109} \n",
      "\n",
      "{'a': None, 'b': None, 'c': None, 'd': None, 'e': None}\n",
      "Third candle: {'t': Timestamp('2021-01-24 00:00:00'), 'o': 32064.376953, 'c': 32289.378906, 'h': 32944.007813, 'l': 31106.685547} \n",
      "Second candle: {'t': Timestamp('2021-01-25 00:00:00'), 'o': 32285.798828, 'c': 32366.392578, 'h': 34802.742188, 'l': 32087.787109} \n",
      "First candle: {'t': Timestamp('2021-01-26 00:00:00'), 'o': 32358.613281, 'c': 32569.849609, 'h': 32794.550781, 'l': 31030.265625} \n",
      "\n",
      "{'a': None, 'b': None, 'c': None, 'd': None, 'e': None}\n",
      "Third candle: {'t': Timestamp('2021-01-25 00:00:00'), 'o': 32285.798828, 'c': 32366.392578, 'h': 34802.742188, 'l': 32087.787109} \n",
      "Second candle: {'t': Timestamp('2021-01-26 00:00:00'), 'o': 32358.613281, 'c': 32569.849609, 'h': 32794.550781, 'l': 31030.265625} \n",
      "First candle: {'t': Timestamp('2021-01-27 00:00:00'), 'o': 32564.029297, 'c': 30432.546875, 'h': 32564.029297, 'l': 29367.138672} \n",
      "\n",
      "{'a': None, 'b': {'t': Timestamp('2021-01-27 00:00:00'), 'o': 32564.029297, 'c': 30432.546875, 'h': 32564.029297, 'l': 29367.138672}, 'c': None, 'd': None, 'e': None}\n",
      "Third candle: {'t': Timestamp('2021-01-26 00:00:00'), 'o': 32358.613281, 'c': 32569.849609, 'h': 32794.550781, 'l': 31030.265625} \n",
      "Second candle: {'t': Timestamp('2021-01-27 00:00:00'), 'o': 32564.029297, 'c': 30432.546875, 'h': 32564.029297, 'l': 29367.138672} \n",
      "First candle: {'t': Timestamp('2021-01-28 00:00:00'), 'o': 30441.041016, 'c': 31649.605469, 'h': 31891.300781, 'l': 30023.207031} \n",
      "\n",
      "{'a': None, 'b': None, 'c': None, 'd': None, 'e': None}\n",
      "Third candle: {'t': Timestamp('2021-01-27 00:00:00'), 'o': 32564.029297, 'c': 30432.546875, 'h': 32564.029297, 'l': 29367.138672} \n",
      "Second candle: {'t': Timestamp('2021-01-28 00:00:00'), 'o': 30441.041016, 'c': 31649.605469, 'h': 31891.300781, 'l': 30023.207031} \n",
      "First candle: {'t': Timestamp('2021-01-29 00:00:00'), 'o': 34318.671875, 'c': 34316.386719, 'h': 38406.261719, 'l': 32064.814453} \n",
      "\n",
      "{'a': None, 'b': None, 'c': None, 'd': None, 'e': None}\n",
      "Third candle: {'t': Timestamp('2021-01-28 00:00:00'), 'o': 30441.041016, 'c': 31649.605469, 'h': 31891.300781, 'l': 30023.207031} \n",
      "Second candle: {'t': Timestamp('2021-01-29 00:00:00'), 'o': 34318.671875, 'c': 34316.386719, 'h': 38406.261719, 'l': 32064.814453} \n",
      "First candle: {'t': Timestamp('2021-01-30 00:00:00'), 'o': 34295.933594, 'c': 34269.523438, 'h': 34834.707031, 'l': 32940.1875} \n",
      "\n",
      "{'a': None, 'b': None, 'c': None, 'd': None, 'e': None}\n",
      "Third candle: {'t': Timestamp('2021-01-29 00:00:00'), 'o': 34318.671875, 'c': 34316.386719, 'h': 38406.261719, 'l': 32064.814453} \n",
      "Second candle: {'t': Timestamp('2021-01-30 00:00:00'), 'o': 34295.933594, 'c': 34269.523438, 'h': 34834.707031, 'l': 32940.1875} \n",
      "First candle: {'t': Timestamp('2021-01-31 00:00:00'), 'o': 34270.878906, 'c': 33114.359375, 'h': 34288.332031, 'l': 32270.175781} \n",
      "\n",
      "{'a': None, 'b': {'t': Timestamp('2021-01-31 00:00:00'), 'o': 34270.878906, 'c': 33114.359375, 'h': 34288.332031, 'l': 32270.175781}, 'c': None, 'd': None, 'e': None}\n",
      "Third candle: {'t': Timestamp('2021-01-30 00:00:00'), 'o': 34295.933594, 'c': 34269.523438, 'h': 34834.707031, 'l': 32940.1875} \n",
      "Second candle: {'t': Timestamp('2021-01-31 00:00:00'), 'o': 34270.878906, 'c': 33114.359375, 'h': 34288.332031, 'l': 32270.175781} \n",
      "First candle: {'t': Timestamp('2021-02-01 00:00:00'), 'o': 33114.578125, 'c': 33537.175781, 'h': 34638.214844, 'l': 32384.228516} \n",
      "\n",
      "{'a': None, 'b': None, 'c': None, 'd': None, 'e': None}\n",
      "Third candle: {'t': Timestamp('2021-01-31 00:00:00'), 'o': 34270.878906, 'c': 33114.359375, 'h': 34288.332031, 'l': 32270.175781} \n",
      "Second candle: {'t': Timestamp('2021-02-01 00:00:00'), 'o': 33114.578125, 'c': 33537.175781, 'h': 34638.214844, 'l': 32384.228516} \n",
      "First candle: {'t': Timestamp('2021-02-02 00:00:00'), 'o': 33533.199219, 'c': 35510.289063, 'h': 35896.882813, 'l': 33489.21875} \n",
      "\n",
      "{'a': None, 'b': None, 'c': None, 'd': None, 'e': None}\n",
      "Third candle: {'t': Timestamp('2021-02-01 00:00:00'), 'o': 33114.578125, 'c': 33537.175781, 'h': 34638.214844, 'l': 32384.228516} \n",
      "Second candle: {'t': Timestamp('2021-02-02 00:00:00'), 'o': 33533.199219, 'c': 35510.289063, 'h': 35896.882813, 'l': 33489.21875} \n",
      "First candle: {'t': Timestamp('2021-02-03 00:00:00'), 'o': 35510.820313, 'c': 37472.089844, 'h': 37480.1875, 'l': 35443.984375} \n",
      "\n",
      "{'a': None, 'b': None, 'c': None, 'd': None, 'e': None}\n",
      "Third candle: {'t': Timestamp('2021-02-02 00:00:00'), 'o': 33533.199219, 'c': 35510.289063, 'h': 35896.882813, 'l': 33489.21875} \n",
      "Second candle: {'t': Timestamp('2021-02-03 00:00:00'), 'o': 35510.820313, 'c': 37472.089844, 'h': 37480.1875, 'l': 35443.984375} \n",
      "First candle: {'t': Timestamp('2021-02-04 00:00:00'), 'o': 37475.105469, 'c': 36926.066406, 'h': 38592.175781, 'l': 36317.5} \n",
      "\n",
      "{'a': None, 'b': {'t': Timestamp('2021-02-04 00:00:00'), 'o': 37475.105469, 'c': 36926.066406, 'h': 38592.175781, 'l': 36317.5}, 'c': None, 'd': None, 'e': None}\n",
      "Third candle: {'t': Timestamp('2021-02-03 00:00:00'), 'o': 35510.820313, 'c': 37472.089844, 'h': 37480.1875, 'l': 35443.984375} \n",
      "Second candle: {'t': Timestamp('2021-02-04 00:00:00'), 'o': 37475.105469, 'c': 36926.066406, 'h': 38592.175781, 'l': 36317.5} \n",
      "First candle: {'t': Timestamp('2021-02-05 00:00:00'), 'o': 36931.546875, 'c': 38144.308594, 'h': 38225.90625, 'l': 36658.761719} \n",
      "\n",
      "{'a': None, 'b': None, 'c': None, 'd': None, 'e': None}\n",
      "Third candle: {'t': Timestamp('2021-02-04 00:00:00'), 'o': 37475.105469, 'c': 36926.066406, 'h': 38592.175781, 'l': 36317.5} \n",
      "Second candle: {'t': Timestamp('2021-02-05 00:00:00'), 'o': 36931.546875, 'c': 38144.308594, 'h': 38225.90625, 'l': 36658.761719} \n",
      "First candle: {'t': Timestamp('2021-02-06 00:00:00'), 'o': 38138.386719, 'c': 39266.011719, 'h': 40846.546875, 'l': 38138.386719} \n",
      "\n",
      "{'a': None, 'b': None, 'c': None, 'd': None, 'e': None}\n",
      "Third candle: {'t': Timestamp('2021-02-05 00:00:00'), 'o': 36931.546875, 'c': 38144.308594, 'h': 38225.90625, 'l': 36658.761719} \n",
      "Second candle: {'t': Timestamp('2021-02-06 00:00:00'), 'o': 38138.386719, 'c': 39266.011719, 'h': 40846.546875, 'l': 38138.386719} \n",
      "First candle: {'t': Timestamp('2021-02-07 00:00:00'), 'o': 39250.191406, 'c': 38903.441406, 'h': 39621.835938, 'l': 37446.152344} \n",
      "\n",
      "{'a': None, 'b': {'t': Timestamp('2021-02-07 00:00:00'), 'o': 39250.191406, 'c': 38903.441406, 'h': 39621.835938, 'l': 37446.152344}, 'c': None, 'd': None, 'e': None}\n",
      "Third candle: {'t': Timestamp('2021-02-06 00:00:00'), 'o': 38138.386719, 'c': 39266.011719, 'h': 40846.546875, 'l': 38138.386719} \n",
      "Second candle: {'t': Timestamp('2021-02-07 00:00:00'), 'o': 39250.191406, 'c': 38903.441406, 'h': 39621.835938, 'l': 37446.152344} \n",
      "First candle: {'t': Timestamp('2021-02-08 00:00:00'), 'o': 38886.828125, 'c': 46196.464844, 'h': 46203.929688, 'l': 38076.324219} \n",
      "\n",
      "{'a': None, 'b': None, 'c': None, 'd': None, 'e': None}\n",
      "Third candle: {'t': Timestamp('2021-02-07 00:00:00'), 'o': 39250.191406, 'c': 38903.441406, 'h': 39621.835938, 'l': 37446.152344} \n",
      "Second candle: {'t': Timestamp('2021-02-08 00:00:00'), 'o': 38886.828125, 'c': 46196.464844, 'h': 46203.929688, 'l': 38076.324219} \n",
      "First candle: {'t': Timestamp('2021-02-09 00:00:00'), 'o': 46184.992188, 'c': 46481.105469, 'h': 48003.722656, 'l': 45166.960938} \n",
      "\n",
      "{'a': None, 'b': None, 'c': None, 'd': None, 'e': None}\n",
      "Third candle: {'t': Timestamp('2021-02-08 00:00:00'), 'o': 38886.828125, 'c': 46196.464844, 'h': 46203.929688, 'l': 38076.324219} \n",
      "Second candle: {'t': Timestamp('2021-02-09 00:00:00'), 'o': 46184.992188, 'c': 46481.105469, 'h': 48003.722656, 'l': 45166.960938} \n",
      "First candle: {'t': Timestamp('2021-02-10 00:00:00'), 'o': 46469.761719, 'c': 44918.183594, 'h': 47145.566406, 'l': 43881.152344} \n",
      "\n",
      "{'a': None, 'b': {'t': Timestamp('2021-02-10 00:00:00'), 'o': 46469.761719, 'c': 44918.183594, 'h': 47145.566406, 'l': 43881.152344}, 'c': None, 'd': None, 'e': None}\n",
      "Third candle: {'t': Timestamp('2021-02-09 00:00:00'), 'o': 46184.992188, 'c': 46481.105469, 'h': 48003.722656, 'l': 45166.960938} \n",
      "Second candle: {'t': Timestamp('2021-02-10 00:00:00'), 'o': 46469.761719, 'c': 44918.183594, 'h': 47145.566406, 'l': 43881.152344} \n",
      "First candle: {'t': Timestamp('2021-02-11 00:00:00'), 'o': 44898.710938, 'c': 47909.332031, 'h': 48463.46875, 'l': 44187.761719} \n",
      "\n",
      "{'a': None, 'b': None, 'c': None, 'd': None, 'e': None}\n",
      "Third candle: {'t': Timestamp('2021-02-10 00:00:00'), 'o': 46469.761719, 'c': 44918.183594, 'h': 47145.566406, 'l': 43881.152344} \n",
      "Second candle: {'t': Timestamp('2021-02-11 00:00:00'), 'o': 44898.710938, 'c': 47909.332031, 'h': 48463.46875, 'l': 44187.761719} \n",
      "First candle: {'t': Timestamp('2021-02-12 00:00:00'), 'o': 47877.035156, 'c': 47504.851563, 'h': 48745.734375, 'l': 46424.976563} \n",
      "\n",
      "{'a': None, 'b': None, 'c': None, 'd': None, 'e': None}\n",
      "Third candle: {'t': Timestamp('2021-02-11 00:00:00'), 'o': 44898.710938, 'c': 47909.332031, 'h': 48463.46875, 'l': 44187.761719} \n",
      "Second candle: {'t': Timestamp('2021-02-12 00:00:00'), 'o': 47877.035156, 'c': 47504.851563, 'h': 48745.734375, 'l': 46424.976563} \n",
      "First candle: {'t': Timestamp('2021-02-13 00:00:00'), 'o': 47491.203125, 'c': 47105.515625, 'h': 48047.746094, 'l': 46392.28125} \n",
      "\n",
      "{'a': None, 'b': {'t': Timestamp('2021-02-13 00:00:00'), 'o': 47491.203125, 'c': 47105.515625, 'h': 48047.746094, 'l': 46392.28125}, 'c': None, 'd': None, 'e': None}\n",
      "Third candle: {'t': Timestamp('2021-02-12 00:00:00'), 'o': 47877.035156, 'c': 47504.851563, 'h': 48745.734375, 'l': 46424.976563} \n",
      "Second candle: {'t': Timestamp('2021-02-13 00:00:00'), 'o': 47491.203125, 'c': 47105.515625, 'h': 48047.746094, 'l': 46392.28125} \n",
      "First candle: {'t': Timestamp('2021-02-14 00:00:00'), 'o': 47114.507813, 'c': 48717.289063, 'h': 49487.640625, 'l': 47114.507813} \n",
      "\n",
      "{'a': None, 'b': None, 'c': None, 'd': None, 'e': None}\n",
      "Third candle: {'t': Timestamp('2021-02-13 00:00:00'), 'o': 47491.203125, 'c': 47105.515625, 'h': 48047.746094, 'l': 46392.28125} \n",
      "Second candle: {'t': Timestamp('2021-02-14 00:00:00'), 'o': 47114.507813, 'c': 48717.289063, 'h': 49487.640625, 'l': 47114.507813} \n",
      "First candle: {'t': Timestamp('2021-02-15 00:00:00'), 'o': 48696.535156, 'c': 47945.058594, 'h': 48875.570313, 'l': 46347.476563} \n",
      "\n",
      "{'a': None, 'b': {'t': Timestamp('2021-02-15 00:00:00'), 'o': 48696.535156, 'c': 47945.058594, 'h': 48875.570313, 'l': 46347.476563}, 'c': None, 'd': None, 'e': None}\n",
      "Third candle: {'t': Timestamp('2021-02-14 00:00:00'), 'o': 47114.507813, 'c': 48717.289063, 'h': 49487.640625, 'l': 47114.507813} \n",
      "Second candle: {'t': Timestamp('2021-02-15 00:00:00'), 'o': 48696.535156, 'c': 47945.058594, 'h': 48875.570313, 'l': 46347.476563} \n",
      "First candle: {'t': Timestamp('2021-02-16 00:00:00'), 'o': 47944.457031, 'c': 49199.871094, 'h': 50341.101563, 'l': 47201.304688} \n",
      "\n",
      "{'a': None, 'b': None, 'c': None, 'd': None, 'e': None}\n",
      "Third candle: {'t': Timestamp('2021-02-15 00:00:00'), 'o': 48696.535156, 'c': 47945.058594, 'h': 48875.570313, 'l': 46347.476563} \n",
      "Second candle: {'t': Timestamp('2021-02-16 00:00:00'), 'o': 47944.457031, 'c': 49199.871094, 'h': 50341.101563, 'l': 47201.304688} \n",
      "First candle: {'t': Timestamp('2021-02-17 00:00:00'), 'o': 49207.277344, 'c': 52149.007813, 'h': 52533.914063, 'l': 49072.378906} \n",
      "\n"
     ]
    }
   ],
   "source": [
    "localmin_range = {}\n",
    "\n",
    "prev = {\n",
    "    't' : None,\n",
    "    'o' : None,\n",
    "    'c' : None,\n",
    "    'h' : None,\n",
    "    'l' : None   \n",
    "}\n",
    "\n",
    "# store current candle\n",
    "curr = {\n",
    "    't' : None,\n",
    "    'o' : None,\n",
    "    'c' : None,\n",
    "    'h' : None,\n",
    "    'l' : None \n",
    "}\n",
    "\n",
    "# store certifying candle (certifies if the max/min is created)\n",
    "cert = {\n",
    "    't' : None,\n",
    "    'o' : None,\n",
    "    'c' : None,\n",
    "    'h' : None,\n",
    "    'l' : None \n",
    "}\n",
    "\n",
    "double_bottom = {'a': None, 'b': None, 'c': None, 'd': None, 'e': None}\n",
    "\n",
    "for index in intra.index:\n",
    "    cert_candle = update_cert(cert, index, intra)\n",
    "    curr_candle = update_curr(curr, index, intra)\n",
    "    prev_candle = update_prev(prev, index, intra)\n",
    "    \n",
    "    \n",
    "    # make max counter\n",
    "    \n",
    "    \n",
    "    # create dict to store candle information\n",
    "#     min_dict = {}\n",
    "    \n",
    "    # to make dictionary keys\n",
    "    \n",
    "    \n",
    "#     if curr_candle and prev_candle:\n",
    "#         # get local min\n",
    "#         if (curr_candle['c'] < cert_candle['c']) & (curr_candle['c'] < prev_candle['c']):\n",
    "#             min_dict = curr_candle\n",
    "# #             max_dict['counter'] = max_counter\n",
    "    localmin_range[key_counter] = find_min(cert_candle, curr_candle, prev_candle)\n",
    "    \n",
    "#     previous_low = \n",
    "    # store point b\n",
    "    double_bottom['b'] = find_min(cert_candle, curr_candle, prev_candle)\n",
    "\n",
    "    print(double_bottom)\n",
    "    print(f\"Third candle: {prev_candle} \\nSecond candle: {curr_candle} \\nFirst candle: {cert_candle} \\n\")\n",
    "#     df_min = pd.DataFrame(localmin_range).T\n",
    "#     df_min.set_index(df_min['t'], inplace=True)\n",
    "#             print(df_min)"
   ]
  },
  {
   "cell_type": "code",
   "execution_count": null,
   "id": "45e3271b",
   "metadata": {},
   "outputs": [],
   "source": [
    "# potentially put in previous high as another variable\n",
    "\n",
    "# b and d must be found to find c, a and e.\n",
    "\n",
    "\n",
    "\n",
    "# point b is a local min \n",
    "# and point c is a local max that is greater than b and less than a\n",
    "# and point d is less than c and in the range (it's close or wick) of b (close and low wick)\n",
    "# and e closes above c\n",
    "# BUY\n",
    "\n"
   ]
  },
  {
   "cell_type": "code",
   "execution_count": 42,
   "id": "9541a60a",
   "metadata": {},
   "outputs": [],
   "source": [
    "# Logic to store double bottom points\n",
    "# logic to break pattern\n",
    "# Logic for entry\n",
    "# Make another column called max and min"
   ]
  },
  {
   "cell_type": "code",
   "execution_count": 160,
   "id": "3dcfebcd",
   "metadata": {},
   "outputs": [],
   "source": [
    "def find_max(cert_candle, curr_candle, prev_candle):\n",
    "    # get local max\n",
    "    max_dict = {}\n",
    "    if curr_candle and prev_candle:       \n",
    "        if (curr_candle['c'] > cert_candle['c']) & (curr_candle['c'] > prev_candle['c']):\n",
    "            max_dict = curr_candle\n",
    "            return max_dict\n",
    "        \n",
    "def find_min(cert_candle, curr_candle, prev_candle):   \n",
    "    # get local min\n",
    "    min_dict = {}\n",
    "    if curr_candle and prev_candle:\n",
    "        if (curr_candle['c'] < cert_candle['c']) & (curr_candle['c'] < prev_candle['c']):\n",
    "            min_dict = curr_candle\n",
    "            return min_dict"
   ]
  },
  {
   "cell_type": "code",
   "execution_count": null,
   "id": "703784da",
   "metadata": {},
   "outputs": [],
   "source": []
  }
 ],
 "metadata": {
  "kernelspec": {
   "display_name": "dev",
   "language": "python",
   "name": "dev"
  },
  "language_info": {
   "codemirror_mode": {
    "name": "ipython",
    "version": 3
   },
   "file_extension": ".py",
   "mimetype": "text/x-python",
   "name": "python",
   "nbconvert_exporter": "python",
   "pygments_lexer": "ipython3",
   "version": "3.7.10"
  }
 },
 "nbformat": 4,
 "nbformat_minor": 5
}
